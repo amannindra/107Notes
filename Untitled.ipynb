{
 "cells": [
  {
   "cell_type": "code",
   "execution_count": 2,
   "id": "fcb8225c-cc63-4af7-8ea9-e580e2c1277d",
   "metadata": {},
   "outputs": [],
   "source": [
    "import numpy as np\n",
    "import warnings\n",
    "warnings.filterwarnings(\"ignore\")\n",
    "%matplotlib inline\n",
    "import matplotlib.pyplot as plots\n",
    "from datascience import *\n",
    "plots.style.use(\"fivethirtyeight\")\n",
    "plots.rcParams[\"patch.force_edgecolor\"]=True\n",
    "import math"
   ]
  },
  {
   "cell_type": "code",
   "execution_count": 4,
   "id": "4ecc199d-6028-4ba4-9270-29f2e2869481",
   "metadata": {},
   "outputs": [
    {
     "data": {
      "text/html": [
       "<table border=\"1\" class=\"dataframe\">\n",
       "    <thead>\n",
       "        <tr>\n",
       "            <th>Birth Weight</th> <th>Gestational Days</th> <th>Maternal Age</th> <th>Maternal Height</th> <th>Maternal Pregnancy Weight</th> <th>Maternal Smoker</th>\n",
       "        </tr>\n",
       "    </thead>\n",
       "    <tbody>\n",
       "        <tr>\n",
       "            <td>120         </td> <td>284             </td> <td>27          </td> <td>62             </td> <td>100                      </td> <td>False          </td>\n",
       "        </tr>\n",
       "        <tr>\n",
       "            <td>113         </td> <td>282             </td> <td>33          </td> <td>64             </td> <td>135                      </td> <td>False          </td>\n",
       "        </tr>\n",
       "        <tr>\n",
       "            <td>128         </td> <td>279             </td> <td>28          </td> <td>64             </td> <td>115                      </td> <td>True           </td>\n",
       "        </tr>\n",
       "        <tr>\n",
       "            <td>108         </td> <td>282             </td> <td>23          </td> <td>67             </td> <td>125                      </td> <td>True           </td>\n",
       "        </tr>\n",
       "        <tr>\n",
       "            <td>136         </td> <td>286             </td> <td>25          </td> <td>62             </td> <td>93                       </td> <td>False          </td>\n",
       "        </tr>\n",
       "        <tr>\n",
       "            <td>138         </td> <td>244             </td> <td>33          </td> <td>62             </td> <td>178                      </td> <td>False          </td>\n",
       "        </tr>\n",
       "        <tr>\n",
       "            <td>132         </td> <td>245             </td> <td>23          </td> <td>65             </td> <td>140                      </td> <td>False          </td>\n",
       "        </tr>\n",
       "        <tr>\n",
       "            <td>120         </td> <td>289             </td> <td>25          </td> <td>62             </td> <td>125                      </td> <td>False          </td>\n",
       "        </tr>\n",
       "        <tr>\n",
       "            <td>143         </td> <td>299             </td> <td>30          </td> <td>66             </td> <td>136                      </td> <td>True           </td>\n",
       "        </tr>\n",
       "        <tr>\n",
       "            <td>140         </td> <td>351             </td> <td>27          </td> <td>68             </td> <td>120                      </td> <td>False          </td>\n",
       "        </tr>\n",
       "    </tbody>\n",
       "</table>\n",
       "<p>... (1164 rows omitted)</p>"
      ],
      "text/plain": [
       "Birth Weight | Gestational Days | Maternal Age | Maternal Height | Maternal Pregnancy Weight | Maternal Smoker\n",
       "120          | 284              | 27           | 62              | 100                       | False\n",
       "113          | 282              | 33           | 64              | 135                       | False\n",
       "128          | 279              | 28           | 64              | 115                       | True\n",
       "108          | 282              | 23           | 67              | 125                       | True\n",
       "136          | 286              | 25           | 62              | 93                        | False\n",
       "138          | 244              | 33           | 62              | 178                       | False\n",
       "132          | 245              | 23           | 65              | 140                       | False\n",
       "120          | 289              | 25           | 62              | 125                       | False\n",
       "143          | 299              | 30           | 66              | 136                       | True\n",
       "140          | 351              | 27           | 68              | 120                       | False\n",
       "... (1164 rows omitted)"
      ]
     },
     "execution_count": 4,
     "metadata": {},
     "output_type": "execute_result"
    }
   ],
   "source": [
    "baby = Table().read_table(\".csv/baby.csv\")\n",
    "baby"
   ]
  },
  {
   "cell_type": "code",
   "execution_count": null,
   "id": "c5fa26f5-edbe-4c1b-9412-e43b37ae5513",
   "metadata": {},
   "outputs": [],
   "source": []
  }
 ],
 "metadata": {
  "kernelspec": {
   "display_name": "Python 3 (ipykernel)",
   "language": "python",
   "name": "python3"
  },
  "language_info": {
   "codemirror_mode": {
    "name": "ipython",
    "version": 3
   },
   "file_extension": ".py",
   "mimetype": "text/x-python",
   "name": "python",
   "nbconvert_exporter": "python",
   "pygments_lexer": "ipython3",
   "version": "3.11.9"
  }
 },
 "nbformat": 4,
 "nbformat_minor": 5
}
