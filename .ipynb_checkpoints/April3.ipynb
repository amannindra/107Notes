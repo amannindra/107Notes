{
 "cells": [
  {
   "cell_type": "code",
   "execution_count": 1,
   "id": "cd979bc5-227a-48d1-8f6a-1e52731d189b",
   "metadata": {},
   "outputs": [],
   "source": [
    "# Run this cell to set up the notebook, but please don't change it.\n",
    "\n",
    "# These lines import the Numpy and Datascience modules.\n",
    "import numpy as np\n",
    "from datascience import *\n",
    "# These lines do some fancy plotting magic.\n",
    "import matplotlib\n",
    "%matplotlib inline\n",
    "import matplotlib.pyplot as plt\n",
    "import pandas as pd\n",
    "plt.style.use('fivethirtyeight')\n",
    "import warnings\n",
    "warnings.simplefilter('ignore', FutureWarning)"
   ]
  },
  {
   "cell_type": "code",
   "execution_count": 2,
   "id": "3a8db8c4-8803-47cf-9ee6-bb4e43b44f47",
   "metadata": {},
   "outputs": [],
   "source": [
    "Unit = Table().read_table(\".csv/united.csv\")"
   ]
  },
  {
   "cell_type": "code",
   "execution_count": 3,
   "id": "21d9ec5a-fb7a-4d57-833d-022acd40fcc4",
   "metadata": {},
   "outputs": [
    {
     "data": {
      "text/html": [
       "<table border=\"1\" class=\"dataframe\">\n",
       "    <thead>\n",
       "        <tr>\n",
       "            <th>Date</th> <th>Flight Number</th> <th>Destination</th> <th>Delay</th>\n",
       "        </tr>\n",
       "    </thead>\n",
       "    <tbody>\n",
       "        <tr>\n",
       "            <td>6/1/15</td> <td>73           </td> <td>HNL        </td> <td>257  </td>\n",
       "        </tr>\n",
       "        <tr>\n",
       "            <td>6/1/15</td> <td>217          </td> <td>EWR        </td> <td>28   </td>\n",
       "        </tr>\n",
       "        <tr>\n",
       "            <td>6/1/15</td> <td>237          </td> <td>STL        </td> <td>-3   </td>\n",
       "        </tr>\n",
       "        <tr>\n",
       "            <td>6/1/15</td> <td>250          </td> <td>SAN        </td> <td>0    </td>\n",
       "        </tr>\n",
       "        <tr>\n",
       "            <td>6/1/15</td> <td>267          </td> <td>PHL        </td> <td>64   </td>\n",
       "        </tr>\n",
       "        <tr>\n",
       "            <td>6/1/15</td> <td>273          </td> <td>SEA        </td> <td>-6   </td>\n",
       "        </tr>\n",
       "        <tr>\n",
       "            <td>6/1/15</td> <td>278          </td> <td>SEA        </td> <td>-8   </td>\n",
       "        </tr>\n",
       "        <tr>\n",
       "            <td>6/1/15</td> <td>292          </td> <td>EWR        </td> <td>12   </td>\n",
       "        </tr>\n",
       "        <tr>\n",
       "            <td>6/1/15</td> <td>300          </td> <td>HNL        </td> <td>20   </td>\n",
       "        </tr>\n",
       "        <tr>\n",
       "            <td>6/1/15</td> <td>317          </td> <td>IND        </td> <td>-10  </td>\n",
       "        </tr>\n",
       "    </tbody>\n",
       "</table>\n",
       "<p>... (13815 rows omitted)</p>"
      ],
      "text/plain": [
       "<IPython.core.display.HTML object>"
      ]
     },
     "metadata": {},
     "output_type": "display_data"
    }
   ],
   "source": [
    "Unit.show(10)\n"
   ]
  },
  {
   "cell_type": "code",
   "execution_count": 4,
   "id": "d685fd37-3049-4241-9725-e8dc0f4718c0",
   "metadata": {},
   "outputs": [
    {
     "name": "stdout",
     "output_type": "stream",
     "text": [
      "13825\n",
      "13825\n"
     ]
    }
   ],
   "source": [
    "\n",
    "print(Unit.select(\"Flight Number\").num_rows)\n",
    "print(Unit.select(\"Delay\").num_rows)\n",
    "#Unit.plot(make_array(Unit.column(\"Flight Number\")),make_array(Unit.column(\"Delay\")))\n"
   ]
  },
  {
   "cell_type": "code",
   "execution_count": 5,
   "id": "2e500268-a8c9-41c4-896f-792bae8d2a4e",
   "metadata": {},
   "outputs": [],
   "source": [
    "united = Unit.with_column(\"Row\", np.arange(Unit.num_rows)).move_to_start(\"Row\")"
   ]
  },
  {
   "cell_type": "code",
   "execution_count": 6,
   "id": "822a15f6-1bec-4e6c-9b95-c64e371cb0f0",
   "metadata": {},
   "outputs": [
    {
     "data": {
      "text/html": [
       "<table border=\"1\" class=\"dataframe\">\n",
       "    <thead>\n",
       "        <tr>\n",
       "            <th>Row</th> <th>Date</th> <th>Flight Number</th> <th>Destination</th> <th>Delay</th>\n",
       "        </tr>\n",
       "    </thead>\n",
       "    <tbody>\n",
       "        <tr>\n",
       "            <td>0   </td> <td>6/1/15</td> <td>73           </td> <td>HNL        </td> <td>257  </td>\n",
       "        </tr>\n",
       "        <tr>\n",
       "            <td>1   </td> <td>6/1/15</td> <td>217          </td> <td>EWR        </td> <td>28   </td>\n",
       "        </tr>\n",
       "        <tr>\n",
       "            <td>2   </td> <td>6/1/15</td> <td>237          </td> <td>STL        </td> <td>-3   </td>\n",
       "        </tr>\n",
       "        <tr>\n",
       "            <td>3   </td> <td>6/1/15</td> <td>250          </td> <td>SAN        </td> <td>0    </td>\n",
       "        </tr>\n",
       "        <tr>\n",
       "            <td>4   </td> <td>6/1/15</td> <td>267          </td> <td>PHL        </td> <td>64   </td>\n",
       "        </tr>\n",
       "        <tr>\n",
       "            <td>5   </td> <td>6/1/15</td> <td>273          </td> <td>SEA        </td> <td>-6   </td>\n",
       "        </tr>\n",
       "        <tr>\n",
       "            <td>6   </td> <td>6/1/15</td> <td>278          </td> <td>SEA        </td> <td>-8   </td>\n",
       "        </tr>\n",
       "        <tr>\n",
       "            <td>7   </td> <td>6/1/15</td> <td>292          </td> <td>EWR        </td> <td>12   </td>\n",
       "        </tr>\n",
       "        <tr>\n",
       "            <td>8   </td> <td>6/1/15</td> <td>300          </td> <td>HNL        </td> <td>20   </td>\n",
       "        </tr>\n",
       "        <tr>\n",
       "            <td>9   </td> <td>6/1/15</td> <td>317          </td> <td>IND        </td> <td>-10  </td>\n",
       "        </tr>\n",
       "    </tbody>\n",
       "</table>\n",
       "<p>... (13815 rows omitted)</p>"
      ],
      "text/plain": [
       "Row  | Date   | Flight Number | Destination | Delay\n",
       "0    | 6/1/15 | 73            | HNL         | 257\n",
       "1    | 6/1/15 | 217           | EWR         | 28\n",
       "2    | 6/1/15 | 237           | STL         | -3\n",
       "3    | 6/1/15 | 250           | SAN         | 0\n",
       "4    | 6/1/15 | 267           | PHL         | 64\n",
       "5    | 6/1/15 | 273           | SEA         | -6\n",
       "6    | 6/1/15 | 278           | SEA         | -8\n",
       "7    | 6/1/15 | 292           | EWR         | 12\n",
       "8    | 6/1/15 | 300           | HNL         | 20\n",
       "9    | 6/1/15 | 317           | IND         | -10\n",
       "... (13815 rows omitted)"
      ]
     },
     "execution_count": 6,
     "metadata": {},
     "output_type": "execute_result"
    }
   ],
   "source": [
    "united"
   ]
  },
  {
   "cell_type": "code",
   "execution_count": 7,
   "id": "545450e4-bbd7-4a83-966d-d9ce0f11ade0",
   "metadata": {},
   "outputs": [
    {
     "data": {
      "text/html": [
       "<table border=\"1\" class=\"dataframe\">\n",
       "    <thead>\n",
       "        <tr>\n",
       "            <th>Row</th> <th>Date</th> <th>Flight Number</th> <th>Destination</th> <th>Delay</th>\n",
       "        </tr>\n",
       "    </thead>\n",
       "    <tbody>\n",
       "        <tr>\n",
       "            <td>26  </td> <td>6/1/15</td> <td>502          </td> <td>JFK        </td> <td>-4   </td>\n",
       "        </tr>\n",
       "        <tr>\n",
       "            <td>33  </td> <td>6/1/15</td> <td>637          </td> <td>JFK        </td> <td>141  </td>\n",
       "        </tr>\n",
       "        <tr>\n",
       "            <td>39  </td> <td>6/1/15</td> <td>704          </td> <td>JFK        </td> <td>-8   </td>\n",
       "        </tr>\n",
       "        <tr>\n",
       "            <td>50  </td> <td>6/1/15</td> <td>758          </td> <td>JFK        </td> <td>-5   </td>\n",
       "        </tr>\n",
       "        <tr>\n",
       "            <td>51  </td> <td>6/1/15</td> <td>760          </td> <td>JFK        </td> <td>352  </td>\n",
       "        </tr>\n",
       "        <tr>\n",
       "            <td>56  </td> <td>6/1/15</td> <td>824          </td> <td>JFK        </td> <td>3    </td>\n",
       "        </tr>\n",
       "        <tr>\n",
       "            <td>57  </td> <td>6/1/15</td> <td>898          </td> <td>JFK        </td> <td>290  </td>\n",
       "        </tr>\n",
       "        <tr>\n",
       "            <td>179 </td> <td>6/2/15</td> <td>502          </td> <td>JFK        </td> <td>0    </td>\n",
       "        </tr>\n",
       "        <tr>\n",
       "            <td>188 </td> <td>6/2/15</td> <td>637          </td> <td>JFK        </td> <td>202  </td>\n",
       "        </tr>\n",
       "        <tr>\n",
       "            <td>194 </td> <td>6/2/15</td> <td>704          </td> <td>JFK        </td> <td>-11  </td>\n",
       "        </tr>\n",
       "    </tbody>\n",
       "</table>\n",
       "<p>... (593 rows omitted)</p>"
      ],
      "text/plain": [
       "Row  | Date   | Flight Number | Destination | Delay\n",
       "26   | 6/1/15 | 502           | JFK         | -4\n",
       "33   | 6/1/15 | 637           | JFK         | 141\n",
       "39   | 6/1/15 | 704           | JFK         | -8\n",
       "50   | 6/1/15 | 758           | JFK         | -5\n",
       "51   | 6/1/15 | 760           | JFK         | 352\n",
       "56   | 6/1/15 | 824           | JFK         | 3\n",
       "57   | 6/1/15 | 898           | JFK         | 290\n",
       "179  | 6/2/15 | 502           | JFK         | 0\n",
       "188  | 6/2/15 | 637           | JFK         | 202\n",
       "194  | 6/2/15 | 704           | JFK         | -11\n",
       "... (593 rows omitted)"
      ]
     },
     "execution_count": 7,
     "metadata": {},
     "output_type": "execute_result"
    }
   ],
   "source": [
    "united.where(\"Destination\", \"JFK\")"
   ]
  },
  {
   "cell_type": "code",
   "execution_count": 8,
   "id": "00086dc1-1a04-4cc1-b5d9-3c3cbebc1dc6",
   "metadata": {},
   "outputs": [
    {
     "data": {
      "text/html": [
       "<table border=\"1\" class=\"dataframe\">\n",
       "    <thead>\n",
       "        <tr>\n",
       "            <th>Row</th> <th>Date</th> <th>Flight Number</th> <th>Destination</th> <th>Delay</th>\n",
       "        </tr>\n",
       "    </thead>\n",
       "    <tbody>\n",
       "        <tr>\n",
       "            <td>0   </td> <td>6/1/15 </td> <td>73           </td> <td>HNL        </td> <td>257  </td>\n",
       "        </tr>\n",
       "        <tr>\n",
       "            <td>1000</td> <td>6/7/15 </td> <td>1692         </td> <td>EWR        </td> <td>7    </td>\n",
       "        </tr>\n",
       "        <tr>\n",
       "            <td>2000</td> <td>6/14/15</td> <td>824          </td> <td>JFK        </td> <td>-1   </td>\n",
       "        </tr>\n",
       "        <tr>\n",
       "            <td>3000</td> <td>6/21/15</td> <td>217          </td> <td>EWR        </td> <td>5    </td>\n",
       "        </tr>\n",
       "        <tr>\n",
       "            <td>4000</td> <td>6/27/15</td> <td>1401         </td> <td>SAN        </td> <td>-4   </td>\n",
       "        </tr>\n",
       "        <tr>\n",
       "            <td>5000</td> <td>7/4/15 </td> <td>1614         </td> <td>LAS        </td> <td>-2   </td>\n",
       "        </tr>\n",
       "        <tr>\n",
       "            <td>6000</td> <td>7/11/15</td> <td>401          </td> <td>CLE        </td> <td>4    </td>\n",
       "        </tr>\n",
       "        <tr>\n",
       "            <td>7000</td> <td>7/17/15</td> <td>1645         </td> <td>IAD        </td> <td>0    </td>\n",
       "        </tr>\n",
       "        <tr>\n",
       "            <td>8000</td> <td>7/24/15</td> <td>624          </td> <td>ORD        </td> <td>61   </td>\n",
       "        </tr>\n",
       "        <tr>\n",
       "            <td>9000</td> <td>7/30/15</td> <td>1728         </td> <td>ORD        </td> <td>209  </td>\n",
       "        </tr>\n",
       "    </tbody>\n",
       "</table>\n",
       "<p>... (4 rows omitted)</p>"
      ],
      "text/plain": [
       "Row  | Date    | Flight Number | Destination | Delay\n",
       "0    | 6/1/15  | 73            | HNL         | 257\n",
       "1000 | 6/7/15  | 1692          | EWR         | 7\n",
       "2000 | 6/14/15 | 824           | JFK         | -1\n",
       "3000 | 6/21/15 | 217           | EWR         | 5\n",
       "4000 | 6/27/15 | 1401          | SAN         | -4\n",
       "5000 | 7/4/15  | 1614          | LAS         | -2\n",
       "6000 | 7/11/15 | 401           | CLE         | 4\n",
       "7000 | 7/17/15 | 1645          | IAD         | 0\n",
       "8000 | 7/24/15 | 624           | ORD         | 61\n",
       "9000 | 7/30/15 | 1728          | ORD         | 209\n",
       "... (4 rows omitted)"
      ]
     },
     "execution_count": 8,
     "metadata": {},
     "output_type": "execute_result"
    }
   ],
   "source": [
    "united.take(np.arange(0,united.num_rows,1000))"
   ]
  },
  {
   "cell_type": "code",
   "execution_count": 9,
   "id": "99700457-e7cd-4d02-b0a4-2977af854b65",
   "metadata": {},
   "outputs": [
    {
     "data": {
      "text/html": [
       "<table border=\"1\" class=\"dataframe\">\n",
       "    <thead>\n",
       "        <tr>\n",
       "            <th>Row</th> <th>Date</th> <th>Flight Number</th> <th>Destination</th> <th>Delay</th>\n",
       "        </tr>\n",
       "    </thead>\n",
       "    <tbody>\n",
       "        <tr>\n",
       "            <td>24  </td> <td>6/1/15</td> <td>480          </td> <td>PIT        </td> <td>5    </td>\n",
       "        </tr>\n",
       "        <tr>\n",
       "            <td>51  </td> <td>6/1/15</td> <td>760          </td> <td>JFK        </td> <td>352  </td>\n",
       "        </tr>\n",
       "        <tr>\n",
       "            <td>421 </td> <td>6/3/15</td> <td>1662         </td> <td>BOS        </td> <td>-2   </td>\n",
       "        </tr>\n",
       "        <tr>\n",
       "            <td>1040</td> <td>6/8/15</td> <td>294          </td> <td>STL        </td> <td>-5   </td>\n",
       "        </tr>\n",
       "    </tbody>\n",
       "</table>"
      ],
      "text/plain": [
       "Row  | Date   | Flight Number | Destination | Delay\n",
       "24   | 6/1/15 | 480           | PIT         | 5\n",
       "51   | 6/1/15 | 760           | JFK         | 352\n",
       "421  | 6/3/15 | 1662          | BOS         | -2\n",
       "1040 | 6/8/15 | 294           | STL         | -5"
      ]
     },
     "execution_count": 9,
     "metadata": {},
     "output_type": "execute_result"
    }
   ],
   "source": [
    "united.take(make_array(24,51,421,1040))"
   ]
  },
  {
   "cell_type": "code",
   "execution_count": 10,
   "id": "6fce867c-c4ae-48fa-9807-257b1a76f97d",
   "metadata": {},
   "outputs": [
    {
     "data": {
      "text/html": [
       "<table border=\"1\" class=\"dataframe\">\n",
       "    <thead>\n",
       "        <tr>\n",
       "            <th>Row</th> <th>Date</th> <th>Flight Number</th> <th>Destination</th> <th>Delay</th>\n",
       "        </tr>\n",
       "    </thead>\n",
       "    <tbody>\n",
       "        <tr>\n",
       "            <td>171 </td> <td>6/2/15</td> <td>437          </td> <td>LAS        </td> <td>-5   </td>\n",
       "        </tr>\n",
       "        <tr>\n",
       "            <td>179 </td> <td>6/2/15</td> <td>502          </td> <td>JFK        </td> <td>0    </td>\n",
       "        </tr>\n",
       "        <tr>\n",
       "            <td>187 </td> <td>6/2/15</td> <td>624          </td> <td>ORD        </td> <td>-3   </td>\n",
       "        </tr>\n",
       "        <tr>\n",
       "            <td>195 </td> <td>6/2/15</td> <td>705          </td> <td>ORD        </td> <td>0    </td>\n",
       "        </tr>\n",
       "        <tr>\n",
       "            <td>203 </td> <td>6/2/15</td> <td>756          </td> <td>DEN        </td> <td>-2   </td>\n",
       "        </tr>\n",
       "        <tr>\n",
       "            <td>211 </td> <td>6/2/15</td> <td>898          </td> <td>JFK        </td> <td>37   </td>\n",
       "        </tr>\n",
       "        <tr>\n",
       "            <td>219 </td> <td>6/2/15</td> <td>1083         </td> <td>LAX        </td> <td>9    </td>\n",
       "        </tr>\n",
       "        <tr>\n",
       "            <td>227 </td> <td>6/2/15</td> <td>1135         </td> <td>RDU        </td> <td>8    </td>\n",
       "        </tr>\n",
       "        <tr>\n",
       "            <td>235 </td> <td>6/2/15</td> <td>1195         </td> <td>IAH        </td> <td>1    </td>\n",
       "        </tr>\n",
       "        <tr>\n",
       "            <td>243 </td> <td>6/2/15</td> <td>1267         </td> <td>SAN        </td> <td>62   </td>\n",
       "        </tr>\n",
       "    </tbody>\n",
       "</table>\n",
       "<p>... (1697 rows omitted)</p>"
      ],
      "text/plain": [
       "Row  | Date   | Flight Number | Destination | Delay\n",
       "171  | 6/2/15 | 437           | LAS         | -5\n",
       "179  | 6/2/15 | 502           | JFK         | 0\n",
       "187  | 6/2/15 | 624           | ORD         | -3\n",
       "195  | 6/2/15 | 705           | ORD         | 0\n",
       "203  | 6/2/15 | 756           | DEN         | -2\n",
       "211  | 6/2/15 | 898           | JFK         | 37\n",
       "219  | 6/2/15 | 1083          | LAX         | 9\n",
       "227  | 6/2/15 | 1135          | RDU         | 8\n",
       "235  | 6/2/15 | 1195          | IAH         | 1\n",
       "243  | 6/2/15 | 1267          | SAN         | 62\n",
       "... (1697 rows omitted)"
      ]
     },
     "execution_count": 10,
     "metadata": {},
     "output_type": "execute_result"
    }
   ],
   "source": [
    "#\n",
    "start = np.random.choice(np.arange(1000))\n",
    "systematic_sample = united.take(np.arange(start, united.num_rows, 8))\n",
    "systematic_sample"
   ]
  },
  {
   "cell_type": "code",
   "execution_count": 11,
   "id": "e5632b1c-e2c5-4ae7-8c10-a3d4b71ac3f7",
   "metadata": {},
   "outputs": [],
   "source": [
    "dice = Table().with_column(\"Face\", np.arange(1,7))"
   ]
  },
  {
   "cell_type": "code",
   "execution_count": 12,
   "id": "9eac5029-03c4-4175-8a85-edfac007cdaf",
   "metadata": {},
   "outputs": [
    {
     "data": {
      "text/html": [
       "<table border=\"1\" class=\"dataframe\">\n",
       "    <thead>\n",
       "        <tr>\n",
       "            <th>Face</th>\n",
       "        </tr>\n",
       "    </thead>\n",
       "    <tbody>\n",
       "        <tr>\n",
       "            <td>1   </td>\n",
       "        </tr>\n",
       "        <tr>\n",
       "            <td>2   </td>\n",
       "        </tr>\n",
       "        <tr>\n",
       "            <td>3   </td>\n",
       "        </tr>\n",
       "        <tr>\n",
       "            <td>4   </td>\n",
       "        </tr>\n",
       "        <tr>\n",
       "            <td>5   </td>\n",
       "        </tr>\n",
       "        <tr>\n",
       "            <td>6   </td>\n",
       "        </tr>\n",
       "    </tbody>\n",
       "</table>"
      ],
      "text/plain": [
       "Face\n",
       "1\n",
       "2\n",
       "3\n",
       "4\n",
       "5\n",
       "6"
      ]
     },
     "execution_count": 12,
     "metadata": {},
     "output_type": "execute_result"
    }
   ],
   "source": [
    "dice\n"
   ]
  },
  {
   "cell_type": "code",
   "execution_count": 13,
   "id": "27080ef4-5258-4b49-8027-93201d6542ce",
   "metadata": {},
   "outputs": [
    {
     "data": {
      "text/html": [
       "<table border=\"1\" class=\"dataframe\">\n",
       "    <thead>\n",
       "        <tr>\n",
       "            <th>Face</th>\n",
       "        </tr>\n",
       "    </thead>\n",
       "    <tbody>\n",
       "        <tr>\n",
       "            <td>4   </td>\n",
       "        </tr>\n",
       "        <tr>\n",
       "            <td>1   </td>\n",
       "        </tr>\n",
       "        <tr>\n",
       "            <td>6   </td>\n",
       "        </tr>\n",
       "        <tr>\n",
       "            <td>6   </td>\n",
       "        </tr>\n",
       "        <tr>\n",
       "            <td>6   </td>\n",
       "        </tr>\n",
       "        <tr>\n",
       "            <td>5   </td>\n",
       "        </tr>\n",
       "        <tr>\n",
       "            <td>2   </td>\n",
       "        </tr>\n",
       "        <tr>\n",
       "            <td>5   </td>\n",
       "        </tr>\n",
       "        <tr>\n",
       "            <td>4   </td>\n",
       "        </tr>\n",
       "        <tr>\n",
       "            <td>1   </td>\n",
       "        </tr>\n",
       "    </tbody>\n",
       "</table>"
      ],
      "text/plain": [
       "Face\n",
       "4\n",
       "1\n",
       "6\n",
       "6\n",
       "6\n",
       "5\n",
       "2\n",
       "5\n",
       "4\n",
       "1"
      ]
     },
     "execution_count": 13,
     "metadata": {},
     "output_type": "execute_result"
    }
   ],
   "source": [
    "#Sample\n",
    "dice.sample(10)"
   ]
  },
  {
   "cell_type": "code",
   "execution_count": 14,
   "id": "ef19b326-240e-467b-a074-f879ef5a7550",
   "metadata": {},
   "outputs": [
    {
     "data": {
      "image/png": "[encoded data removed]",
      "text/plain": [
       "<Figure size 600x400 with 1 Axes>"
      ]
     },
     "metadata": {},
     "output_type": "display_data"
    }
   ],
   "source": [
    "roll_bins = np.arange(0.5,6.6,1)\n",
    "dice.sample(10).hist(bins=roll_bins)"
   ]
  },
  {
   "cell_type": "code",
   "execution_count": 15,
   "id": "f82c1960-4d2d-4bb2-a884-a662deee1f15",
   "metadata": {},
   "outputs": [
    {
     "data": {
      "image/png": "[encoded data removed]",
      "text/plain": [
       "<Figure size 600x400 with 1 Axes>"
      ]
     },
     "metadata": {},
     "output_type": "display_data"
    }
   ],
   "source": [
    "Unit_bins = np.arange(-20,201,5)\n",
    "Unit.hist(\"Delay\", bins=Unit_bins)"
   ]
  },
  {
   "cell_type": "code",
   "execution_count": 16,
   "id": "f7feb8ad-5ce4-4058-8827-acaf2ed1a9db",
   "metadata": {},
   "outputs": [
    {
     "data": {
      "image/png": "[encoded data removed]",
      "text/plain": [
       "<Figure size 600x400 with 1 Axes>"
      ]
     },
     "metadata": {},
     "output_type": "display_data"
    }
   ],
   "source": [
    "Unit.sample(100).hist(\"Delay\",bins=Unit_bins)"
   ]
  },
  {
   "cell_type": "code",
   "execution_count": 17,
   "id": "fa339d77-92eb-4114-9e02-0bf6da00b92d",
   "metadata": {},
   "outputs": [
    {
     "data": {
      "text/plain": [
       "<bound method DataFrame.info of           Date  Flight Number Destination  Delay\n",
       "0       6/1/15             73         HNL    257\n",
       "1       6/1/15            217         EWR     28\n",
       "2       6/1/15            237         STL     -3\n",
       "3       6/1/15            250         SAN      0\n",
       "4       6/1/15            267         PHL     64\n",
       "...        ...            ...         ...    ...\n",
       "13820  8/31/15           1978         LAS     -4\n",
       "13821  8/31/15           1993         IAD      8\n",
       "13822  8/31/15           1994         ORD      3\n",
       "13823  8/31/15           2000         PHX     -1\n",
       "13824  8/31/15           2013         EWR     -2\n",
       "\n",
       "[13825 rows x 4 columns]>"
      ]
     },
     "execution_count": 17,
     "metadata": {},
     "output_type": "execute_result"
    }
   ],
   "source": [
    "df= pd.read_csv(\".csv/united.csv\")\n",
    "df.info"
   ]
  },
  {
   "cell_type": "code",
   "execution_count": 18,
   "id": "edeac835-5507-4740-a54d-25117c1d849d",
   "metadata": {},
   "outputs": [
    {
     "data": {
      "text/html": [
       "<div>\n",
       "<style scoped>\n",
       "    .dataframe tbody tr th:only-of-type {\n",
       "        vertical-align: middle;\n",
       "    }\n",
       "\n",
       "    .dataframe tbody tr th {\n",
       "        vertical-align: top;\n",
       "    }\n",
       "\n",
       "    .dataframe thead th {\n",
       "        text-align: right;\n",
       "    }\n",
       "</style>\n",
       "<table border=\"1\" class=\"dataframe\">\n",
       "  <thead>\n",
       "    <tr style=\"text-align: right;\">\n",
       "      <th></th>\n",
       "      <th>Flight Number</th>\n",
       "      <th>Delay</th>\n",
       "    </tr>\n",
       "  </thead>\n",
       "  <tbody>\n",
       "    <tr>\n",
       "      <th>count</th>\n",
       "      <td>13825.000000</td>\n",
       "      <td>13825.000000</td>\n",
       "    </tr>\n",
       "    <tr>\n",
       "      <th>mean</th>\n",
       "      <td>1133.415045</td>\n",
       "      <td>16.658156</td>\n",
       "    </tr>\n",
       "    <tr>\n",
       "      <th>std</th>\n",
       "      <td>571.858597</td>\n",
       "      <td>39.481628</td>\n",
       "    </tr>\n",
       "    <tr>\n",
       "      <th>min</th>\n",
       "      <td>3.000000</td>\n",
       "      <td>-16.000000</td>\n",
       "    </tr>\n",
       "    <tr>\n",
       "      <th>25%</th>\n",
       "      <td>591.000000</td>\n",
       "      <td>-2.000000</td>\n",
       "    </tr>\n",
       "    <tr>\n",
       "      <th>50%</th>\n",
       "      <td>1178.000000</td>\n",
       "      <td>2.000000</td>\n",
       "    </tr>\n",
       "    <tr>\n",
       "      <th>75%</th>\n",
       "      <td>1670.000000</td>\n",
       "      <td>18.000000</td>\n",
       "    </tr>\n",
       "    <tr>\n",
       "      <th>max</th>\n",
       "      <td>2117.000000</td>\n",
       "      <td>580.000000</td>\n",
       "    </tr>\n",
       "  </tbody>\n",
       "</table>\n",
       "</div>"
      ],
      "text/plain": [
       "       Flight Number         Delay\n",
       "count   13825.000000  13825.000000\n",
       "mean     1133.415045     16.658156\n",
       "std       571.858597     39.481628\n",
       "min         3.000000    -16.000000\n",
       "25%       591.000000     -2.000000\n",
       "50%      1178.000000      2.000000\n",
       "75%      1670.000000     18.000000\n",
       "max      2117.000000    580.000000"
      ]
     },
     "execution_count": 18,
     "metadata": {},
     "output_type": "execute_result"
    }
   ],
   "source": [
    "df.describe()"
   ]
  },
  {
   "cell_type": "code",
   "execution_count": 19,
   "id": "92e58ae1-2f00-4b9c-88ce-4a2a1495ed2c",
   "metadata": {},
   "outputs": [
    {
     "data": {
      "text/plain": [
       "2.0"
      ]
     },
     "execution_count": 19,
     "metadata": {},
     "output_type": "execute_result"
    }
   ],
   "source": [
    "np.median(Unit.column(\"Delay\"))"
   ]
  },
  {
   "cell_type": "code",
   "execution_count": 20,
   "id": "305e6cf1-cb58-4e09-9939-1edd1a2467f7",
   "metadata": {},
   "outputs": [
    {
     "data": {
      "text/plain": [
       "2.0"
      ]
     },
     "execution_count": 20,
     "metadata": {},
     "output_type": "execute_result"
    }
   ],
   "source": [
    "np.median(Unit.sample(1000).column(\"Delay\"))"
   ]
  },
  {
   "cell_type": "code",
   "execution_count": 21,
   "id": "f1813f22-41d3-4ff1-bef4-6b0279bc3dc5",
   "metadata": {},
   "outputs": [],
   "source": [
    "def findMedium(hi):\n",
    "    \n",
    "    return np.median(Unit.sample(hi).column(\"Delay\"))"
   ]
  },
  {
   "cell_type": "code",
   "execution_count": 22,
   "id": "6565408b-e4d0-4c07-bcab-e4ee4d2657c1",
   "metadata": {},
   "outputs": [
    {
     "data": {
      "text/plain": [
       "3.0"
      ]
     },
     "execution_count": 22,
     "metadata": {},
     "output_type": "execute_result"
    }
   ],
   "source": [
    "findMedium(100)\n"
   ]
  },
  {
   "cell_type": "code",
   "execution_count": 23,
   "id": "c724855e-6a04-40da-877d-b690248364e7",
   "metadata": {},
   "outputs": [
    {
     "data": {
      "text/plain": [
       "1.5"
      ]
     },
     "execution_count": 23,
     "metadata": {},
     "output_type": "execute_result"
    }
   ],
   "source": [
    "findMedium(100)"
   ]
  },
  {
   "cell_type": "code",
   "execution_count": 31,
   "id": "b4e5c000-c432-4947-b5f5-57993b4ade05",
   "metadata": {},
   "outputs": [
    {
     "name": "stdout",
     "output_type": "stream",
     "text": [
      "[  3.5   2.5   5.    3.    2.    1.5   6.    2.    3.    0.    0.    0.5\n",
      "   3.    1.    3.5   4.    6.    3.    6.    0.    4.    5.    2.    1.\n",
      "   5.5   3.    3.5   3.    3.    4.    1.    2.    6.    4.    2.    3.\n",
      "   3.    2.5   1.    2.    4.    4.    3.    1.    2.    0.    3.5   3.\n",
      "   3.    4.5   3.5   2.    3.    3.5   5.    2.    3.    0.5   4.    2.\n",
      "   2.    1.    3.    5.5   1.    0.    1.5   0.5   2.    0.    3.    3.5\n",
      "   1.    2.5   2.    2.    0.    2.    0.    2.    1.    2.    3.    2.\n",
      "   4.    0.    0.5   2.5   2.    2.    2.    6.    4.    0.5   3.    3.\n",
      "   4.    4.    3.    2.    2.    1.5   3.    3.    0.5   4.    3.    0.\n",
      "   0.    3.    1.    4.5   7.    2.    4.    5.5   1.5   1.    3.5   5.\n",
      "   3.    2.    2.    2.    2.5   4.5   2.    3.    4.    6.    7.    5.\n",
      "   3.    3.    4.    2.    4.    3.    4.    6.5   5.    2.    3.    5.5\n",
      "   0.5   0.5   3.    6.    3.    3.5   7.    2.    1.5   2.5   1.5   3.5\n",
      "   1.    1.    2.    4.    4.    3.5   4.5   2.5   1.5   2.    5.    2.5\n",
      "   3.5   7.    1.    1.5   3.    2.    3.    1.5   4.    2.    5.    4.\n",
      "   3.    3.    2.5   5.    1.    3.5   0.5   3.    4.5   1.    2.    1.5\n",
      "   0.    2.    0.5  -0.5   3.    2.    4.    3.    3.    0.5   5.    0.\n",
      "   3.5   5.    2.    3.    4.    2.    2.    2.    2.5   4.    2.    2.5\n",
      "   2.    2.5   2.    2.    0.5   3.5   5.5   6.    4.    5.    3.    1.\n",
      "   2.5   1.    0.    0.    2.5   3.    7.5   2.    5.    3.    3.    3.5\n",
      "   1.    0.    1.    4.    2.5   3.    3.    3.5   0.    1.5   2.    6.5\n",
      "   2.    2.    0.    1.5   5.5   2.    0.    1.    3.    0.5   5.    6.5\n",
      "   5.    1.    2.    1.5   4.    2.    3.    2.5   7.5   4.    2.    3.5\n",
      "   3.    4.    3.    1.    1.    4.5   5.    3.5   2.5   4.    5.5   4.5\n",
      "   2.5   3.5   2.    3.    2.    2.5   2.    4.    7.    3.5   5.    2.\n",
      "   0.5   1.    3.    2.5   2.5   2.    1.5   2.5   0.5   4.    4.    3.\n",
      "   2.5   4.    1.    1.5   0.    3.    3.    2.    1.    0.    2.    6.5\n",
      "   3.5   3.    2.    4.    4.    3.5   5.5   5.5   0.    3.    4.    0.\n",
      "   2.    1.    1.5   2.    3.    3.    3.    3.5   5.    6.    3.5   2.\n",
      "   5.    1.5   3.    2.5   2.    0.5   2.5   1.5   3.5   4.    1.    2.5\n",
      "   2.5   0.    3.    1.5   3.    3.    4.    0.    2.5   3.    4.5   3.\n",
      "   4.5   3.    2.5   0.    0.    4.    5.    2.    2.    2.    3.    1.\n",
      "   3.    0.    3.    3.    2.5   2.5   5.5   4.5   1.5   2.    2.    3.5\n",
      "   4.    4.5   4.    0.    5.    1.    0.    4.5   2.    2.5   1.    2.5\n",
      "   1.5   4.    3.    1.    0.5   2.5   3.5   2.    3.    2.5   2.    3.\n",
      "   4.    5.5   3.    3.5   2.    1.5   1.    1.    3.    4.    6.    2.\n",
      "   7.5   4.    3.    2.    2.5   1.5   1.    2.    5.    4.    0.    1.\n",
      "   1.    4.    2.    3.5   1.5   2.    0.5   3.5   3.5   1.   10.    1.\n",
      "   3.5   1.    8.    4.    1.    4.    4.    0.    3.5   0.    4.    1.\n",
      "   0.    3.    1.5   4.5   4.    3.    5.    3.    0.5   5.5   4.    2.\n",
      "   0.    3.    9.    6.5   0.    5.5   1.    2.    2.    7.    2.    4.\n",
      "   1.5   5.    1.5   3.    3.    2.    3.    2.    4.5   5.5   3.    3.\n",
      "   2.    1.    0.5   2.5   2.5   2.5   3.    0.    3.    2.5   1.    5.\n",
      "   2.5   3.    3.    5.    4.    0.    1.    3.    3.    3.    4.5   2.5\n",
      "   5.    1.5   3.    3.5   2.    2.    3.    1.    4.    2.5   4.    1.\n",
      "   2.5   4.5   2.5   2.    1.5   2.    2.    2.5   3.5   0.5   3.    2.5\n",
      "   1.    3.    5.5   4.    0.    4.    0.    3.    2.5   5.5   7.    2.\n",
      "   4.5   1.    2.    4.    3.    3.5   3.    4.    1.    3.    4.5   2.\n",
      "   1.    2.5   2.    3.    4.    3.    0.    5.    4.    5.    1.    1.\n",
      "   3.    1.    0.    1.    4.    3.    5.    2.    2.5   4.    0.    3.5\n",
      "   4.    0.5   1.    1.    3.    2.    4.5   4.    3.    2.    3.    3.\n",
      "   2.5   0.5   4.5   2.5   3.5   4.5   2.5   1.5   7.5   5.5   3.    2.\n",
      "   4.    4.    2.    1.    3.5   5.5   3.    5.    2.    2.5   2.5   1.5\n",
      "   0.5   4.    2.    4.    2.    1.5   2.5   3.    4.5   4.    3.    3.\n",
      "   3.    2.    3.5   5.    0.    2.    6.    2.5   0.5   3.5   1.    0.5\n",
      "   4.    1.5   2.   -1.    0.5   1.    7.5   2.    1.    3.    5.    3.\n",
      "   4.    1.    2.    3.    2.    3.    1.    2.    2.    2.    4.    1.5\n",
      "   1.    0.    1.    1.    1.5   5.    3.    3.    1.5   0.5   1.    3.\n",
      "   3.    0.    0.5   4.    1.5   4.    3.    0.    4.    1.5   2.    2.\n",
      "   2.    0.    2.    3.5   0.    3.5   3.    3.5   2.    4.    1.5   0.\n",
      "   0.    1.    6.    1.5   2.    0.    0.    1.5   3.    4.5   4.    2.\n",
      "   2.    4.    3.    3.    3.    5.5   2.    3.    1.    4.    4.5   3.\n",
      "   4.    4.    2.    4.    4.    3.5   4.    2.5   1.    3.    4.    0.\n",
      "   3.    1.5   0.5   2.5   4.    1.    3.    4.    2.5   3.    3.5   1.\n",
      "   4.    4.    2.    2.    2.    1.    4.    3.    3.5   3.    2.5   6.\n",
      "   0.5   1.    6.    1.    2.5   2.    0.5   1.5   6.5   1.    1.    0.5\n",
      "   3.    4.    3.    2.5   3.5   1.    1.5   1.    3.    4.    3.5   5.\n",
      "   1.    3.5   4.    1.    2.    2.5   4.    1.    3.    0.    6.    3.5\n",
      "   1.5   4.    4.    0.    3.5   0.5   4.   -1.    3.5   2.    3.    3.5\n",
      "   1.    1.5   0.    0.5   4.    4.    1.5   2.    2.    2.    2.    2.5\n",
      "   2.    4.    2.    4.    1.    6.    1.    3.    3.    2.    4.5   1.\n",
      "   3.    3.    0.    2.    3.5   9.5   2.    4.    2.    1.5   0.5   3.\n",
      "   1.5   1.    4.    1.    6.5   0.    2.    3.5   3.    1.    2.    1.\n",
      "   2.    4.5   0.    3.    2.5   3.5   1.    2.5   3.5   3.5   2.    1.\n",
      "   4.    3.    5.    3.    1.5   1.    6.    0.    2.    2.    7.    4.\n",
      "   5.    2.    1.    5.5   2.    4.    1.5   3.    3.    3.    0.    4.5\n",
      "   5.5   2.    2.5   1.    1.    5.    2.    2.    2.    2.5   1.    2.\n",
      "   6.5   2.    1.    5.    4.5   2.    2.    3.5   2.    3.    1.    3.\n",
      "   3.    3.    2.    2.5   2.5   1.    2.5   3.5   3.    3.    0.    3.\n",
      "   3.    4.    3.    5.5   3.    3.5   2.    0.5   3.5   3.    3.    1.5\n",
      "   3.    2.    0.5   2.    1.5   1.5   6.    2.    0.    2.    4.    2.\n",
      "   0.    2.    2.    2.    2.5   1.5   0.5   1.5   2.    3.    2.5   5.5\n",
      "   4.    2.    1.    3.    4.    3.    4.5   4.    3.    5.    1.    2.\n",
      "   2.    3.    2.    4. ]\n"
     ]
    }
   ],
   "source": [
    "h = make_array()\n",
    "for i in range(1000):\n",
    "    h = np.append(h,findMedium(100))\n",
    "print(h)"
   ]
  },
  {
   "cell_type": "code",
   "execution_count": 36,
   "id": "94d235de-76fd-4df7-8817-fe51ec546809",
   "metadata": {},
   "outputs": [
    {
     "data": {
      "text/html": [
       "<table border=\"1\" class=\"dataframe\">\n",
       "    <thead>\n",
       "        <tr>\n",
       "            <th>Sample Medium</th>\n",
       "        </tr>\n",
       "    </thead>\n",
       "    <tbody>\n",
       "        <tr>\n",
       "            <td>3.5          </td>\n",
       "        </tr>\n",
       "        <tr>\n",
       "            <td>2.5          </td>\n",
       "        </tr>\n",
       "        <tr>\n",
       "            <td>5            </td>\n",
       "        </tr>\n",
       "        <tr>\n",
       "            <td>3            </td>\n",
       "        </tr>\n",
       "        <tr>\n",
       "            <td>2            </td>\n",
       "        </tr>\n",
       "        <tr>\n",
       "            <td>1.5          </td>\n",
       "        </tr>\n",
       "        <tr>\n",
       "            <td>6            </td>\n",
       "        </tr>\n",
       "        <tr>\n",
       "            <td>2            </td>\n",
       "        </tr>\n",
       "        <tr>\n",
       "            <td>3            </td>\n",
       "        </tr>\n",
       "        <tr>\n",
       "            <td>0            </td>\n",
       "        </tr>\n",
       "    </tbody>\n",
       "</table>\n",
       "<p>... (990 rows omitted)</p>"
      ],
      "text/plain": [
       "Sample Medium\n",
       "3.5\n",
       "2.5\n",
       "5\n",
       "3\n",
       "2\n",
       "1.5\n",
       "6\n",
       "2\n",
       "3\n",
       "0\n",
       "... (990 rows omitted)"
      ]
     },
     "execution_count": 36,
     "metadata": {},
     "output_type": "execute_result"
    }
   ],
   "source": [
    "Geo = Table().with_column(\"Sample Medium\", h)\n",
    "Geo"
   ]
  },
  {
   "cell_type": "code",
   "execution_count": 38,
   "id": "4b3ee6ce-f8b5-4283-9694-eaada9a0d04b",
   "metadata": {},
   "outputs": [
    {
     "data": {
      "image/png": "[encoded data removed]",
      "text/plain": [
       "<Figure size 600x400 with 1 Axes>"
      ]
     },
     "metadata": {},
     "output_type": "display_data"
    }
   ],
   "source": [
    "Geo.hist()"
   ]
  },
  {
   "cell_type": "code",
   "execution_count": null,
   "id": "83701a6f-2079-4a2b-ba6c-3da144fddaca",
   "metadata": {},
   "outputs": [],
   "source": []
  }
 ],
 "metadata": {
  "kernelspec": {
   "display_name": "Python 3 (ipykernel)",
   "language": "python",
   "name": "python3"
  },
  "language_info": {
   "codemirror_mode": {
    "name": "ipython",
    "version": 3
   },
   "file_extension": ".py",
   "mimetype": "text/x-python",
   "name": "python",
   "nbconvert_exporter": "python",
   "pygments_lexer": "ipython3",
   "version": "3.11.9"
  }
 },
 "nbformat": 4,
 "nbformat_minor": 5
}
