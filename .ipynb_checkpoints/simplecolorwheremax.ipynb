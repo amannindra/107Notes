{
 "cells": [
  {
   "cell_type": "code",
   "execution_count": 4,
   "id": "6080e878-331e-4f48-ad28-c9f30962494d",
   "metadata": {},
   "outputs": [],
   "source": [
    "from datascience import *\n"
   ]
  },
  {
   "cell_type": "code",
   "execution_count": 3,
   "id": "2203df73-4ebd-4709-b8bd-753f4bd76a5e",
   "metadata": {},
   "outputs": [
    {
     "name": "stdout",
     "output_type": "stream",
     "text": [
      "hi\n"
     ]
    }
   ],
   "source": [
    "print(\"hi\")\n"
   ]
  },
  {
   "cell_type": "code",
   "execution_count": 5,
   "id": "37960d12-cf19-4cf8-880d-919fff7d2d8a",
   "metadata": {},
   "outputs": [],
   "source": [
    "cones = Table.read_table('cones.csv')\n"
   ]
  },
  {
   "cell_type": "code",
   "execution_count": 6,
   "id": "22183bf1-2b96-4ad2-8a96-a7ea3ce5e46e",
   "metadata": {},
   "outputs": [
    {
     "data": {
      "text/html": [
       "<table border=\"1\" class=\"dataframe\">\n",
       "    <thead>\n",
       "        <tr>\n",
       "            <th>Flavor</th> <th>Color</th> <th>Price</th>\n",
       "        </tr>\n",
       "    </thead>\n",
       "    <tbody>\n",
       "        <tr>\n",
       "            <td>strawberry</td> <td>pink       </td> <td>3.55 </td>\n",
       "        </tr>\n",
       "        <tr>\n",
       "            <td>chocolate </td> <td>light brown</td> <td>4.75 </td>\n",
       "        </tr>\n",
       "        <tr>\n",
       "            <td>chocolate </td> <td>dark brown </td> <td>5.25 </td>\n",
       "        </tr>\n",
       "        <tr>\n",
       "            <td>strawberry</td> <td>pink       </td> <td>5.25 </td>\n",
       "        </tr>\n",
       "        <tr>\n",
       "            <td>chocolate </td> <td>dark brown </td> <td>5.25 </td>\n",
       "        </tr>\n",
       "        <tr>\n",
       "            <td>bubblegum </td> <td>pink       </td> <td>4.75 </td>\n",
       "        </tr>\n",
       "    </tbody>\n",
       "</table>"
      ],
      "text/plain": [
       "Flavor     | Color       | Price\n",
       "strawberry | pink        | 3.55\n",
       "chocolate  | light brown | 4.75\n",
       "chocolate  | dark brown  | 5.25\n",
       "strawberry | pink        | 5.25\n",
       "chocolate  | dark brown  | 5.25\n",
       "bubblegum  | pink        | 4.75"
      ]
     },
     "execution_count": 6,
     "metadata": {},
     "output_type": "execute_result"
    }
   ],
   "source": [
    "cones"
   ]
  },
  {
   "cell_type": "code",
   "execution_count": 9,
   "id": "a5fb2609-0adc-4d8c-b0be-eacce4c81868",
   "metadata": {
    "scrolled": true
   },
   "outputs": [
    {
     "data": {
      "text/html": [
       "<table border=\"1\" class=\"dataframe\">\n",
       "    <thead>\n",
       "        <tr>\n",
       "            <th>Flavor</th> <th>Color</th>\n",
       "        </tr>\n",
       "    </thead>\n",
       "    <tbody>\n",
       "        <tr>\n",
       "            <td>strawberry</td> <td>pink       </td>\n",
       "        </tr>\n",
       "        <tr>\n",
       "            <td>chocolate </td> <td>light brown</td>\n",
       "        </tr>\n",
       "        <tr>\n",
       "            <td>chocolate </td> <td>dark brown </td>\n",
       "        </tr>\n",
       "        <tr>\n",
       "            <td>strawberry</td> <td>pink       </td>\n",
       "        </tr>\n",
       "        <tr>\n",
       "            <td>chocolate </td> <td>dark brown </td>\n",
       "        </tr>\n",
       "        <tr>\n",
       "            <td>bubblegum </td> <td>pink       </td>\n",
       "        </tr>\n",
       "    </tbody>\n",
       "</table>"
      ],
      "text/plain": [
       "Flavor     | Color\n",
       "strawberry | pink\n",
       "chocolate  | light brown\n",
       "chocolate  | dark brown\n",
       "strawberry | pink\n",
       "chocolate  | dark brown\n",
       "bubblegum  | pink"
      ]
     },
     "execution_count": 9,
     "metadata": {},
     "output_type": "execute_result"
    }
   ],
   "source": [
    "cones.select('Flavor', 'Color')\n"
   ]
  },
  {
   "cell_type": "code",
   "execution_count": 10,
   "id": "33056264-d74b-44cf-b417-2fd44a8087f2",
   "metadata": {},
   "outputs": [
    {
     "data": {
      "text/html": [
       "<table border=\"1\" class=\"dataframe\">\n",
       "    <thead>\n",
       "        <tr>\n",
       "            <th>Price</th>\n",
       "        </tr>\n",
       "    </thead>\n",
       "    <tbody>\n",
       "        <tr>\n",
       "            <td>3.55 </td>\n",
       "        </tr>\n",
       "        <tr>\n",
       "            <td>4.75 </td>\n",
       "        </tr>\n",
       "        <tr>\n",
       "            <td>5.25 </td>\n",
       "        </tr>\n",
       "        <tr>\n",
       "            <td>5.25 </td>\n",
       "        </tr>\n",
       "        <tr>\n",
       "            <td>5.25 </td>\n",
       "        </tr>\n",
       "        <tr>\n",
       "            <td>4.75 </td>\n",
       "        </tr>\n",
       "    </tbody>\n",
       "</table>"
      ],
      "text/plain": [
       "Price\n",
       "3.55\n",
       "4.75\n",
       "5.25\n",
       "5.25\n",
       "5.25\n",
       "4.75"
      ]
     },
     "execution_count": 10,
     "metadata": {},
     "output_type": "execute_result"
    }
   ],
   "source": [
    "cones.select('Price')\n"
   ]
  },
  {
   "cell_type": "code",
   "execution_count": 11,
   "id": "028f6f03-8d69-4b9a-b9c1-7e4bcbdac8b5",
   "metadata": {},
   "outputs": [
    {
     "data": {
      "text/html": [
       "<table border=\"1\" class=\"dataframe\">\n",
       "    <thead>\n",
       "        <tr>\n",
       "            <th>Flavor</th> <th>Color</th> <th>Price</th>\n",
       "        </tr>\n",
       "    </thead>\n",
       "    <tbody>\n",
       "        <tr>\n",
       "            <td>strawberry</td> <td>pink       </td> <td>3.55 </td>\n",
       "        </tr>\n",
       "        <tr>\n",
       "            <td>chocolate </td> <td>light brown</td> <td>4.75 </td>\n",
       "        </tr>\n",
       "        <tr>\n",
       "            <td>chocolate </td> <td>dark brown </td> <td>5.25 </td>\n",
       "        </tr>\n",
       "        <tr>\n",
       "            <td>strawberry</td> <td>pink       </td> <td>5.25 </td>\n",
       "        </tr>\n",
       "        <tr>\n",
       "            <td>chocolate </td> <td>dark brown </td> <td>5.25 </td>\n",
       "        </tr>\n",
       "        <tr>\n",
       "            <td>bubblegum </td> <td>pink       </td> <td>4.75 </td>\n",
       "        </tr>\n",
       "    </tbody>\n",
       "</table>"
      ],
      "text/plain": [
       "Flavor     | Color       | Price\n",
       "strawberry | pink        | 3.55\n",
       "chocolate  | light brown | 4.75\n",
       "chocolate  | dark brown  | 5.25\n",
       "strawberry | pink        | 5.25\n",
       "chocolate  | dark brown  | 5.25\n",
       "bubblegum  | pink        | 4.75"
      ]
     },
     "execution_count": 11,
     "metadata": {},
     "output_type": "execute_result"
    }
   ],
   "source": [
    "cones"
   ]
  },
  {
   "cell_type": "code",
   "execution_count": 13,
   "id": "6a3c7fd5-3964-407b-adba-fd41e2b04795",
   "metadata": {},
   "outputs": [
    {
     "data": {
      "text/html": [
       "<table border=\"1\" class=\"dataframe\">\n",
       "    <thead>\n",
       "        <tr>\n",
       "            <th>Flavor</th> <th>Color</th> <th>Price</th>\n",
       "        </tr>\n",
       "    </thead>\n",
       "    <tbody>\n",
       "        <tr>\n",
       "            <td>strawberry</td> <td>pink       </td> <td>3.55 </td>\n",
       "        </tr>\n",
       "        <tr>\n",
       "            <td>chocolate </td> <td>light brown</td> <td>4.75 </td>\n",
       "        </tr>\n",
       "        <tr>\n",
       "            <td>chocolate </td> <td>dark brown </td> <td>5.25 </td>\n",
       "        </tr>\n",
       "        <tr>\n",
       "            <td>strawberry</td> <td>pink       </td> <td>5.25 </td>\n",
       "        </tr>\n",
       "        <tr>\n",
       "            <td>chocolate </td> <td>dark brown </td> <td>5.25 </td>\n",
       "        </tr>\n",
       "        <tr>\n",
       "            <td>bubblegum </td> <td>pink       </td> <td>4.75 </td>\n",
       "        </tr>\n",
       "    </tbody>\n",
       "</table>"
      ],
      "text/plain": [
       "Flavor     | Color       | Price\n",
       "strawberry | pink        | 3.55\n",
       "chocolate  | light brown | 4.75\n",
       "chocolate  | dark brown  | 5.25\n",
       "strawberry | pink        | 5.25\n",
       "chocolate  | dark brown  | 5.25\n",
       "bubblegum  | pink        | 4.75"
      ]
     },
     "execution_count": 13,
     "metadata": {},
     "output_type": "execute_result"
    }
   ],
   "source": [
    "cones"
   ]
  },
  {
   "cell_type": "code",
   "execution_count": 14,
   "id": "10e4e1e1-ec2d-4e53-85af-e6a4a9bf67fb",
   "metadata": {},
   "outputs": [
    {
     "data": {
      "text/html": [
       "<table border=\"1\" class=\"dataframe\">\n",
       "    <thead>\n",
       "        <tr>\n",
       "            <th>Flavor</th> <th>Color</th> <th>Price</th>\n",
       "        </tr>\n",
       "    </thead>\n",
       "    <tbody>\n",
       "        <tr>\n",
       "            <td>strawberry</td> <td>pink </td> <td>3.55 </td>\n",
       "        </tr>\n",
       "        <tr>\n",
       "            <td>strawberry</td> <td>pink </td> <td>5.25 </td>\n",
       "        </tr>\n",
       "    </tbody>\n",
       "</table>"
      ],
      "text/plain": [
       "Flavor     | Color | Price\n",
       "strawberry | pink  | 3.55\n",
       "strawberry | pink  | 5.25"
      ]
     },
     "execution_count": 14,
     "metadata": {},
     "output_type": "execute_result"
    }
   ],
   "source": [
    "cones.where('Flavor', 'strawberry')"
   ]
  },
  {
   "cell_type": "code",
   "execution_count": 15,
   "id": "592855a5-540c-4989-b9ef-fc291d6abed9",
   "metadata": {},
   "outputs": [
    {
     "data": {
      "text/html": [
       "<table border=\"1\" class=\"dataframe\">\n",
       "    <thead>\n",
       "        <tr>\n",
       "            <th>Flavor</th> <th>Color</th> <th>Price</th>\n",
       "        </tr>\n",
       "    </thead>\n",
       "    <tbody>\n",
       "        <tr>\n",
       "            <td>strawberry</td> <td>pink </td> <td>3.55 </td>\n",
       "        </tr>\n",
       "        <tr>\n",
       "            <td>strawberry</td> <td>pink </td> <td>5.25 </td>\n",
       "        </tr>\n",
       "        <tr>\n",
       "            <td>bubblegum </td> <td>pink </td> <td>4.75 </td>\n",
       "        </tr>\n",
       "    </tbody>\n",
       "</table>"
      ],
      "text/plain": [
       "Flavor     | Color | Price\n",
       "strawberry | pink  | 3.55\n",
       "strawberry | pink  | 5.25\n",
       "bubblegum  | pink  | 4.75"
      ]
     },
     "execution_count": 15,
     "metadata": {},
     "output_type": "execute_result"
    }
   ],
   "source": [
    "cones.where('Color', 'pink')"
   ]
  },
  {
   "cell_type": "code",
   "execution_count": 16,
   "id": "bf58a5e5-a056-4f3b-83c9-80c489718bd6",
   "metadata": {},
   "outputs": [
    {
     "data": {
      "text/html": [
       "<table border=\"1\" class=\"dataframe\">\n",
       "    <thead>\n",
       "        <tr>\n",
       "            <th>Flavor</th> <th>Color</th> <th>Price</th>\n",
       "        </tr>\n",
       "    </thead>\n",
       "    <tbody>\n",
       "        <tr>\n",
       "            <td>strawberry</td> <td>pink       </td> <td>3.55 </td>\n",
       "        </tr>\n",
       "        <tr>\n",
       "            <td>chocolate </td> <td>light brown</td> <td>4.75 </td>\n",
       "        </tr>\n",
       "        <tr>\n",
       "            <td>bubblegum </td> <td>pink       </td> <td>4.75 </td>\n",
       "        </tr>\n",
       "        <tr>\n",
       "            <td>chocolate </td> <td>dark brown </td> <td>5.25 </td>\n",
       "        </tr>\n",
       "        <tr>\n",
       "            <td>strawberry</td> <td>pink       </td> <td>5.25 </td>\n",
       "        </tr>\n",
       "        <tr>\n",
       "            <td>chocolate </td> <td>dark brown </td> <td>5.25 </td>\n",
       "        </tr>\n",
       "    </tbody>\n",
       "</table>"
      ],
      "text/plain": [
       "Flavor     | Color       | Price\n",
       "strawberry | pink        | 3.55\n",
       "chocolate  | light brown | 4.75\n",
       "bubblegum  | pink        | 4.75\n",
       "chocolate  | dark brown  | 5.25\n",
       "strawberry | pink        | 5.25\n",
       "chocolate  | dark brown  | 5.25"
      ]
     },
     "execution_count": 16,
     "metadata": {},
     "output_type": "execute_result"
    }
   ],
   "source": [
    "cones.sort(\"Price\")\n"
   ]
  },
  {
   "cell_type": "code",
   "execution_count": 17,
   "id": "25b7206c-774a-4022-9c84-ce928bebc507",
   "metadata": {},
   "outputs": [
    {
     "data": {
      "text/html": [
       "<table border=\"1\" class=\"dataframe\">\n",
       "    <thead>\n",
       "        <tr>\n",
       "            <th>Flavor</th> <th>Color</th> <th>Price</th>\n",
       "        </tr>\n",
       "    </thead>\n",
       "    <tbody>\n",
       "        <tr>\n",
       "            <td>strawberry</td> <td>pink       </td> <td>3.55 </td>\n",
       "        </tr>\n",
       "        <tr>\n",
       "            <td>chocolate </td> <td>light brown</td> <td>4.75 </td>\n",
       "        </tr>\n",
       "        <tr>\n",
       "            <td>chocolate </td> <td>dark brown </td> <td>5.25 </td>\n",
       "        </tr>\n",
       "        <tr>\n",
       "            <td>strawberry</td> <td>pink       </td> <td>5.25 </td>\n",
       "        </tr>\n",
       "        <tr>\n",
       "            <td>chocolate </td> <td>dark brown </td> <td>5.25 </td>\n",
       "        </tr>\n",
       "        <tr>\n",
       "            <td>bubblegum </td> <td>pink       </td> <td>4.75 </td>\n",
       "        </tr>\n",
       "    </tbody>\n",
       "</table>"
      ],
      "text/plain": [
       "<IPython.core.display.HTML object>"
      ]
     },
     "metadata": {},
     "output_type": "display_data"
    }
   ],
   "source": [
    "cones.show()\n"
   ]
  },
  {
   "cell_type": "code",
   "execution_count": 20,
   "id": "d9f554c4-35b6-43a8-a5ae-c8948d442e1b",
   "metadata": {},
   "outputs": [],
   "source": [
    "nba_salaries = Table.read_table(\"nba_salaries.csv\")\n"
   ]
  },
  {
   "cell_type": "code",
   "execution_count": 21,
   "id": "6bafa122-de0a-4611-91b9-564c2876fa3f",
   "metadata": {},
   "outputs": [
    {
     "data": {
      "text/html": [
       "<table border=\"1\" class=\"dataframe\">\n",
       "    <thead>\n",
       "        <tr>\n",
       "            <th>rank</th> <th>name</th> <th>position</th> <th>team</th> <th>salary</th> <th>season</th>\n",
       "        </tr>\n",
       "    </thead>\n",
       "    <tbody>\n",
       "        <tr>\n",
       "            <td>1   </td> <td>Shaquille O'Neal</td> <td>C       </td> <td>Los Angeles Lakers    </td> <td>17142000</td> <td>2000  </td>\n",
       "        </tr>\n",
       "        <tr>\n",
       "            <td>2   </td> <td>Kevin Garnett   </td> <td>PF      </td> <td>Minnesota Timberwolves</td> <td>16806000</td> <td>2000  </td>\n",
       "        </tr>\n",
       "        <tr>\n",
       "            <td>3   </td> <td>Alonzo Mourning </td> <td>C       </td> <td>Miami Heat            </td> <td>15004000</td> <td>2000  </td>\n",
       "        </tr>\n",
       "        <tr>\n",
       "            <td>4   </td> <td>Juwan Howard    </td> <td>PF      </td> <td>Washington Wizards    </td> <td>15000000</td> <td>2000  </td>\n",
       "        </tr>\n",
       "        <tr>\n",
       "            <td>5   </td> <td>Scottie Pippen  </td> <td>SF      </td> <td>Portland Trail Blazers</td> <td>14795000</td> <td>2000  </td>\n",
       "        </tr>\n",
       "        <tr>\n",
       "            <td>6   </td> <td>Karl Malone     </td> <td>PF      </td> <td>Utah Jazz             </td> <td>14000000</td> <td>2000  </td>\n",
       "        </tr>\n",
       "        <tr>\n",
       "            <td>7   </td> <td>Larry Johnson   </td> <td>F       </td> <td>New York Knicks       </td> <td>11910000</td> <td>2000  </td>\n",
       "        </tr>\n",
       "        <tr>\n",
       "            <td>8   </td> <td>Gary Payton     </td> <td>PG      </td> <td>Seattle SuperSonics   </td> <td>11020000</td> <td>2000  </td>\n",
       "        </tr>\n",
       "        <tr>\n",
       "            <td>9   </td> <td>Rasheed Wallace </td> <td>PF      </td> <td>Portland Trail Blazers</td> <td>10800000</td> <td>2000  </td>\n",
       "        </tr>\n",
       "        <tr>\n",
       "            <td>10  </td> <td>Shawn Kemp      </td> <td>C       </td> <td>Cleveland Cavaliers   </td> <td>10780000</td> <td>2000  </td>\n",
       "        </tr>\n",
       "    </tbody>\n",
       "</table>\n",
       "<p>... (9446 rows omitted)</p>"
      ],
      "text/plain": [
       "rank | name             | position | team                   | salary   | season\n",
       "1    | Shaquille O'Neal | C        | Los Angeles Lakers     | 17142000 | 2000\n",
       "2    | Kevin Garnett    | PF       | Minnesota Timberwolves | 16806000 | 2000\n",
       "3    | Alonzo Mourning  | C        | Miami Heat             | 15004000 | 2000\n",
       "4    | Juwan Howard     | PF       | Washington Wizards     | 15000000 | 2000\n",
       "5    | Scottie Pippen   | SF       | Portland Trail Blazers | 14795000 | 2000\n",
       "6    | Karl Malone      | PF       | Utah Jazz              | 14000000 | 2000\n",
       "7    | Larry Johnson    | F        | New York Knicks        | 11910000 | 2000\n",
       "8    | Gary Payton      | PG       | Seattle SuperSonics    | 11020000 | 2000\n",
       "9    | Rasheed Wallace  | PF       | Portland Trail Blazers | 10800000 | 2000\n",
       "10   | Shawn Kemp       | C        | Cleveland Cavaliers    | 10780000 | 2000\n",
       "... (9446 rows omitted)"
      ]
     },
     "execution_count": 21,
     "metadata": {},
     "output_type": "execute_result"
    }
   ],
   "source": [
    "nba_salaries"
   ]
  },
  {
   "cell_type": "code",
   "execution_count": 1,
   "id": "ecb578f2-fa08-4b56-a65b-d5cadee3e57b",
   "metadata": {},
   "outputs": [
    {
     "ename": "NameError",
     "evalue": "name 'nba_salaries' is not defined",
     "output_type": "error",
     "traceback": [
      "\u001b[1;31m---------------------------------------------------------------------------\u001b[0m",
      "\u001b[1;31mNameError\u001b[0m                                 Traceback (most recent call last)",
      "Cell \u001b[1;32mIn[1], line 1\u001b[0m\n\u001b[1;32m----> 1\u001b[0m \u001b[43mnba_salaries\u001b[49m\u001b[38;5;241m.\u001b[39mshow(\u001b[38;5;241m5\u001b[39m)\n",
      "\u001b[1;31mNameError\u001b[0m: name 'nba_salaries' is not defined"
     ]
    }
   ],
   "source": [
    "nba_salaries.show(5)"
   ]
  },
  {
   "cell_type": "code",
   "execution_count": 24,
   "id": "78102bc9-6c3b-4594-bd39-6fbdbcb4ac71",
   "metadata": {},
   "outputs": [
    {
     "ename": "ValueError",
     "evalue": "The column \"Shaquille O'Neal\" is not in the table. The table contains these columns: rank, name, position, team, salary, season",
     "output_type": "error",
     "traceback": [
      "\u001b[1;31m---------------------------------------------------------------------------\u001b[0m",
      "\u001b[1;31mValueError\u001b[0m                                Traceback (most recent call last)",
      "Cell \u001b[1;32mIn[24], line 1\u001b[0m\n\u001b[1;32m----> 1\u001b[0m \u001b[43mnba_salaries\u001b[49m\u001b[38;5;241;43m.\u001b[39;49m\u001b[43mselect\u001b[49m\u001b[43m(\u001b[49m\u001b[38;5;124;43m'\u001b[39;49m\u001b[38;5;124;43mname\u001b[39;49m\u001b[38;5;124;43m'\u001b[39;49m\u001b[43m,\u001b[49m\u001b[43m \u001b[49m\u001b[38;5;124;43m\"\u001b[39;49m\u001b[38;5;124;43mShaquille O\u001b[39;49m\u001b[38;5;124;43m'\u001b[39;49m\u001b[38;5;124;43mNeal\u001b[39;49m\u001b[38;5;124;43m\"\u001b[39;49m\u001b[43m)\u001b[49m\n",
      "File \u001b[1;32m~\\AppData\\Local\\Packages\\PythonSoftwareFoundation.Python.3.11_qbz5n2kfra8p0\\LocalCache\\local-packages\\Python311\\site-packages\\datascience\\tables.py:1252\u001b[0m, in \u001b[0;36mTable.select\u001b[1;34m(self, *column_or_columns)\u001b[0m\n\u001b[0;32m   1250\u001b[0m table \u001b[38;5;241m=\u001b[39m \u001b[38;5;28mtype\u001b[39m(\u001b[38;5;28mself\u001b[39m)()\n\u001b[0;32m   1251\u001b[0m \u001b[38;5;28;01mfor\u001b[39;00m label \u001b[38;5;129;01min\u001b[39;00m labels:\n\u001b[1;32m-> 1252\u001b[0m     \u001b[38;5;28mself\u001b[39m\u001b[38;5;241m.\u001b[39m_add_column_and_format(table, label, np\u001b[38;5;241m.\u001b[39mcopy(\u001b[38;5;28;43mself\u001b[39;49m\u001b[43m[\u001b[49m\u001b[43mlabel\u001b[49m\u001b[43m]\u001b[49m))\n\u001b[0;32m   1253\u001b[0m \u001b[38;5;28;01mreturn\u001b[39;00m table\n",
      "File \u001b[1;32m~\\AppData\\Local\\Packages\\PythonSoftwareFoundation.Python.3.11_qbz5n2kfra8p0\\LocalCache\\local-packages\\Python311\\site-packages\\datascience\\tables.py:261\u001b[0m, in \u001b[0;36mTable.__getitem__\u001b[1;34m(self, index_or_label)\u001b[0m\n\u001b[0;32m    260\u001b[0m \u001b[38;5;28;01mdef\u001b[39;00m \u001b[38;5;21m__getitem__\u001b[39m(\u001b[38;5;28mself\u001b[39m, index_or_label):\n\u001b[1;32m--> 261\u001b[0m     \u001b[38;5;28;01mreturn\u001b[39;00m \u001b[38;5;28;43mself\u001b[39;49m\u001b[38;5;241;43m.\u001b[39;49m\u001b[43mcolumn\u001b[49m\u001b[43m(\u001b[49m\u001b[43mindex_or_label\u001b[49m\u001b[43m)\u001b[49m\n",
      "File \u001b[1;32m~\\AppData\\Local\\Packages\\PythonSoftwareFoundation.Python.3.11_qbz5n2kfra8p0\\LocalCache\\local-packages\\Python311\\site-packages\\datascience\\tables.py:408\u001b[0m, in \u001b[0;36mTable.column\u001b[1;34m(self, index_or_label)\u001b[0m\n\u001b[0;32m    383\u001b[0m \u001b[38;5;250m\u001b[39m\u001b[38;5;124;03m\"\"\"Return the values of a column as an array.\u001b[39;00m\n\u001b[0;32m    384\u001b[0m \n\u001b[0;32m    385\u001b[0m \u001b[38;5;124;03mtable.column(label) is equivalent to table[label].\u001b[39;00m\n\u001b[1;32m   (...)\u001b[0m\n\u001b[0;32m    404\u001b[0m \u001b[38;5;124;03m    ``ValueError``: When the ``index_or_label`` is not in the table.\u001b[39;00m\n\u001b[0;32m    405\u001b[0m \u001b[38;5;124;03m\"\"\"\u001b[39;00m\n\u001b[0;32m    406\u001b[0m \u001b[38;5;28;01mif\u001b[39;00m (\u001b[38;5;28misinstance\u001b[39m(index_or_label, \u001b[38;5;28mstr\u001b[39m)\n\u001b[0;32m    407\u001b[0m         \u001b[38;5;129;01mand\u001b[39;00m index_or_label \u001b[38;5;129;01mnot\u001b[39;00m \u001b[38;5;129;01min\u001b[39;00m \u001b[38;5;28mself\u001b[39m\u001b[38;5;241m.\u001b[39mlabels):\n\u001b[1;32m--> 408\u001b[0m     \u001b[38;5;28;01mraise\u001b[39;00m \u001b[38;5;167;01mValueError\u001b[39;00m(\n\u001b[0;32m    409\u001b[0m         \u001b[38;5;124m'\u001b[39m\u001b[38;5;124mThe column \u001b[39m\u001b[38;5;124m\"\u001b[39m\u001b[38;5;132;01m{}\u001b[39;00m\u001b[38;5;124m\"\u001b[39m\u001b[38;5;124m is not in the table. The table contains \u001b[39m\u001b[38;5;124m'\u001b[39m\n\u001b[0;32m    410\u001b[0m         \u001b[38;5;124m'\u001b[39m\u001b[38;5;124mthese columns: \u001b[39m\u001b[38;5;132;01m{}\u001b[39;00m\u001b[38;5;124m'\u001b[39m\n\u001b[0;32m    411\u001b[0m         \u001b[38;5;241m.\u001b[39mformat(index_or_label, \u001b[38;5;124m'\u001b[39m\u001b[38;5;124m, \u001b[39m\u001b[38;5;124m'\u001b[39m\u001b[38;5;241m.\u001b[39mjoin(\u001b[38;5;28mself\u001b[39m\u001b[38;5;241m.\u001b[39mlabels))\n\u001b[0;32m    412\u001b[0m     )\n\u001b[0;32m    413\u001b[0m \u001b[38;5;28;01mif\u001b[39;00m (\u001b[38;5;28misinstance\u001b[39m(index_or_label, \u001b[38;5;28mint\u001b[39m)\n\u001b[0;32m    414\u001b[0m         \u001b[38;5;129;01mand\u001b[39;00m \u001b[38;5;129;01mnot\u001b[39;00m \u001b[38;5;241m0\u001b[39m \u001b[38;5;241m<\u001b[39m\u001b[38;5;241m=\u001b[39m index_or_label \u001b[38;5;241m<\u001b[39m \u001b[38;5;28mlen\u001b[39m(\u001b[38;5;28mself\u001b[39m\u001b[38;5;241m.\u001b[39mlabels)):\n\u001b[0;32m    415\u001b[0m     \u001b[38;5;28;01mraise\u001b[39;00m \u001b[38;5;167;01mValueError\u001b[39;00m(\n\u001b[0;32m    416\u001b[0m         \u001b[38;5;124m'\u001b[39m\u001b[38;5;124mThe index \u001b[39m\u001b[38;5;132;01m{}\u001b[39;00m\u001b[38;5;124m is not in the table. Only indices between \u001b[39m\u001b[38;5;124m'\u001b[39m\n\u001b[0;32m    417\u001b[0m         \u001b[38;5;124m'\u001b[39m\u001b[38;5;124m0 and \u001b[39m\u001b[38;5;132;01m{}\u001b[39;00m\u001b[38;5;124m are valid\u001b[39m\u001b[38;5;124m'\u001b[39m\n\u001b[0;32m    418\u001b[0m         \u001b[38;5;241m.\u001b[39mformat(index_or_label, \u001b[38;5;28mlen\u001b[39m(\u001b[38;5;28mself\u001b[39m\u001b[38;5;241m.\u001b[39mlabels) \u001b[38;5;241m-\u001b[39m \u001b[38;5;241m1\u001b[39m)\n\u001b[0;32m    419\u001b[0m     )\n",
      "\u001b[1;31mValueError\u001b[0m: The column \"Shaquille O'Neal\" is not in the table. The table contains these columns: rank, name, position, team, salary, season"
     ]
    }
   ],
   "source": [
    "nba_salaries.select('name', \"Shaquille O'Neal\")\n"
   ]
  },
  {
   "cell_type": "code",
   "execution_count": 26,
   "id": "2339676c-99f0-4a8b-a1f8-1a5bc55d117b",
   "metadata": {},
   "outputs": [
    {
     "data": {
      "text/html": [
       "<table border=\"1\" class=\"dataframe\">\n",
       "    <thead>\n",
       "        <tr>\n",
       "            <th>rank</th> <th>name</th> <th>position</th> <th>team</th> <th>salary</th> <th>season</th>\n",
       "        </tr>\n",
       "    </thead>\n",
       "    <tbody>\n",
       "        <tr>\n",
       "            <td>180 </td> <td>A.C. Green </td> <td>F       </td> <td>Miami Heat        </td> <td>2250000</td> <td>2001  </td>\n",
       "        </tr>\n",
       "        <tr>\n",
       "            <td>355 </td> <td>A.J. Guyton</td> <td>G       </td> <td>Chicago Bulls     </td> <td>316000 </td> <td>2001  </td>\n",
       "        </tr>\n",
       "        <tr>\n",
       "            <td>384 </td> <td>A.J. Guyton</td> <td>G       </td> <td>Chicago Bulls     </td> <td>465000 </td> <td>2002  </td>\n",
       "        </tr>\n",
       "        <tr>\n",
       "            <td>441 </td> <td>A.J. Price </td> <td>PG      </td> <td>Indiana Pacers    </td> <td>457588 </td> <td>2010  </td>\n",
       "        </tr>\n",
       "        <tr>\n",
       "            <td>444 </td> <td>A.J. Price </td> <td>PG      </td> <td>Indiana Pacers    </td> <td>762195 </td> <td>2011  </td>\n",
       "        </tr>\n",
       "        <tr>\n",
       "            <td>414 </td> <td>A.J. Price </td> <td>PG      </td> <td>Indiana Pacers    </td> <td>854389 </td> <td>2012  </td>\n",
       "        </tr>\n",
       "        <tr>\n",
       "            <td>445 </td> <td>A.J. Price </td> <td>PG      </td> <td>Washington Wizards</td> <td>854389 </td> <td>2013  </td>\n",
       "        </tr>\n",
       "        <tr>\n",
       "            <td>522 </td> <td>A.J. Price </td> <td>PG      </td> <td>Phoenix Suns      </td> <td>53838  </td> <td>2015  </td>\n",
       "        </tr>\n",
       "        <tr>\n",
       "            <td>477 </td> <td>AJ Hammons </td> <td>C       </td> <td>Dallas Mavericks  </td> <td>650000 </td> <td>2017  </td>\n",
       "        </tr>\n",
       "        <tr>\n",
       "            <td>418 </td> <td>AJ Hammons </td> <td>C       </td> <td>Miami Heat        </td> <td>1312611</td> <td>2018  </td>\n",
       "        </tr>\n",
       "    </tbody>\n",
       "</table>\n",
       "<p>... (9446 rows omitted)</p>"
      ],
      "text/plain": [
       "rank | name        | position | team               | salary  | season\n",
       "180  | A.C. Green  | F        | Miami Heat         | 2250000 | 2001\n",
       "355  | A.J. Guyton | G        | Chicago Bulls      | 316000  | 2001\n",
       "384  | A.J. Guyton | G        | Chicago Bulls      | 465000  | 2002\n",
       "441  | A.J. Price  | PG       | Indiana Pacers     | 457588  | 2010\n",
       "444  | A.J. Price  | PG       | Indiana Pacers     | 762195  | 2011\n",
       "414  | A.J. Price  | PG       | Indiana Pacers     | 854389  | 2012\n",
       "445  | A.J. Price  | PG       | Washington Wizards | 854389  | 2013\n",
       "522  | A.J. Price  | PG       | Phoenix Suns       | 53838   | 2015\n",
       "477  | AJ Hammons  | C        | Dallas Mavericks   | 650000  | 2017\n",
       "418  | AJ Hammons  | C        | Miami Heat         | 1312611 | 2018\n",
       "... (9446 rows omitted)"
      ]
     },
     "execution_count": 26,
     "metadata": {},
     "output_type": "execute_result"
    }
   ],
   "source": [
    "nba_salaries.sort('name')\n",
    "\n"
   ]
  },
  {
   "cell_type": "code",
   "execution_count": 28,
   "id": "b0c1f3e8-0275-49e2-b3e5-e5f8949706ce",
   "metadata": {},
   "outputs": [
    {
     "data": {
      "text/html": [
       "<table border=\"1\" class=\"dataframe\">\n",
       "    <thead>\n",
       "        <tr>\n",
       "            <th>rank</th> <th>name</th> <th>position</th> <th>team</th> <th>salary</th> <th>season</th>\n",
       "        </tr>\n",
       "    </thead>\n",
       "    <tbody>\n",
       "        <tr>\n",
       "            <td>180 </td> <td>A.C. Green</td> <td>F       </td> <td>Miami Heat</td> <td>2250000</td> <td>2001  </td>\n",
       "        </tr>\n",
       "    </tbody>\n",
       "</table>"
      ],
      "text/plain": [
       "rank | name       | position | team       | salary  | season\n",
       "180  | A.C. Green | F        | Miami Heat | 2250000 | 2001"
      ]
     },
     "execution_count": 28,
     "metadata": {},
     "output_type": "execute_result"
    }
   ],
   "source": [
    "nba_salaries.where('name', 'A.C. Green')\n"
   ]
  },
  {
   "cell_type": "code",
   "execution_count": 29,
   "id": "7d2b00e5-4af9-44eb-b3e5-62616bc9d918",
   "metadata": {},
   "outputs": [
    {
     "data": {
      "text/html": [
       "<table border=\"1\" class=\"dataframe\">\n",
       "    <thead>\n",
       "        <tr>\n",
       "            <th>rank</th> <th>name</th> <th>position</th> <th>team</th> <th>salary</th> <th>season</th>\n",
       "        </tr>\n",
       "    </thead>\n",
       "    <tbody>\n",
       "        <tr>\n",
       "            <td>8   </td> <td>Gary Payton     </td> <td>PG      </td> <td>Seattle SuperSonics   </td> <td>11020000</td> <td>2000  </td>\n",
       "        </tr>\n",
       "        <tr>\n",
       "            <td>11  </td> <td>Damon Stoudamire</td> <td>PG      </td> <td>Portland Trail Blazers</td> <td>10125000</td> <td>2000  </td>\n",
       "        </tr>\n",
       "        <tr>\n",
       "            <td>20  </td> <td>Stephon Marbury </td> <td>PG      </td> <td>New Jersey Nets       </td> <td>9000000 </td> <td>2000  </td>\n",
       "        </tr>\n",
       "        <tr>\n",
       "            <td>24  </td> <td>Nick Van Exel   </td> <td>PG      </td> <td>Denver Nuggets        </td> <td>8354000 </td> <td>2000  </td>\n",
       "        </tr>\n",
       "        <tr>\n",
       "            <td>26  </td> <td>Terrell Brandon </td> <td>PG      </td> <td>Minnesota Timberwolves</td> <td>7400000 </td> <td>2000  </td>\n",
       "        </tr>\n",
       "        <tr>\n",
       "            <td>34  </td> <td>Jason Kidd      </td> <td>PG      </td> <td>Phoenix Suns          </td> <td>6858000 </td> <td>2000  </td>\n",
       "        </tr>\n",
       "        <tr>\n",
       "            <td>35  </td> <td>Kenny Anderson  </td> <td>PG      </td> <td>Boston Celtics        </td> <td>6680000 </td> <td>2000  </td>\n",
       "        </tr>\n",
       "        <tr>\n",
       "            <td>39  </td> <td>Steve Nash      </td> <td>PG      </td> <td>Dallas Mavericks      </td> <td>5500000 </td> <td>2000  </td>\n",
       "        </tr>\n",
       "        <tr>\n",
       "            <td>55  </td> <td>Charlie Ward    </td> <td>PG      </td> <td>New York Knicks       </td> <td>4540000 </td> <td>2000  </td>\n",
       "        </tr>\n",
       "        <tr>\n",
       "            <td>61  </td> <td>Darrel Armstrong</td> <td>PG      </td> <td>Orlando Magic         </td> <td>4125000 </td> <td>2000  </td>\n",
       "        </tr>\n",
       "    </tbody>\n",
       "</table>\n",
       "<p>... (1465 rows omitted)</p>"
      ],
      "text/plain": [
       "rank | name             | position | team                   | salary   | season\n",
       "8    | Gary Payton      | PG       | Seattle SuperSonics    | 11020000 | 2000\n",
       "11   | Damon Stoudamire | PG       | Portland Trail Blazers | 10125000 | 2000\n",
       "20   | Stephon Marbury  | PG       | New Jersey Nets        | 9000000  | 2000\n",
       "24   | Nick Van Exel    | PG       | Denver Nuggets         | 8354000  | 2000\n",
       "26   | Terrell Brandon  | PG       | Minnesota Timberwolves | 7400000  | 2000\n",
       "34   | Jason Kidd       | PG       | Phoenix Suns           | 6858000  | 2000\n",
       "35   | Kenny Anderson   | PG       | Boston Celtics         | 6680000  | 2000\n",
       "39   | Steve Nash       | PG       | Dallas Mavericks       | 5500000  | 2000\n",
       "55   | Charlie Ward     | PG       | New York Knicks        | 4540000  | 2000\n",
       "61   | Darrel Armstrong | PG       | Orlando Magic          | 4125000  | 2000\n",
       "... (1465 rows omitted)"
      ]
     },
     "execution_count": 29,
     "metadata": {},
     "output_type": "execute_result"
    }
   ],
   "source": [
    "nba_salaries.where(\"position\", \"PG\")\n",
    "\n"
   ]
  },
  {
   "cell_type": "code",
   "execution_count": 30,
   "id": "9eed9068-f036-46cb-99a0-1f56cfc89355",
   "metadata": {},
   "outputs": [
    {
     "data": {
      "text/html": [
       "<table border=\"1\" class=\"dataframe\">\n",
       "    <thead>\n",
       "        <tr>\n",
       "            <th>rank</th> <th>name</th> <th>position</th> <th>team</th> <th>salary</th> <th>season</th>\n",
       "        </tr>\n",
       "    </thead>\n",
       "    <tbody>\n",
       "        <tr>\n",
       "            <td>481 </td> <td>Tony Gaffney    </td> <td>SF      </td> <td>Memphis Grizzlies     </td> <td>2692  </td> <td>2010  </td>\n",
       "        </tr>\n",
       "        <tr>\n",
       "            <td>482 </td> <td>Oliver Lafayette</td> <td>G       </td> <td>Boston Celtics        </td> <td>2692  </td> <td>2010  </td>\n",
       "        </tr>\n",
       "        <tr>\n",
       "            <td>490 </td> <td>Linton Johnson  </td> <td>PF      </td> <td>Toronto Raptors       </td> <td>4533  </td> <td>2008  </td>\n",
       "        </tr>\n",
       "        <tr>\n",
       "            <td>491 </td> <td>Billy Thomas    </td> <td>SG      </td> <td>New Jersey Nets       </td> <td>4533  </td> <td>2008  </td>\n",
       "        </tr>\n",
       "        <tr>\n",
       "            <td>597 </td> <td>Amile Jefferson </td> <td>PF      </td> <td>Orlando Magic         </td> <td>4608  </td> <td>2018  </td>\n",
       "        </tr>\n",
       "        <tr>\n",
       "            <td>598 </td> <td>Aaron Jackson   </td> <td>F       </td> <td>Houston Rockets       </td> <td>4608  </td> <td>2018  </td>\n",
       "        </tr>\n",
       "        <tr>\n",
       "            <td>502 </td> <td>Theo Pinson     </td> <td>SG      </td> <td>Brooklyn Nets         </td> <td>4737  </td> <td>2019  </td>\n",
       "        </tr>\n",
       "        <tr>\n",
       "            <td>503 </td> <td>Kendrick Nunn   </td> <td>SG      </td> <td>Miami Heat            </td> <td>4737  </td> <td>2019  </td>\n",
       "        </tr>\n",
       "        <tr>\n",
       "            <td>480 </td> <td>Greg Stiemsma   </td> <td>C       </td> <td>Portland Trail Blazers</td> <td>5383  </td> <td>2010  </td>\n",
       "        </tr>\n",
       "        <tr>\n",
       "            <td>594 </td> <td>Dahntay Jones   </td> <td>SG      </td> <td>Cleveland Cavaliers   </td> <td>5767  </td> <td>2017  </td>\n",
       "        </tr>\n",
       "    </tbody>\n",
       "</table>\n",
       "<p>... (9446 rows omitted)</p>"
      ],
      "text/plain": [
       "rank | name             | position | team                   | salary | season\n",
       "481  | Tony Gaffney     | SF       | Memphis Grizzlies      | 2692   | 2010\n",
       "482  | Oliver Lafayette | G        | Boston Celtics         | 2692   | 2010\n",
       "490  | Linton Johnson   | PF       | Toronto Raptors        | 4533   | 2008\n",
       "491  | Billy Thomas     | SG       | New Jersey Nets        | 4533   | 2008\n",
       "597  | Amile Jefferson  | PF       | Orlando Magic          | 4608   | 2018\n",
       "598  | Aaron Jackson    | F        | Houston Rockets        | 4608   | 2018\n",
       "502  | Theo Pinson      | SG       | Brooklyn Nets          | 4737   | 2019\n",
       "503  | Kendrick Nunn    | SG       | Miami Heat             | 4737   | 2019\n",
       "480  | Greg Stiemsma    | C        | Portland Trail Blazers | 5383   | 2010\n",
       "594  | Dahntay Jones    | SG       | Cleveland Cavaliers    | 5767   | 2017\n",
       "... (9446 rows omitted)"
      ]
     },
     "execution_count": 30,
     "metadata": {},
     "output_type": "execute_result"
    }
   ],
   "source": [
    "nba_salaries.sort(\"salary\")\n"
   ]
  },
  {
   "cell_type": "code",
   "execution_count": 31,
   "id": "299752fe-b9bf-4ae8-ade6-927609100f57",
   "metadata": {},
   "outputs": [
    {
     "data": {
      "text/html": [
       "<table border=\"1\" class=\"dataframe\">\n",
       "    <thead>\n",
       "        <tr>\n",
       "            <th>rank</th> <th>name</th> <th>position</th> <th>team</th> <th>salary</th> <th>season</th>\n",
       "        </tr>\n",
       "    </thead>\n",
       "    <tbody>\n",
       "        <tr>\n",
       "            <td>1   </td> <td>Stephen Curry    </td> <td>PG      </td> <td>Golden State Warriors</td> <td>40231758</td> <td>2020  </td>\n",
       "        </tr>\n",
       "        <tr>\n",
       "            <td>2   </td> <td>Chris Paul       </td> <td>PG      </td> <td>Oklahoma City Thunder</td> <td>38506482</td> <td>2020  </td>\n",
       "        </tr>\n",
       "        <tr>\n",
       "            <td>3   </td> <td>Russell Westbrook</td> <td>PG      </td> <td>Houston Rockets      </td> <td>38506482</td> <td>2020  </td>\n",
       "        </tr>\n",
       "        <tr>\n",
       "            <td>4   </td> <td>John Wall        </td> <td>PG      </td> <td>Washington Wizards   </td> <td>38199000</td> <td>2020  </td>\n",
       "        </tr>\n",
       "        <tr>\n",
       "            <td>5   </td> <td>Kevin Durant     </td> <td>SF      </td> <td>Brooklyn Nets        </td> <td>38199000</td> <td>2020  </td>\n",
       "        </tr>\n",
       "        <tr>\n",
       "            <td>6   </td> <td>James Harden     </td> <td>SG      </td> <td>Houston Rockets      </td> <td>38199000</td> <td>2020  </td>\n",
       "        </tr>\n",
       "        <tr>\n",
       "            <td>1   </td> <td>Stephen Curry    </td> <td>PG      </td> <td>Golden State Warriors</td> <td>37457154</td> <td>2018  </td>\n",
       "        </tr>\n",
       "        <tr>\n",
       "            <td>1   </td> <td>Stephen Curry    </td> <td>PG      </td> <td>Golden State Warriors</td> <td>37457154</td> <td>2019  </td>\n",
       "        </tr>\n",
       "        <tr>\n",
       "            <td>7   </td> <td>LeBron James     </td> <td>SF      </td> <td>Los Angeles Lakers   </td> <td>37436858</td> <td>2020  </td>\n",
       "        </tr>\n",
       "        <tr>\n",
       "            <td>2   </td> <td>Chris Paul       </td> <td>PG      </td> <td>Houston Rockets      </td> <td>35654150</td> <td>2019  </td>\n",
       "        </tr>\n",
       "    </tbody>\n",
       "</table>\n",
       "<p>... (9446 rows omitted)</p>"
      ],
      "text/plain": [
       "rank | name              | position | team                  | salary   | season\n",
       "1    | Stephen Curry     | PG       | Golden State Warriors | 40231758 | 2020\n",
       "2    | Chris Paul        | PG       | Oklahoma City Thunder | 38506482 | 2020\n",
       "3    | Russell Westbrook | PG       | Houston Rockets       | 38506482 | 2020\n",
       "4    | John Wall         | PG       | Washington Wizards    | 38199000 | 2020\n",
       "5    | Kevin Durant      | SF       | Brooklyn Nets         | 38199000 | 2020\n",
       "6    | James Harden      | SG       | Houston Rockets       | 38199000 | 2020\n",
       "1    | Stephen Curry     | PG       | Golden State Warriors | 37457154 | 2018\n",
       "1    | Stephen Curry     | PG       | Golden State Warriors | 37457154 | 2019\n",
       "7    | LeBron James      | SF       | Los Angeles Lakers    | 37436858 | 2020\n",
       "2    | Chris Paul        | PG       | Houston Rockets       | 35654150 | 2019\n",
       "... (9446 rows omitted)"
      ]
     },
     "execution_count": 31,
     "metadata": {},
     "output_type": "execute_result"
    }
   ],
   "source": [
    "nba_salaries.sort(\"salary\", descending=True)\n"
   ]
  },
  {
   "cell_type": "code",
   "execution_count": 36,
   "id": "6c1aef38-d0b5-48e7-8375-0cde368aeb78",
   "metadata": {},
   "outputs": [
    {
     "data": {
      "text/html": [
       "<table border=\"1\" class=\"dataframe\">\n",
       "    <thead>\n",
       "        <tr>\n",
       "            <th>rank</th> <th>name</th> <th>position</th> <th>team</th> <th>salary</th> <th>season</th>\n",
       "        </tr>\n",
       "    </thead>\n",
       "    <tbody>\n",
       "        <tr>\n",
       "            <td>1   </td> <td>Stephen Curry    </td> <td>PG      </td> <td>Golden State Warriors </td> <td>37457154</td> <td>2019  </td>\n",
       "        </tr>\n",
       "        <tr>\n",
       "            <td>2   </td> <td>Chris Paul       </td> <td>PG      </td> <td>Houston Rockets       </td> <td>35654150</td> <td>2019  </td>\n",
       "        </tr>\n",
       "        <tr>\n",
       "            <td>4   </td> <td>Russell Westbrook</td> <td>PG      </td> <td>Oklahoma City Thunder </td> <td>35654150</td> <td>2019  </td>\n",
       "        </tr>\n",
       "        <tr>\n",
       "            <td>7   </td> <td>Kyle Lowry       </td> <td>PG      </td> <td>Toronto Raptors       </td> <td>31200000</td> <td>2019  </td>\n",
       "        </tr>\n",
       "        <tr>\n",
       "            <td>9   </td> <td>Mike Conley      </td> <td>PG      </td> <td>Memphis Grizzlies     </td> <td>30521115</td> <td>2019  </td>\n",
       "        </tr>\n",
       "        <tr>\n",
       "            <td>14  </td> <td>Damian Lillard   </td> <td>PG      </td> <td>Portland Trail Blazers</td> <td>27977689</td> <td>2019  </td>\n",
       "        </tr>\n",
       "        <tr>\n",
       "            <td>43  </td> <td>Kyrie Irving     </td> <td>PG      </td> <td>Boston Celtics        </td> <td>20099189</td> <td>2019  </td>\n",
       "        </tr>\n",
       "        <tr>\n",
       "            <td>45  </td> <td>Zach LaVine      </td> <td>PG      </td> <td>Chicago Bulls         </td> <td>19500000</td> <td>2019  </td>\n",
       "        </tr>\n",
       "        <tr>\n",
       "            <td>48  </td> <td>John Wall        </td> <td>PG      </td> <td>Washington Wizards    </td> <td>19169800</td> <td>2019  </td>\n",
       "        </tr>\n",
       "        <tr>\n",
       "            <td>49  </td> <td>George Hill      </td> <td>PG      </td> <td>Milwaukee Bucks       </td> <td>19000000</td> <td>2019  </td>\n",
       "        </tr>\n",
       "    </tbody>\n",
       "</table>\n",
       "<p>... (65 rows omitted)</p>"
      ],
      "text/plain": [
       "rank | name              | position | team                   | salary   | season\n",
       "1    | Stephen Curry     | PG       | Golden State Warriors  | 37457154 | 2019\n",
       "2    | Chris Paul        | PG       | Houston Rockets        | 35654150 | 2019\n",
       "4    | Russell Westbrook | PG       | Oklahoma City Thunder  | 35654150 | 2019\n",
       "7    | Kyle Lowry        | PG       | Toronto Raptors        | 31200000 | 2019\n",
       "9    | Mike Conley       | PG       | Memphis Grizzlies      | 30521115 | 2019\n",
       "14   | Damian Lillard    | PG       | Portland Trail Blazers | 27977689 | 2019\n",
       "43   | Kyrie Irving      | PG       | Boston Celtics         | 20099189 | 2019\n",
       "45   | Zach LaVine       | PG       | Chicago Bulls          | 19500000 | 2019\n",
       "48   | John Wall         | PG       | Washington Wizards     | 19169800 | 2019\n",
       "49   | George Hill       | PG       | Milwaukee Bucks        | 19000000 | 2019\n",
       "... (65 rows omitted)"
      ]
     },
     "execution_count": 36,
     "metadata": {},
     "output_type": "execute_result"
    }
   ],
   "source": [
    "nba_salaries.where(\"position\", \"PG\").where(\"season\", 2019)"
   ]
  },
  {
   "cell_type": "code",
   "execution_count": 39,
   "id": "f74143d4-7fce-49d3-a664-9a1a22ead988",
   "metadata": {},
   "outputs": [
    {
     "data": {
      "text/plain": [
       "numpy.ndarray"
      ]
     },
     "execution_count": 39,
     "metadata": {},
     "output_type": "execute_result"
    }
   ],
   "source": [
    "type(nba_salaries['position'])"
   ]
  },
  {
   "cell_type": "code",
   "execution_count": 40,
   "id": "e14455aa-0071-4695-a9ce-33605f3f2e65",
   "metadata": {},
   "outputs": [],
   "source": [
    "maxSalary = max(nba_salaries['salary'])\n"
   ]
  },
  {
   "cell_type": "code",
   "execution_count": 41,
   "id": "03a45124-cece-412e-9758-022a6ba15ac0",
   "metadata": {},
   "outputs": [
    {
     "data": {
      "text/plain": [
       "40231758"
      ]
     },
     "execution_count": 41,
     "metadata": {},
     "output_type": "execute_result"
    }
   ],
   "source": [
    "maxSalary"
   ]
  },
  {
   "cell_type": "code",
   "execution_count": 42,
   "id": "b1a76836-8bb6-4ccd-9b39-c10eccdeedbd",
   "metadata": {},
   "outputs": [
    {
     "data": {
      "text/html": [
       "<table border=\"1\" class=\"dataframe\">\n",
       "    <thead>\n",
       "        <tr>\n",
       "            <th>rank</th> <th>name</th> <th>position</th> <th>team</th> <th>salary</th> <th>season</th>\n",
       "        </tr>\n",
       "    </thead>\n",
       "    <tbody>\n",
       "        <tr>\n",
       "            <td>1   </td> <td>Stephen Curry</td> <td>PG      </td> <td>Golden State Warriors</td> <td>40231758</td> <td>2020  </td>\n",
       "        </tr>\n",
       "    </tbody>\n",
       "</table>"
      ],
      "text/plain": [
       "rank | name          | position | team                  | salary   | season\n",
       "1    | Stephen Curry | PG       | Golden State Warriors | 40231758 | 2020"
      ]
     },
     "execution_count": 42,
     "metadata": {},
     "output_type": "execute_result"
    }
   ],
   "source": [
    "nba_salaries.where('salary', maxSalary)"
   ]
  },
  {
   "cell_type": "code",
   "execution_count": 43,
   "id": "8048e7f4-3225-4df9-8025-3445964c5726",
   "metadata": {},
   "outputs": [],
   "source": [
    "minSalary = min(nba_salaries['salary'])"
   ]
  },
  {
   "cell_type": "code",
   "execution_count": 44,
   "id": "f4893838-a4eb-4a07-82bb-ed03dcee5948",
   "metadata": {},
   "outputs": [
    {
     "data": {
      "text/html": [
       "<table border=\"1\" class=\"dataframe\">\n",
       "    <thead>\n",
       "        <tr>\n",
       "            <th>rank</th> <th>name</th> <th>position</th> <th>team</th> <th>salary</th> <th>season</th>\n",
       "        </tr>\n",
       "    </thead>\n",
       "    <tbody>\n",
       "        <tr>\n",
       "            <td>481 </td> <td>Tony Gaffney    </td> <td>SF      </td> <td>Memphis Grizzlies</td> <td>2692  </td> <td>2010  </td>\n",
       "        </tr>\n",
       "        <tr>\n",
       "            <td>482 </td> <td>Oliver Lafayette</td> <td>G       </td> <td>Boston Celtics   </td> <td>2692  </td> <td>2010  </td>\n",
       "        </tr>\n",
       "    </tbody>\n",
       "</table>"
      ],
      "text/plain": [
       "rank | name             | position | team              | salary | season\n",
       "481  | Tony Gaffney     | SF       | Memphis Grizzlies | 2692   | 2010\n",
       "482  | Oliver Lafayette | G        | Boston Celtics    | 2692   | 2010"
      ]
     },
     "execution_count": 44,
     "metadata": {},
     "output_type": "execute_result"
    }
   ],
   "source": [
    "nba_salaries.where('salary', minSalary)"
   ]
  },
  {
   "cell_type": "code",
   "execution_count": 49,
   "id": "483d8221-8584-449a-905f-791519f3aa0f",
   "metadata": {},
   "outputs": [],
   "source": [
    "warriors = nba_salaries.where(\"team\", \"Golden State Warriors\")"
   ]
  },
  {
   "cell_type": "code",
   "execution_count": 50,
   "id": "a94ffec6-bb23-4c8a-b3e8-fe74d4d1772a",
   "metadata": {},
   "outputs": [
    {
     "data": {
      "text/html": [
       "<table border=\"1\" class=\"dataframe\">\n",
       "    <thead>\n",
       "        <tr>\n",
       "            <th>rank</th> <th>name</th> <th>position</th> <th>team</th> <th>salary</th> <th>season</th>\n",
       "        </tr>\n",
       "    </thead>\n",
       "    <tbody>\n",
       "        <tr>\n",
       "            <td>41  </td> <td>Donyell Marshall </td> <td>PF      </td> <td>Golden State Warriors</td> <td>5250000</td> <td>2000  </td>\n",
       "        </tr>\n",
       "        <tr>\n",
       "            <td>47  </td> <td>Erick Dampier    </td> <td>C       </td> <td>Golden State Warriors</td> <td>4988000</td> <td>2000  </td>\n",
       "        </tr>\n",
       "        <tr>\n",
       "            <td>58  </td> <td>Mookie Blaylock  </td> <td>G       </td> <td>Golden State Warriors</td> <td>4200000</td> <td>2000  </td>\n",
       "        </tr>\n",
       "        <tr>\n",
       "            <td>59  </td> <td>Chris Mills      </td> <td>SF      </td> <td>Golden State Warriors</td> <td>4200000</td> <td>2000  </td>\n",
       "        </tr>\n",
       "        <tr>\n",
       "            <td>64  </td> <td>Jason Caffey     </td> <td>F       </td> <td>Golden State Warriors</td> <td>3937000</td> <td>2000  </td>\n",
       "        </tr>\n",
       "        <tr>\n",
       "            <td>89  </td> <td>Vonteego Cummings</td> <td>PG      </td> <td>Golden State Warriors</td> <td>2600000</td> <td>2000  </td>\n",
       "        </tr>\n",
       "        <tr>\n",
       "            <td>92  </td> <td>Antawn Jamison   </td> <td>PF      </td> <td>Golden State Warriors</td> <td>2503000</td> <td>2000  </td>\n",
       "        </tr>\n",
       "        <tr>\n",
       "            <td>73  </td> <td>Erick Dampier    </td> <td>C       </td> <td>Golden State Warriors</td> <td>5611000</td> <td>2001  </td>\n",
       "        </tr>\n",
       "        <tr>\n",
       "            <td>91  </td> <td>Mookie Blaylock  </td> <td>G       </td> <td>Golden State Warriors</td> <td>4800000</td> <td>2001  </td>\n",
       "        </tr>\n",
       "        <tr>\n",
       "            <td>92  </td> <td>Chris Mills      </td> <td>SF      </td> <td>Golden State Warriors</td> <td>4800000</td> <td>2001  </td>\n",
       "        </tr>\n",
       "    </tbody>\n",
       "</table>\n",
       "<p>... (301 rows omitted)</p>"
      ],
      "text/plain": [
       "rank | name              | position | team                  | salary  | season\n",
       "41   | Donyell Marshall  | PF       | Golden State Warriors | 5250000 | 2000\n",
       "47   | Erick Dampier     | C        | Golden State Warriors | 4988000 | 2000\n",
       "58   | Mookie Blaylock   | G        | Golden State Warriors | 4200000 | 2000\n",
       "59   | Chris Mills       | SF       | Golden State Warriors | 4200000 | 2000\n",
       "64   | Jason Caffey      | F        | Golden State Warriors | 3937000 | 2000\n",
       "89   | Vonteego Cummings | PG       | Golden State Warriors | 2600000 | 2000\n",
       "92   | Antawn Jamison    | PF       | Golden State Warriors | 2503000 | 2000\n",
       "73   | Erick Dampier     | C        | Golden State Warriors | 5611000 | 2001\n",
       "91   | Mookie Blaylock   | G        | Golden State Warriors | 4800000 | 2001\n",
       "92   | Chris Mills       | SF       | Golden State Warriors | 4800000 | 2001\n",
       "... (301 rows omitted)"
      ]
     },
     "execution_count": 50,
     "metadata": {},
     "output_type": "execute_result"
    }
   ],
   "source": [
    "warriors\n"
   ]
  },
  {
   "cell_type": "code",
   "execution_count": 51,
   "id": "eb04aecd-0841-4824-b7b8-1dd8aefe4ea0",
   "metadata": {},
   "outputs": [],
   "source": [
    "warriorsmax = max(warriors['salary'])"
   ]
  },
  {
   "cell_type": "code",
   "execution_count": 52,
   "id": "5a5a12f0-c112-4a71-b244-29d2f1588b53",
   "metadata": {},
   "outputs": [
    {
     "data": {
      "text/plain": [
       "40231758"
      ]
     },
     "execution_count": 52,
     "metadata": {},
     "output_type": "execute_result"
    }
   ],
   "source": [
    "warriorsmax\n"
   ]
  },
  {
   "cell_type": "code",
   "execution_count": 53,
   "id": "e58d277b-503c-4e43-961d-7966fe4f913c",
   "metadata": {},
   "outputs": [],
   "source": [
    "warriorsmin = min(warriors['salary'])"
   ]
  },
  {
   "cell_type": "code",
   "execution_count": 54,
   "id": "c5565a00-b38e-4496-9e77-75579338f793",
   "metadata": {},
   "outputs": [
    {
     "data": {
      "text/plain": [
       "17328"
      ]
     },
     "execution_count": 54,
     "metadata": {},
     "output_type": "execute_result"
    }
   ],
   "source": [
    "warriorsmin\n"
   ]
  },
  {
   "cell_type": "code",
   "execution_count": 55,
   "id": "df1001bc-ef26-42ef-a688-66363c5fae7f",
   "metadata": {},
   "outputs": [],
   "source": [
    "import numpy as np\n"
   ]
  },
  {
   "cell_type": "code",
   "execution_count": 56,
   "id": "58366974-b5b8-463d-b17d-945680f54954",
   "metadata": {},
   "outputs": [],
   "source": [
    "n1 = make_array(1,2,3,4)"
   ]
  },
  {
   "cell_type": "code",
   "execution_count": 57,
   "id": "324148da-ca48-4847-a53b-4b59d9608c27",
   "metadata": {},
   "outputs": [
    {
     "data": {
      "text/plain": [
       "array([1, 2, 3, 4], dtype=int64)"
      ]
     },
     "execution_count": 57,
     "metadata": {},
     "output_type": "execute_result"
    }
   ],
   "source": [
    "n1"
   ]
  },
  {
   "cell_type": "code",
   "execution_count": 59,
   "id": "a05329c3-bcde-4608-815f-55e5de898a16",
   "metadata": {},
   "outputs": [],
   "source": [
    "n2 = make_array(5,6,7,8)"
   ]
  },
  {
   "cell_type": "code",
   "execution_count": 62,
   "id": "966919eb-2c8b-4c27-a145-a715f6ffd1e5",
   "metadata": {},
   "outputs": [
    {
     "data": {
      "text/plain": [
       "array([ 0.5,  1. ,  1.5,  2. ])"
      ]
     },
     "execution_count": 62,
     "metadata": {},
     "output_type": "execute_result"
    }
   ],
   "source": [
    "n1/2"
   ]
  },
  {
   "cell_type": "code",
   "execution_count": 61,
   "id": "2c6beec6-31d2-4969-b12d-e2f0cdcc9432",
   "metadata": {},
   "outputs": [
    {
     "data": {
      "text/plain": [
       "array([1, 2, 3, 4], dtype=int64)"
      ]
     },
     "execution_count": 61,
     "metadata": {},
     "output_type": "execute_result"
    }
   ],
   "source": [
    "n1\n"
   ]
  },
  {
   "cell_type": "code",
   "execution_count": 63,
   "id": "37d4f425-4fc4-41c1-ad56-105910254699",
   "metadata": {},
   "outputs": [
    {
     "data": {
      "text/plain": [
       "array([ 6,  8, 10, 12], dtype=int64)"
      ]
     },
     "execution_count": 63,
     "metadata": {},
     "output_type": "execute_result"
    }
   ],
   "source": [
    "n1+n2"
   ]
  },
  {
   "cell_type": "code",
   "execution_count": 64,
   "id": "4db13fcb-61d5-4941-9b3a-c71645b2e380",
   "metadata": {},
   "outputs": [],
   "source": [
    "n3 = list(n1)\n"
   ]
  },
  {
   "cell_type": "code",
   "execution_count": 65,
   "id": "6dfb7ddc-06af-495d-9bc4-b408e79951a7",
   "metadata": {},
   "outputs": [
    {
     "data": {
      "text/plain": [
       "[1, 2, 3, 4]"
      ]
     },
     "execution_count": 65,
     "metadata": {},
     "output_type": "execute_result"
    }
   ],
   "source": [
    "n3\n"
   ]
  },
  {
   "cell_type": "code",
   "execution_count": 66,
   "id": "bbe67006-6e28-487e-8534-db9abe7cd57e",
   "metadata": {},
   "outputs": [
    {
     "data": {
      "text/plain": [
       "'strawstraw'"
      ]
     },
     "execution_count": 66,
     "metadata": {},
     "output_type": "execute_result"
    }
   ],
   "source": [
    "\"straw\"*2"
   ]
  },
  {
   "cell_type": "code",
   "execution_count": 67,
   "id": "0c122a7e-61eb-41fe-8dc5-09cebad52855",
   "metadata": {},
   "outputs": [
    {
     "data": {
      "text/plain": [
       "'straw2'"
      ]
     },
     "execution_count": 67,
     "metadata": {},
     "output_type": "execute_result"
    }
   ],
   "source": [
    "\"straw\"+str(2)"
   ]
  },
  {
   "cell_type": "code",
   "execution_count": 68,
   "id": "8a9405d1-b017-4e70-b2eb-3d9989a69cc2",
   "metadata": {},
   "outputs": [
    {
     "data": {
      "text/plain": [
       "array([ 5250000,  4988000,  4200000,  4200000,  3937000,  2600000,\n",
       "        2503000,  5611000,  4800000,  4800000,  4386000,  3578000,\n",
       "        3390000,  2678000,  1842000,   757000,   316000,   316000,\n",
       "         241000,    32000,  6235000,  5400000,  5400000,  4913000,\n",
       "        4441000,  4400000,  3388000,  3000000,  2343000,  2021000,\n",
       "        1310000,   333000,   333000,  6858000,  6000000,  5540000,\n",
       "        4935000,  4469000,  4400000,  1409000,   700000,   512000,\n",
       "       10912000,  7482000,  5445000,  4400000,  1667000,  1507000,\n",
       "        3000000,  2481000,  2390000,  2232000, 13700000,  8888888,\n",
       "        7365079,  7312500,  5393300,  4506261,  1988160,  1910520,\n",
       "        1857360,  1760000,  1404360,   448762,   423762, 15070000,\n",
       "        9999999,  8125000,  2535260,  2157097,  2061720,  1986960,\n",
       "         798112,   744551,   664209,   259770, 16440000,  8425625,\n",
       "        6630000,  4000000,  3470771,  3000000,  2636696,  2323080,\n",
       "        2216400,  1800000,  1345800,   770610,   770610,   687456,\n",
       "         358107,   251272, 11000000,  9000000,  8275862,  7140000,\n",
       "        4500000,  2900000,  2497320,  1709280,  1634000,  1446720,\n",
       "        1262520,   797581,   711517,   711517,   442114,   442114,\n",
       "         442114,   422725, 11000000,  9000000,  8937931,  4140000,\n",
       "        3100000,  2710560,  1837560,  1600000,  1000497,   855189,\n",
       "         825497,   825497,   736420,   632455,   118435,    17328,\n",
       "       11000000, 10800000,  9000000,  6883800,  4447792,  3540000,\n",
       "        3065040,  2913840,  2225000,  1254720,   855189,   854389,\n",
       "         825497,   825497,   762195,   762195,   473604,   133723,\n",
       "       11610000,  9000000,  6750000,  4099920,  3823000,  3117120,\n",
       "        2956658,  2126520,  1027424,   855189,   854389,   854389,\n",
       "         854389,   825497,   785487,   650000,   633253,   473604,\n",
       "         473604,   211084,    75793, 13000000, 12744000, 10164000,\n",
       "        9000000,  5400000,  4099920,  4000000,  4000000,  3958742,\n",
       "        2798040,  2222160,  1020960,   884293,   854389,   854389,\n",
       "         854389,   850000,   825497,   762195,   633253,   473604,\n",
       "         211084,    75793, 14000000, 13878000, 12868632,  9887642,\n",
       "        3500000,  2923920,  2317920,  2162419,  2000000,  1056720,\n",
       "         875500,   660619,   490180, 15012000, 12972973, 12289544,\n",
       "       10629213,  5305000,  3657500,  3075880,  3049920,  1145685,\n",
       "        1145685,  1112880,  1104240,   915243,   915243,   816482,\n",
       "         816482,   816482,   167122, 15501000, 14260870, 13800000,\n",
       "       11710456, 11370786,  5543725,  3873398,  3815000,  2500000,\n",
       "        2008748,  1270964,  1131960,   947276,   947276,   845059,\n",
       "         289755, 26540100, 16663575, 15330435, 12112359, 11131368,\n",
       "        5782450,  2898000,  1403611,  1182840,  1171560,   980431,\n",
       "         980431,   980431,   980431,   980431,   980431,   980431,\n",
       "         543471,   543471,   543471,   543471,   543471, 37457154,\n",
       "       17826150, 17469565, 14814815,  7692308,  5192000,  3477600,\n",
       "        1544951,  1471382,  1471382,  1471382,  1471382,  1378242,\n",
       "        1312611,  1312611,  1312611,  1312611,   980431,   980431,\n",
       "         980431,   980431,   815615,   543471,   543471,   543471,\n",
       "         543471, 37457154, 30000000, 18988725, 17469565, 16000000,\n",
       "        8307692,  5337000,  1644240,  1544951,  1544951,  1512601,\n",
       "        1512601,  1378242,  1349383,   307648, 40231758, 32742000,\n",
       "       18539130,  4464226,  2177483,  1964760,  1897800,   898310,\n",
       "         898310,   842327,   654469,   350189,   350189])"
      ]
     },
     "execution_count": 68,
     "metadata": {},
     "output_type": "execute_result"
    }
   ],
   "source": [
    "warriors.column('salary')\n"
   ]
  },
  {
   "cell_type": "code",
   "execution_count": 70,
   "id": "b91c6c33-5694-499d-ad42-5cad798863ce",
   "metadata": {},
   "outputs": [
    {
     "data": {
      "text/plain": [
       "311"
      ]
     },
     "execution_count": 70,
     "metadata": {},
     "output_type": "execute_result"
    }
   ],
   "source": [
    "len(warriors.column('salary'))\n",
    "    "
   ]
  },
  {
   "cell_type": "code",
   "execution_count": 73,
   "id": "3552695d-825b-463e-b4b8-f5204f550035",
   "metadata": {},
   "outputs": [
    {
     "data": {
      "text/plain": [
       "4315935.9228295824"
      ]
     },
     "execution_count": 73,
     "metadata": {},
     "output_type": "execute_result"
    }
   ],
   "source": [
    "np.average(warriors.column('salary'))"
   ]
  },
  {
   "cell_type": "code",
   "execution_count": 76,
   "id": "2667ac54-f775-4bdc-84bb-15fc625f33d6",
   "metadata": {},
   "outputs": [],
   "source": [
    "phionix = nba_salaries.where('team', 'Phoenix Suns')\n"
   ]
  },
  {
   "cell_type": "code",
   "execution_count": 77,
   "id": "63c9e68a-a08f-4190-9dee-3914ad72ebf0",
   "metadata": {},
   "outputs": [
    {
     "data": {
      "text/plain": [
       "4177009.1084337351"
      ]
     },
     "execution_count": 77,
     "metadata": {},
     "output_type": "execute_result"
    }
   ],
   "source": [
    "np.average(phionix.column('salary'))"
   ]
  },
  {
   "cell_type": "code",
   "execution_count": 78,
   "id": "e9f8d2a9-9282-4e66-af45-05626fb77f5a",
   "metadata": {},
   "outputs": [
    {
     "data": {
      "text/plain": [
       "4177009.1084337351"
      ]
     },
     "execution_count": 78,
     "metadata": {},
     "output_type": "execute_result"
    }
   ],
   "source": [
    "np.average(nba_salaries.where('team', 'Phoenix Suns').column('salary'))"
   ]
  },
  {
   "cell_type": "code",
   "execution_count": 1,
   "id": "4ba64383-a143-4049-97f4-212800b0e470",
   "metadata": {},
   "outputs": [
    {
     "ename": "NameError",
     "evalue": "name 'nba_salaries' is not defined",
     "output_type": "error",
     "traceback": [
      "\u001b[1;31m---------------------------------------------------------------------------\u001b[0m",
      "\u001b[1;31mNameError\u001b[0m                                 Traceback (most recent call last)",
      "Cell \u001b[1;32mIn[1], line 1\u001b[0m\n\u001b[1;32m----> 1\u001b[0m \u001b[43mnba_salaries\u001b[49m\u001b[38;5;241m.\u001b[39mshow(\u001b[38;5;241m5\u001b[39m)\n",
      "\u001b[1;31mNameError\u001b[0m: name 'nba_salaries' is not defined"
     ]
    }
   ],
   "source": [
    "nba_salaries.show(5)\n"
   ]
  },
  {
   "cell_type": "code",
   "execution_count": 80,
   "id": "b264fdef-411b-4254-81e6-c4b827a5406f",
   "metadata": {},
   "outputs": [
    {
     "data": {
      "text/plain": [
       "5155791.9512987016"
      ]
     },
     "execution_count": 80,
     "metadata": {},
     "output_type": "execute_result"
    }
   ],
   "source": [
    "np.average(nba_salaries.where('team', 'Los Angeles Lakers').column('salary'))"
   ]
  },
  {
   "cell_type": "code",
   "execution_count": 90,
   "id": "20c30b09-971e-4e92-ae63-f93493509977",
   "metadata": {},
   "outputs": [],
   "source": [
    "def avTeamSalary(team):\n",
    "    return np.average(nba_salaries.where('team', team).column('salary'))\n",
    "def avSalary():\n",
    "    return np.average(nba_salaries['salary'])\n",
    "def highSalary():\n",
    "    return max(nba_salaries['salary'])\n",
    "def minSalary():\n",
    "    return min(nba_salaries['salary'])\n",
    "def highSalaryTeam(team):\n",
    "     return max(nba_salaries.where('team', team).column('salary'))\n",
    "def minSalaryTeam(team):\n",
    "     return min(nba_salaries.where('team', team).column('salary'))"
   ]
  },
  {
   "cell_type": "code",
   "execution_count": 91,
   "id": "a4689fd0-4f43-4379-b10e-29ec04c47e9c",
   "metadata": {},
   "outputs": [
    {
     "ename": "AttributeError",
     "evalue": "module 'numpy' has no attribute 'medium'",
     "output_type": "error",
     "traceback": [
      "\u001b[1;31m---------------------------------------------------------------------------\u001b[0m",
      "\u001b[1;31mAttributeError\u001b[0m                            Traceback (most recent call last)",
      "Cell \u001b[1;32mIn[91], line 1\u001b[0m\n\u001b[1;32m----> 1\u001b[0m \u001b[43mnp\u001b[49m\u001b[38;5;241;43m.\u001b[39;49m\u001b[43mmedium\u001b[49m(nba_salaries\u001b[38;5;241m.\u001b[39mwhere(\u001b[38;5;124m'\u001b[39m\u001b[38;5;124mteam\u001b[39m\u001b[38;5;124m'\u001b[39m, \u001b[38;5;124m'\u001b[39m\u001b[38;5;124mLos Angeles Lakers\u001b[39m\u001b[38;5;124m'\u001b[39m)\u001b[38;5;241m.\u001b[39mcolumn(\u001b[38;5;124m'\u001b[39m\u001b[38;5;124msalary\u001b[39m\u001b[38;5;124m'\u001b[39m))\n",
      "File \u001b[1;32m~\\AppData\\Local\\Packages\\PythonSoftwareFoundation.Python.3.11_qbz5n2kfra8p0\\LocalCache\\local-packages\\Python311\\site-packages\\numpy\\__init__.py:347\u001b[0m, in \u001b[0;36m__getattr__\u001b[1;34m(attr)\u001b[0m\n\u001b[0;32m    344\u001b[0m     \u001b[38;5;124m\"\u001b[39m\u001b[38;5;124mRemoved in NumPy 1.25.0\u001b[39m\u001b[38;5;124m\"\u001b[39m\n\u001b[0;32m    345\u001b[0m     \u001b[38;5;28;01mraise\u001b[39;00m \u001b[38;5;167;01mRuntimeError\u001b[39;00m(\u001b[38;5;124m\"\u001b[39m\u001b[38;5;124mTester was removed in NumPy 1.25.\u001b[39m\u001b[38;5;124m\"\u001b[39m)\n\u001b[1;32m--> 347\u001b[0m \u001b[38;5;28;01mraise\u001b[39;00m \u001b[38;5;167;01mAttributeError\u001b[39;00m(\u001b[38;5;124m\"\u001b[39m\u001b[38;5;124mmodule \u001b[39m\u001b[38;5;132;01m{!r}\u001b[39;00m\u001b[38;5;124m has no attribute \u001b[39m\u001b[38;5;124m\"\u001b[39m\n\u001b[0;32m    348\u001b[0m                      \u001b[38;5;124m\"\u001b[39m\u001b[38;5;132;01m{!r}\u001b[39;00m\u001b[38;5;124m\"\u001b[39m\u001b[38;5;241m.\u001b[39mformat(\u001b[38;5;18m__name__\u001b[39m, attr))\n",
      "\u001b[1;31mAttributeError\u001b[0m: module 'numpy' has no attribute 'medium'"
     ]
    }
   ],
   "source": [
    "np.medium(nba_salaries.where('team', 'Los Angeles Lakers').column('salary'))"
   ]
  },
  {
   "cell_type": "code",
   "execution_count": null,
   "id": "5157e2cc",
   "metadata": {},
   "outputs": [],
   "source": []
  }
 ],
 "metadata": {
  "kernelspec": {
   "display_name": "Python 3 (ipykernel)",
   "language": "python",
   "name": "python3"
  },
  "language_info": {
   "codemirror_mode": {
    "name": "ipython",
    "version": 3
   },
   "file_extension": ".py",
   "mimetype": "text/x-python",
   "name": "python",
   "nbconvert_exporter": "python",
   "pygments_lexer": "ipython3",
   "version": "3.11.8"
  }
 },
 "nbformat": 4,
 "nbformat_minor": 5
}
