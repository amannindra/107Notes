{
 "cells": [
  {
   "cell_type": "code",
   "execution_count": 3,
   "id": "e7feae86-dd70-46be-98bb-797573439e97",
   "metadata": {},
   "outputs": [],
   "source": [
    "# Run this cell, but please don't change it.\n",
    "\n",
    "# These lines import the Numpy and Datascience modules.\n",
    "import numpy as np\n",
    "from datascience import *\n",
    "\n",
    "# These lines do some fancy plotting magic\n",
    "import matplotlib\n",
    "%matplotlib inline\n",
    "import matplotlib.pyplot as plt\n",
    "plt.style.use('fivethirtyeight')\n",
    "\n"
   ]
  },
  {
   "cell_type": "code",
   "execution_count": 5,
   "id": "cdf143db-84b2-4d29-b57d-16474cdd94c2",
   "metadata": {},
   "outputs": [
    {
     "data": {
      "text/html": [
       "<table border=\"1\" class=\"dataframe\">\n",
       "    <thead>\n",
       "        <tr>\n",
       "            <th>Color</th> <th>Shape</th> <th>Amount</th> <th>Price ($)</th>\n",
       "        </tr>\n",
       "    </thead>\n",
       "    <tbody>\n",
       "        <tr>\n",
       "            <td>Dark </td> <td>Round    </td> <td>4     </td> <td>1.3      </td>\n",
       "        </tr>\n",
       "        <tr>\n",
       "            <td>Milk </td> <td>Rectangle</td> <td>6     </td> <td>1.2      </td>\n",
       "        </tr>\n",
       "        <tr>\n",
       "            <td>White</td> <td>Rectangle</td> <td>12    </td> <td>2        </td>\n",
       "        </tr>\n",
       "        <tr>\n",
       "            <td>Dark </td> <td>Round    </td> <td>7     </td> <td>1.75     </td>\n",
       "        </tr>\n",
       "        <tr>\n",
       "            <td>Milk </td> <td>Rectangle</td> <td>9     </td> <td>1.4      </td>\n",
       "        </tr>\n",
       "        <tr>\n",
       "            <td>Milk </td> <td>Round    </td> <td>2     </td> <td>1        </td>\n",
       "        </tr>\n",
       "    </tbody>\n",
       "</table>"
      ],
      "text/plain": [
       "<IPython.core.display.HTML object>"
      ]
     },
     "metadata": {},
     "output_type": "display_data"
    }
   ],
   "source": [
    "table = Table().with_columns({\n",
    "    \"Color\": [\"Dark\", \"Milk\", \"White\", \"Dark\", \"Milk\", \"Milk\"],\n",
    "    \"Shape\": [\"Round\", \"Rectangle\", \"Rectangle\", \"Round\", \"Rectangle\", \"Round\"],\n",
    "    \"Amount\": [4, 6, 12, 7, 9, 2],\n",
    "    \"Price ($)\":[1.30, 1.20, 2.00, 1.75, 1.40, 1.00]\n",
    "})\n",
    "table.show()"
   ]
  },
  {
   "cell_type": "code",
   "execution_count": 23,
   "id": "e080d915-5582-4b75-9e08-6694d839f1d6",
   "metadata": {},
   "outputs": [
    {
     "data": {
      "text/html": [
       "<table border=\"1\" class=\"dataframe\">\n",
       "    <thead>\n",
       "        <tr>\n",
       "            <th>Shape</th> <th>count</th>\n",
       "        </tr>\n",
       "    </thead>\n",
       "    <tbody>\n",
       "        <tr>\n",
       "            <td>Rectangle</td> <td>3    </td>\n",
       "        </tr>\n",
       "        <tr>\n",
       "            <td>Round    </td> <td>3    </td>\n",
       "        </tr>\n",
       "    </tbody>\n",
       "</table>"
      ],
      "text/plain": [
       "Shape     | count\n",
       "Rectangle | 3\n",
       "Round     | 3"
      ]
     },
     "execution_count": 23,
     "metadata": {},
     "output_type": "execute_result"
    }
   ],
   "source": [
    "table.group(\"Shape\")"
   ]
  },
  {
   "cell_type": "code",
   "execution_count": 10,
   "id": "3e1dab2c-25a9-4512-888b-5cab27148a62",
   "metadata": {},
   "outputs": [
    {
     "data": {
      "text/html": [
       "<table border=\"1\" class=\"dataframe\">\n",
       "    <thead>\n",
       "        <tr>\n",
       "            <th>Shape</th> <th>Color max</th> <th>Amount max</th> <th>Price ($) max</th>\n",
       "        </tr>\n",
       "    </thead>\n",
       "    <tbody>\n",
       "        <tr>\n",
       "            <td>Rectangle</td> <td>White    </td> <td>12        </td> <td>2            </td>\n",
       "        </tr>\n",
       "        <tr>\n",
       "            <td>Round    </td> <td>Milk     </td> <td>7         </td> <td>1.75         </td>\n",
       "        </tr>\n",
       "    </tbody>\n",
       "</table>"
      ],
      "text/plain": [
       "Shape     | Color max | Amount max | Price ($) max\n",
       "Rectangle | White     | 12         | 2\n",
       "Round     | Milk      | 7          | 1.75"
      ]
     },
     "execution_count": 10,
     "metadata": {},
     "output_type": "execute_result"
    }
   ],
   "source": [
    "table.group(\"Shape\",max)"
   ]
  },
  {
   "cell_type": "code",
   "execution_count": 12,
   "id": "4ca59b96-4eee-4122-97d2-a7e5e750c4c3",
   "metadata": {},
   "outputs": [
    {
     "data": {
      "text/html": [
       "<table border=\"1\" class=\"dataframe\">\n",
       "    <thead>\n",
       "        <tr>\n",
       "            <th>Shape</th> <th>Color</th> <th>Amount max</th> <th>Price ($) max</th>\n",
       "        </tr>\n",
       "    </thead>\n",
       "    <tbody>\n",
       "        <tr>\n",
       "            <td>Rectangle</td> <td>Milk </td> <td>9         </td> <td>1.4          </td>\n",
       "        </tr>\n",
       "        <tr>\n",
       "            <td>Rectangle</td> <td>White</td> <td>12        </td> <td>2            </td>\n",
       "        </tr>\n",
       "        <tr>\n",
       "            <td>Round    </td> <td>Dark </td> <td>7         </td> <td>1.75         </td>\n",
       "        </tr>\n",
       "        <tr>\n",
       "            <td>Round    </td> <td>Milk </td> <td>2         </td> <td>1            </td>\n",
       "        </tr>\n",
       "    </tbody>\n",
       "</table>"
      ],
      "text/plain": [
       "Shape     | Color | Amount max | Price ($) max\n",
       "Rectangle | Milk  | 9          | 1.4\n",
       "Rectangle | White | 12         | 2\n",
       "Round     | Dark  | 7          | 1.75\n",
       "Round     | Milk  | 2          | 1"
      ]
     },
     "execution_count": 12,
     "metadata": {},
     "output_type": "execute_result"
    }
   ],
   "source": [
    "table.group([\"Shape\", \"Color\"], max)"
   ]
  },
  {
   "cell_type": "code",
   "execution_count": 15,
   "id": "d6555de6-9978-4a6c-a452-0a914a158c0a",
   "metadata": {},
   "outputs": [
    {
     "data": {
      "text/html": [
       "<table border=\"1\" class=\"dataframe\">\n",
       "    <thead>\n",
       "        <tr>\n",
       "            <th>Shape</th> <th>Dark</th> <th>Milk</th> <th>White</th>\n",
       "        </tr>\n",
       "    </thead>\n",
       "    <tbody>\n",
       "        <tr>\n",
       "            <td>Rectangle</td> <td>0   </td> <td>1.4 </td> <td>2    </td>\n",
       "        </tr>\n",
       "        <tr>\n",
       "            <td>Round    </td> <td>1.75</td> <td>1   </td> <td>0    </td>\n",
       "        </tr>\n",
       "    </tbody>\n",
       "</table>"
      ],
      "text/plain": [
       "Shape     | Dark | Milk | White\n",
       "Rectangle | 0    | 1.4  | 2\n",
       "Round     | 1.75 | 1    | 0"
      ]
     },
     "execution_count": 15,
     "metadata": {},
     "output_type": "execute_result"
    }
   ],
   "source": [
    "table.pivot(\"Color\", \"Shape\", \"Price ($)\", max)"
   ]
  },
  {
   "cell_type": "code",
   "execution_count": 24,
   "id": "a049f370-2225-4598-9086-937ce0d65ec1",
   "metadata": {},
   "outputs": [],
   "source": [
    "nutrition = Table().with_columns({\n",
    "    \"Type\": [\"Dark\", \"Milk\", \"White\", \"Ruby\"],\n",
    "    \"Calories\": [120, 130, 115, 120]\n",
    "})"
   ]
  },
  {
   "cell_type": "code",
   "execution_count": 25,
   "id": "a83baf6b-f35b-4607-80d2-66bf06d9f3cd",
   "metadata": {},
   "outputs": [
    {
     "data": {
      "text/html": [
       "<table border=\"1\" class=\"dataframe\">\n",
       "    <thead>\n",
       "        <tr>\n",
       "            <th>Color</th> <th>Shape</th> <th>Amount</th> <th>Price ($)</th> <th>Calories</th>\n",
       "        </tr>\n",
       "    </thead>\n",
       "    <tbody>\n",
       "        <tr>\n",
       "            <td>Dark </td> <td>Round    </td> <td>4     </td> <td>1.3      </td> <td>120     </td>\n",
       "        </tr>\n",
       "        <tr>\n",
       "            <td>Dark </td> <td>Round    </td> <td>7     </td> <td>1.75     </td> <td>120     </td>\n",
       "        </tr>\n",
       "        <tr>\n",
       "            <td>Milk </td> <td>Rectangle</td> <td>6     </td> <td>1.2      </td> <td>130     </td>\n",
       "        </tr>\n",
       "        <tr>\n",
       "            <td>Milk </td> <td>Rectangle</td> <td>9     </td> <td>1.4      </td> <td>130     </td>\n",
       "        </tr>\n",
       "        <tr>\n",
       "            <td>Milk </td> <td>Round    </td> <td>2     </td> <td>1        </td> <td>130     </td>\n",
       "        </tr>\n",
       "        <tr>\n",
       "            <td>White</td> <td>Rectangle</td> <td>12    </td> <td>2        </td> <td>115     </td>\n",
       "        </tr>\n",
       "    </tbody>\n",
       "</table>"
      ],
      "text/plain": [
       "Color | Shape     | Amount | Price ($) | Calories\n",
       "Dark  | Round     | 4      | 1.3       | 120\n",
       "Dark  | Round     | 7      | 1.75      | 120\n",
       "Milk  | Rectangle | 6      | 1.2       | 130\n",
       "Milk  | Rectangle | 9      | 1.4       | 130\n",
       "Milk  | Round     | 2      | 1         | 130\n",
       "White | Rectangle | 12     | 2         | 115"
      ]
     },
     "execution_count": 25,
     "metadata": {},
     "output_type": "execute_result"
    }
   ],
   "source": [
    "table.join(\"Color\", nutrition,\"Type\")"
   ]
  },
  {
   "cell_type": "code",
   "execution_count": 26,
   "id": "e916cc7b-270e-45cd-8167-4cf1f3d4f627",
   "metadata": {},
   "outputs": [
    {
     "data": {
      "text/html": [
       "<table border=\"1\" class=\"dataframe\">\n",
       "    <thead>\n",
       "        <tr>\n",
       "            <th>Shape</th> <th>Color</th> <th>count</th>\n",
       "        </tr>\n",
       "    </thead>\n",
       "    <tbody>\n",
       "        <tr>\n",
       "            <td>Rectangle</td> <td>Milk </td> <td>2    </td>\n",
       "        </tr>\n",
       "        <tr>\n",
       "            <td>Rectangle</td> <td>White</td> <td>1    </td>\n",
       "        </tr>\n",
       "        <tr>\n",
       "            <td>Round    </td> <td>Dark </td> <td>2    </td>\n",
       "        </tr>\n",
       "        <tr>\n",
       "            <td>Round    </td> <td>Milk </td> <td>1    </td>\n",
       "        </tr>\n",
       "    </tbody>\n",
       "</table>"
      ],
      "text/plain": [
       "Shape     | Color | count\n",
       "Rectangle | Milk  | 2\n",
       "Rectangle | White | 1\n",
       "Round     | Dark  | 2\n",
       "Round     | Milk  | 1"
      ]
     },
     "execution_count": 26,
     "metadata": {},
     "output_type": "execute_result"
    }
   ],
   "source": [
    "table.group([\"Shape\", \"Color\"])"
   ]
  },
  {
   "cell_type": "code",
   "execution_count": null,
   "id": "d9518f19-f3c2-4e19-adad-0e52b9a930ae",
   "metadata": {},
   "outputs": [],
   "source": []
  }
 ],
 "metadata": {
  "kernelspec": {
   "display_name": "Python 3 (ipykernel)",
   "language": "python",
   "name": "python3"
  },
  "language_info": {
   "codemirror_mode": {
    "name": "ipython",
    "version": 3
   },
   "file_extension": ".py",
   "mimetype": "text/x-python",
   "name": "python",
   "nbconvert_exporter": "python",
   "pygments_lexer": "ipython3",
   "version": "3.11.9"
  }
 },
 "nbformat": 4,
 "nbformat_minor": 5
}
