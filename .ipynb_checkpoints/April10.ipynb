{
 "cells": [
  {
   "cell_type": "code",
   "execution_count": 2,
   "id": "a2a27781-1afa-47a1-ba61-959509d441e3",
   "metadata": {},
   "outputs": [],
   "source": [
    "# Run this cell to set up the notebook, but please don't change it.\n",
    "%matplotlib inline\n",
    "\n",
    "# These lines import the Numpy and Datascience modules.\n",
    "import numpy as np\n",
    "from datascience import *\n",
    "\n",
    "# These lines do some fancy plotting magic.\n",
    "import matplotlib\n",
    "import matplotlib.pyplot as plt\n",
    "plt.style.use('fivethirtyeight')"
   ]
  },
  {
   "cell_type": "code",
   "execution_count": 3,
   "id": "d892ea35-a9b6-4c36-9947-201299f591d0",
   "metadata": {},
   "outputs": [],
   "source": [
    "arr_str = [\"Mercedes\", \"BMW\", \"Audi\",\"Ferrari\",\"Ford\"]\n",
    "arr_num = {5,4,6,7,8}\n",
    "np_arr_str = np.array(arr_str)\n",
    "np_arr_num = np.array(arr_num)\n"
   ]
  },
  {
   "cell_type": "code",
   "execution_count": 4,
   "id": "a3688771-8ed6-4d35-8d2c-03acd10ec8cb",
   "metadata": {},
   "outputs": [
    {
     "name": "stdout",
     "output_type": "stream",
     "text": [
      "Numpy array Cars ['Mercedes' 'BMW' 'Audi' 'Ferrari' 'Ford']\n",
      "Numpy array Cars ['Mercedes' 'BMW' 'Audi' 'Ferrari' 'Ford']\n"
     ]
    }
   ],
   "source": [
    "print(f\"Numpy array Cars {np_arr_str}\")\n",
    "print(f\"Numpy array Cars {np_arr_str}\")"
   ]
  },
  {
   "cell_type": "code",
   "execution_count": 5,
   "id": "b7ce5e35-5d86-41a3-9548-5ac40ccfa6c1",
   "metadata": {},
   "outputs": [
    {
     "name": "stdout",
     "output_type": "stream",
     "text": [
      "Numpy array Cars <class 'numpy.ndarray'>\n",
      "Numpy array Cars <class 'numpy.ndarray'>\n"
     ]
    }
   ],
   "source": [
    "print(f\"Numpy array Cars {type(np_arr_str)}\")\n",
    "print(f\"Numpy array Cars {type(np_arr_str)}\")"
   ]
  },
  {
   "cell_type": "code",
   "execution_count": 6,
   "id": "9f26ff8c-d946-4024-b257-0bfcc204e5fc",
   "metadata": {},
   "outputs": [],
   "source": [
    "matrix = np.array([[1,2,1],[4,5,6],[7,8,9]])"
   ]
  },
  {
   "cell_type": "code",
   "execution_count": 7,
   "id": "48bb446a-fac5-4df9-a733-9bc5285ee01c",
   "metadata": {},
   "outputs": [
    {
     "data": {
      "text/plain": [
       "array([[1, 2, 1],\n",
       "       [4, 5, 6],\n",
       "       [7, 8, 9]])"
      ]
     },
     "execution_count": 7,
     "metadata": {},
     "output_type": "execute_result"
    }
   ],
   "source": [
    "matrix"
   ]
  },
  {
   "cell_type": "code",
   "execution_count": 8,
   "id": "dcc600bd-5fab-4290-9b02-df11f7848257",
   "metadata": {},
   "outputs": [],
   "source": [
    "# Numpy Functions\n",
    "arr2 = np.arange(start = 0, stop = 10)"
   ]
  },
  {
   "cell_type": "code",
   "execution_count": 9,
   "id": "b33c72e4-ee87-4be8-949b-1b8aad64448f",
   "metadata": {},
   "outputs": [
    {
     "data": {
      "text/plain": [
       "array([0, 1, 2, 3, 4, 5, 6, 7, 8, 9])"
      ]
     },
     "execution_count": 9,
     "metadata": {},
     "output_type": "execute_result"
    }
   ],
   "source": [
    "arr2"
   ]
  },
  {
   "cell_type": "code",
   "execution_count": 10,
   "id": "701859c5-5128-4907-867f-e228c6bbff1c",
   "metadata": {},
   "outputs": [
    {
     "data": {
      "text/plain": [
       "array([0, 2, 4, 6, 8])"
      ]
     },
     "execution_count": 10,
     "metadata": {},
     "output_type": "execute_result"
    }
   ],
   "source": [
    "np.arange(0,10,2)"
   ]
  },
  {
   "cell_type": "code",
   "execution_count": 11,
   "id": "27070c25-0674-4052-8088-435342c4404f",
   "metadata": {},
   "outputs": [],
   "source": [
    "\n",
    "matrix2 = np.linspace(0,5)"
   ]
  },
  {
   "cell_type": "code",
   "execution_count": 12,
   "id": "b352885e-b1b4-4cf8-a670-6060fcd21a93",
   "metadata": {},
   "outputs": [
    {
     "data": {
      "text/plain": [
       "array([ 0.        ,  0.10204082,  0.20408163,  0.30612245,  0.40816327,\n",
       "        0.51020408,  0.6122449 ,  0.71428571,  0.81632653,  0.91836735,\n",
       "        1.02040816,  1.12244898,  1.2244898 ,  1.32653061,  1.42857143,\n",
       "        1.53061224,  1.63265306,  1.73469388,  1.83673469,  1.93877551,\n",
       "        2.04081633,  2.14285714,  2.24489796,  2.34693878,  2.44897959,\n",
       "        2.55102041,  2.65306122,  2.75510204,  2.85714286,  2.95918367,\n",
       "        3.06122449,  3.16326531,  3.26530612,  3.36734694,  3.46938776,\n",
       "        3.57142857,  3.67346939,  3.7755102 ,  3.87755102,  3.97959184,\n",
       "        4.08163265,  4.18367347,  4.28571429,  4.3877551 ,  4.48979592,\n",
       "        4.59183673,  4.69387755,  4.79591837,  4.89795918,  5.        ])"
      ]
     },
     "execution_count": 12,
     "metadata": {},
     "output_type": "execute_result"
    }
   ],
   "source": [
    "matrix2"
   ]
  },
  {
   "cell_type": "code",
   "execution_count": 13,
   "id": "8dde3cb6-2ac4-431b-a99a-a43e14db0cfe",
   "metadata": {},
   "outputs": [
    {
     "data": {
      "text/plain": [
       "array([ 0.        ,  0.55555556,  1.11111111,  1.66666667,  2.22222222,\n",
       "        2.77777778,  3.33333333,  3.88888889,  4.44444444,  5.        ])"
      ]
     },
     "execution_count": 13,
     "metadata": {},
     "output_type": "execute_result"
    }
   ],
   "source": [
    "np.linspace(0,5,10)"
   ]
  },
  {
   "cell_type": "code",
   "execution_count": 14,
   "id": "e117c005-d4e6-484f-a0b0-61fd146ce2ec",
   "metadata": {},
   "outputs": [
    {
     "data": {
      "text/plain": [
       "array([[ 1.,  1.,  1.,  1.,  1.],\n",
       "       [ 1.,  1.,  1.,  1.,  1.],\n",
       "       [ 1.,  1.,  1.,  1.,  1.]])"
      ]
     },
     "execution_count": 14,
     "metadata": {},
     "output_type": "execute_result"
    }
   ],
   "source": [
    "np.ones([3,5])"
   ]
  },
  {
   "cell_type": "code",
   "execution_count": 15,
   "id": "e6c0cf2a-a61e-4cd4-b285-91ce9ecad8c3",
   "metadata": {},
   "outputs": [
    {
     "data": {
      "text/plain": [
       "array([[ 1.,  0.,  0.,  0.,  0.],\n",
       "       [ 0.,  1.,  0.,  0.,  0.],\n",
       "       [ 0.,  0.,  1.,  0.,  0.],\n",
       "       [ 0.,  0.,  0.,  1.,  0.],\n",
       "       [ 0.,  0.,  0.,  0.,  1.]])"
      ]
     },
     "execution_count": 15,
     "metadata": {},
     "output_type": "execute_result"
    }
   ],
   "source": [
    "np.eye(5)"
   ]
  },
  {
   "cell_type": "code",
   "execution_count": 16,
   "id": "30c716df-fdc4-49c9-9f29-7f1eecf819af",
   "metadata": {},
   "outputs": [],
   "source": [
    "arr4 = np.arange(0,10)"
   ]
  },
  {
   "cell_type": "code",
   "execution_count": 17,
   "id": "2a16672a-47f3-4b7f-a526-cf595720fed8",
   "metadata": {},
   "outputs": [
    {
     "data": {
      "text/plain": [
       "array([0, 1, 2, 3, 4, 5, 6, 7, 8, 9])"
      ]
     },
     "execution_count": 17,
     "metadata": {},
     "output_type": "execute_result"
    }
   ],
   "source": [
    "arr4"
   ]
  },
  {
   "cell_type": "code",
   "execution_count": 18,
   "id": "5980ac55-0bb6-4f49-9bf7-8c7ab4291e0d",
   "metadata": {},
   "outputs": [
    {
     "data": {
      "text/plain": [
       "array([[0, 1, 2, 3, 4],\n",
       "       [5, 6, 7, 8, 9]])"
      ]
     },
     "execution_count": 18,
     "metadata": {},
     "output_type": "execute_result"
    }
   ],
   "source": [
    "arr4_reshaped = arr4.reshape([2,5])\n",
    "arr4_reshaped"
   ]
  },
  {
   "cell_type": "code",
   "execution_count": 19,
   "id": "8cc87020-0d3e-49ca-a5c1-7af9755a7238",
   "metadata": {},
   "outputs": [
    {
     "name": "stdout",
     "output_type": "stream",
     "text": [
      "Sins Function -0.756802495308\n",
      "Sins Function -0.653643620864\n",
      "Sins Function 1.15782128235\n"
     ]
    }
   ],
   "source": [
    "print(\"Sins Function\", np.sin(4))\n",
    "print(\"Sins Function\", np.cos(4))\n",
    "print(\"Sins Function\", np.tan(4))\n",
    "\n"
   ]
  },
  {
   "cell_type": "code",
   "execution_count": 20,
   "id": "efb2005c-b70e-4c7e-9945-1dd70d1129fe",
   "metadata": {},
   "outputs": [
    {
     "data": {
      "text/plain": [
       "20.085536923187668"
      ]
     },
     "execution_count": 20,
     "metadata": {},
     "output_type": "execute_result"
    }
   ],
   "source": [
    "np.exp(2)\n",
    "np.exp(3) # === e^3"
   ]
  },
  {
   "cell_type": "code",
   "execution_count": 21,
   "id": "4c26cd00-22de-431d-80f0-d0e8da009ffc",
   "metadata": {},
   "outputs": [
    {
     "name": "stdout",
     "output_type": "stream",
     "text": [
      "4\n",
      "16\n",
      "36\n"
     ]
    }
   ],
   "source": [
    "arr=[2,4,6]\n",
    "for i in arr:\n",
    "    print(i**2)"
   ]
  },
  {
   "cell_type": "code",
   "execution_count": 22,
   "id": "b8134a56-ffa5-4c26-9b20-182e00348789",
   "metadata": {},
   "outputs": [
    {
     "data": {
      "text/plain": [
       "array([   7.3890561 ,   54.59815003,  403.42879349])"
      ]
     },
     "execution_count": 22,
     "metadata": {},
     "output_type": "execute_result"
    }
   ],
   "source": [
    "np.exp(arr)"
   ]
  },
  {
   "cell_type": "code",
   "execution_count": 23,
   "id": "22d84d05-5df5-4b6d-bc40-5b344d5881b5",
   "metadata": {},
   "outputs": [
    {
     "data": {
      "text/plain": [
       "0.69314718055994529"
      ]
     },
     "execution_count": 23,
     "metadata": {},
     "output_type": "execute_result"
    }
   ],
   "source": [
    "np.log(2)"
   ]
  },
  {
   "cell_type": "code",
   "execution_count": 24,
   "id": "9330bd38-6afd-4238-9f11-b2e7ba2a5579",
   "metadata": {},
   "outputs": [
    {
     "data": {
      "text/plain": [
       "1.0"
      ]
     },
     "execution_count": 24,
     "metadata": {},
     "output_type": "execute_result"
    }
   ],
   "source": [
    "np.log10(10)"
   ]
  },
  {
   "cell_type": "code",
   "execution_count": 25,
   "id": "950b0917-177f-4d03-80ff-5547378e6039",
   "metadata": {},
   "outputs": [
    {
     "data": {
      "text/plain": [
       "[1, 2, 3, 4, 5, 6]"
      ]
     },
     "execution_count": 25,
     "metadata": {},
     "output_type": "execute_result"
    }
   ],
   "source": [
    "l1=[1,2,3]\n",
    "l2=[4,5,6]\n",
    "l3=l1+l2\n",
    "l3"
   ]
  },
  {
   "cell_type": "code",
   "execution_count": 26,
   "id": "c4e5eaf4-7675-4c1a-af60-7d9972a28fe9",
   "metadata": {},
   "outputs": [
    {
     "data": {
      "text/plain": [
       "list"
      ]
     },
     "execution_count": 26,
     "metadata": {},
     "output_type": "execute_result"
    }
   ],
   "source": [
    "type(l3)"
   ]
  },
  {
   "cell_type": "code",
   "execution_count": 27,
   "id": "6c4c9716-872c-44d1-9372-ea976a3f7c79",
   "metadata": {},
   "outputs": [
    {
     "name": "stdout",
     "output_type": "stream",
     "text": [
      "[1 2 3 4 5]\n",
      "[3 4 5 6 7]\n"
     ]
    }
   ],
   "source": [
    "arr6 = np.arange(1,6)\n",
    "arr7 = np.arange(3,8)\n",
    "print(arr6)\n",
    "print(arr7)"
   ]
  },
  {
   "cell_type": "code",
   "execution_count": 28,
   "id": "fc0c69f2-4574-4633-81b1-87ea8dcbaf5a",
   "metadata": {},
   "outputs": [
    {
     "name": "stdout",
     "output_type": "stream",
     "text": [
      "Addition [ 4  6  8 10 12]\n",
      "Subtraction [-2 -2 -2 -2 -2]\n",
      "Multiplication [ 3  8 15 24 35]\n",
      "Division [ 0.33333333  0.5         0.6         0.66666667  0.71428571]\n"
     ]
    }
   ],
   "source": [
    "print(\"Addition\", arr6+arr7)\n",
    "print(\"Subtraction\", arr6-arr7)\n",
    "print(\"Multiplication\", arr6*arr7)\n",
    "print(\"Division\", arr6/arr7)\n"
   ]
  },
  {
   "cell_type": "code",
   "execution_count": 29,
   "id": "a7f314d7-3673-401d-8ac8-f8cc563ea4c3",
   "metadata": {},
   "outputs": [
    {
     "data": {
      "text/plain": [
       "array([[1, 2, 3],\n",
       "       [4, 5, 6],\n",
       "       [7, 8, 9]])"
      ]
     },
     "execution_count": 29,
     "metadata": {},
     "output_type": "execute_result"
    }
   ],
   "source": [
    "arr7 = np.arange(1,10).reshape(3,3)\n",
    "arr7"
   ]
  },
  {
   "cell_type": "code",
   "execution_count": 30,
   "id": "8fa0bd22-8275-473e-a41c-6fd83c1a3b2c",
   "metadata": {},
   "outputs": [
    {
     "name": "stdout",
     "output_type": "stream",
     "text": [
      "[[1 2 3]\n",
      " [4 5 6]\n",
      " [7 8 9]]\n",
      "[[1 2 3]\n",
      " [4 5 6]\n",
      " [7 8 9]]\n"
     ]
    }
   ],
   "source": [
    "matrix9 = np.arange(1,10).reshape(3,3)\n",
    "print(matrix9)\n",
    "matrix10 = np.arange(1,10).reshape(3,3)\n",
    "print(matrix10)"
   ]
  },
  {
   "cell_type": "code",
   "execution_count": 31,
   "id": "a81cb51f-97de-4967-a80f-c064065a46e0",
   "metadata": {},
   "outputs": [
    {
     "name": "stdout",
     "output_type": "stream",
     "text": [
      "Multiplication\n",
      " [[ 30  36  42]\n",
      " [ 66  81  96]\n",
      " [102 126 150]]\n"
     ]
    }
   ],
   "source": [
    "print(\"Multiplication\\n\",matrix9@matrix10)"
   ]
  },
  {
   "cell_type": "code",
   "execution_count": 32,
   "id": "69407c25-5c27-4640-a664-295af85bdcd8",
   "metadata": {},
   "outputs": [
    {
     "name": "stdout",
     "output_type": "stream",
     "text": [
      "[[1 4 7]\n",
      " [2 5 8]\n",
      " [3 6 9]]\n",
      "[[1 2 3]\n",
      " [4 5 6]\n",
      " [7 8 9]]\n"
     ]
    }
   ],
   "source": [
    "print(np.transpose(matrix9))\n",
    "print(matrix9)\n"
   ]
  },
  {
   "cell_type": "code",
   "execution_count": 33,
   "id": "207b0149-fd43-4c1b-a5b8-59c6d9721863",
   "metadata": {},
   "outputs": [
    {
     "data": {
      "text/plain": [
       "array([[1, 4, 7],\n",
       "       [2, 5, 8],\n",
       "       [3, 6, 9]])"
      ]
     },
     "execution_count": 33,
     "metadata": {},
     "output_type": "execute_result"
    }
   ],
   "source": [
    "matrix9.T # another of way doing transpose"
   ]
  },
  {
   "cell_type": "code",
   "execution_count": 34,
   "id": "b3171dfa-12d8-405a-8c26-d6e8a4e0e627",
   "metadata": {},
   "outputs": [
    {
     "name": "stdout",
     "output_type": "stream",
     "text": [
      "Minimum 1\n"
     ]
    }
   ],
   "source": [
    "print(\"Minimum\",np.min(matrix10))"
   ]
  },
  {
   "cell_type": "code",
   "execution_count": 35,
   "id": "3bb2f6b0-bbd7-4a68-befd-4bdef139e998",
   "metadata": {},
   "outputs": [
    {
     "name": "stdout",
     "output_type": "stream",
     "text": [
      "Minimum 9\n"
     ]
    }
   ],
   "source": [
    "print(\"Minimum\",np.max(matrix10))\n"
   ]
  },
  {
   "cell_type": "code",
   "execution_count": 36,
   "id": "16e4e0ab-f52f-4d8a-8c8e-a0e926d965b0",
   "metadata": {},
   "outputs": [
    {
     "data": {
      "text/plain": [
       "array([ 0.00918242,  0.42696946,  0.98532406,  0.64676553,  0.8827408 ])"
      ]
     },
     "execution_count": 36,
     "metadata": {},
     "output_type": "execute_result"
    }
   ],
   "source": [
    "np.random.rand(5) # 5 random numbers from 0 to 1"
   ]
  },
  {
   "cell_type": "code",
   "execution_count": 37,
   "id": "14547201-9ecf-4815-9f4f-ee8f43eeea8e",
   "metadata": {},
   "outputs": [
    {
     "data": {
      "text/plain": [
       "array([ 0.87910908,  0.43145321,  0.73049233,  0.03362836,  0.20449814,\n",
       "        0.80817559,  0.13612481,  0.93412345,  0.41252899,  0.43665326])"
      ]
     },
     "execution_count": 37,
     "metadata": {},
     "output_type": "execute_result"
    }
   ],
   "source": [
    "np.random.rand(10) "
   ]
  },
  {
   "cell_type": "code",
   "execution_count": 38,
   "id": "e27974e1-5a0b-4c86-bd26-780991ee8e54",
   "metadata": {},
   "outputs": [
    {
     "data": {
      "text/plain": [
       "array([[ 0.16814038,  0.02733879,  0.75862821,  0.58755599,  0.9055368 ],\n",
       "       [ 0.77597715,  0.93728461,  0.28069993,  0.34883137,  0.24490836],\n",
       "       [ 0.35607811,  0.43929769,  0.38065364,  0.72383122,  0.74634288],\n",
       "       [ 0.45830556,  0.97428185,  0.34190262,  0.02149708,  0.26924933],\n",
       "       [ 0.95179313,  0.96525549,  0.56255681,  0.33355167,  0.97986205]])"
      ]
     },
     "execution_count": 38,
     "metadata": {},
     "output_type": "execute_result"
    }
   ],
   "source": [
    "np.random.rand(5,5) "
   ]
  },
  {
   "cell_type": "code",
   "execution_count": 39,
   "id": "48774c39-d866-419d-a413-d633f3f6d700",
   "metadata": {},
   "outputs": [
    {
     "data": {
      "text/plain": [
       "array([[1, 2, 3],\n",
       "       [4, 5, 6],\n",
       "       [7, 8, 9]])"
      ]
     },
     "execution_count": 39,
     "metadata": {},
     "output_type": "execute_result"
    }
   ],
   "source": [
    "matrix9"
   ]
  },
  {
   "cell_type": "code",
   "execution_count": 40,
   "id": "c68e94ba-bf5b-4a07-82b6-b32e72564f32",
   "metadata": {},
   "outputs": [
    {
     "name": "stdout",
     "output_type": "stream",
     "text": [
      "[[False False False]\n",
      " [ True  True  True]\n",
      " [ True  True  True]]\n"
     ]
    }
   ],
   "source": [
    "print(matrix9>3)"
   ]
  },
  {
   "cell_type": "code",
   "execution_count": 41,
   "id": "aeb77bbe-8425-4130-bc1d-0151e43843ae",
   "metadata": {},
   "outputs": [
    {
     "data": {
      "text/plain": [
       "array([4, 5, 6, 7, 8, 9])"
      ]
     },
     "execution_count": 41,
     "metadata": {},
     "output_type": "execute_result"
    }
   ],
   "source": [
    "matrix9[matrix9 > 3]"
   ]
  },
  {
   "cell_type": "code",
   "execution_count": 42,
   "id": "a9a40c9e-0b9e-41da-b499-958b19af9171",
   "metadata": {},
   "outputs": [
    {
     "data": {
      "text/plain": [
       "array([1, 2, 3, 4, 5])"
      ]
     },
     "execution_count": 42,
     "metadata": {},
     "output_type": "execute_result"
    }
   ],
   "source": [
    "arr6"
   ]
  },
  {
   "cell_type": "code",
   "execution_count": 43,
   "id": "c8c20830-ce73-4918-b85b-70b6d8f9a658",
   "metadata": {},
   "outputs": [
    {
     "data": {
      "text/plain": [
       "array([2, 3])"
      ]
     },
     "execution_count": 43,
     "metadata": {},
     "output_type": "execute_result"
    }
   ],
   "source": [
    "arr6[1:3]"
   ]
  },
  {
   "cell_type": "code",
   "execution_count": 44,
   "id": "c40d3675-6ee1-42e6-9b05-76d3d8de483e",
   "metadata": {},
   "outputs": [
    {
     "name": "stdout",
     "output_type": "stream",
     "text": [
      "arr[0] = 1\n",
      "arr[1] = 2\n",
      "arr[2] = 3\n",
      "arr[3] = 4\n",
      "arr[4] = 5\n"
     ]
    },
    {
     "data": {
      "text/plain": [
       "array([2, 3])"
      ]
     },
     "execution_count": 44,
     "metadata": {},
     "output_type": "execute_result"
    }
   ],
   "source": [
    "for i in range(len(arr6)):\n",
    "    print(f\"arr[{i}] = {arr6[i]}\")\n",
    "arr6[1:3]\n"
   ]
  },
  {
   "cell_type": "code",
   "execution_count": 45,
   "id": "4de84e36-9c9b-48c8-819b-eb1cda622947",
   "metadata": {},
   "outputs": [
    {
     "data": {
      "text/plain": [
       "array([2, 3, 4])"
      ]
     },
     "execution_count": 45,
     "metadata": {},
     "output_type": "execute_result"
    }
   ],
   "source": [
    "arr6[1:4]"
   ]
  },
  {
   "cell_type": "code",
   "execution_count": 46,
   "id": "fbc3e131-6e4b-4b43-8c09-08b8c6882167",
   "metadata": {},
   "outputs": [],
   "source": [
    "#pandas\n",
    "import pandas as pd"
   ]
  },
  {
   "cell_type": "code",
   "execution_count": 47,
   "id": "39df09f5-cf9b-486c-a960-a633714ff1f0",
   "metadata": {},
   "outputs": [],
   "source": [
    "#Pandas Series is a one dimensional labeled array capable of holding data of any type"
   ]
  },
  {
   "cell_type": "code",
   "execution_count": 48,
   "id": "a16ba56d-5195-4392-a04c-a7952b7e5cac",
   "metadata": {},
   "outputs": [
    {
     "data": {
      "text/plain": [
       "array([55, 25, 75, 40, 90])"
      ]
     },
     "execution_count": 48,
     "metadata": {},
     "output_type": "execute_result"
    }
   ],
   "source": [
    "med_price_list = [55,25,75,40,90]\n",
    "med_price_arr = np.array(med_price_list)\n",
    "med_price_arr\n"
   ]
  },
  {
   "cell_type": "code",
   "execution_count": 49,
   "id": "acf6afd0-d406-46a5-a156-d93252bee10a",
   "metadata": {},
   "outputs": [
    {
     "data": {
      "text/plain": [
       "0    55\n",
       "1    25\n",
       "2    75\n",
       "3    40\n",
       "4    90\n",
       "dtype: int32"
      ]
     },
     "execution_count": 49,
     "metadata": {},
     "output_type": "execute_result"
    }
   ],
   "source": [
    "series_list = pd.Series(med_price_arr)\n",
    "series_list"
   ]
  },
  {
   "cell_type": "code",
   "execution_count": 50,
   "id": "4786660f-387c-42cd-a67b-186810cab3c7",
   "metadata": {},
   "outputs": [
    {
     "data": {
      "text/plain": [
       "Om    55\n",
       "Az    25\n",
       "Ty    75\n",
       "ib    40\n",
       "Za    90\n",
       "dtype: int32"
      ]
     },
     "execution_count": 50,
     "metadata": {},
     "output_type": "execute_result"
    }
   ],
   "source": [
    "med_price_list_labeled = pd.Series(med_price_arr,index=[\"Om\",\"Az\",\"Ty\",\"ib\",\"Za\"])\n",
    "med_price_list_labeled"
   ]
  },
  {
   "cell_type": "code",
   "execution_count": 51,
   "id": "b0ff3997-e5a3-41e4-9ddd-209f6f5c866a",
   "metadata": {},
   "outputs": [
    {
     "data": {
      "text/plain": [
       "Om    57.5\n",
       "Az    27.5\n",
       "Ty    77.5\n",
       "ib    42.5\n",
       "Za    92.5\n",
       "dtype: float64"
      ]
     },
     "execution_count": 51,
     "metadata": {},
     "output_type": "execute_result"
    }
   ],
   "source": [
    "med_price_list_labeled = med_price_list_labeled+2.5\n",
    "med_price_list_labeled"
   ]
  },
  {
   "cell_type": "code",
   "execution_count": 52,
   "id": "3482a338-d3f3-4c1e-988d-92d0e7ccd706",
   "metadata": {},
   "outputs": [
    {
     "data": {
      "text/plain": [
       "Om     77.0\n",
       "Az     45.5\n",
       "Ty    100.0\n",
       "ib     50.0\n",
       "Za     80.0\n",
       "dtype: float64"
      ]
     },
     "execution_count": 52,
     "metadata": {},
     "output_type": "execute_result"
    }
   ],
   "source": [
    "new_price_list=[77,45.5,100,50,80]\n",
    "new_price_list_labeled = pd.Series(new_price_list, index=[\"Om\",\"Az\",\"Ty\",\"ib\",\"Za\"])\n",
    "new_price_list_labeled"
   ]
  },
  {
   "cell_type": "code",
   "execution_count": 53,
   "id": "88f3053b-65a5-4bfa-a922-3a9e6c9ec86e",
   "metadata": {},
   "outputs": [
    {
     "name": "stdout",
     "output_type": "stream",
     "text": [
      "Om    19.5\n",
      "Az    18.0\n",
      "Ty    22.5\n",
      "ib     7.5\n",
      "Za   -12.5\n",
      "dtype: float64\n"
     ]
    }
   ],
   "source": [
    "print(new_price_list_labeled- med_price_list_labeled)"
   ]
  },
  {
   "cell_type": "code",
   "execution_count": 54,
   "id": "c7059452-f735-4e4f-96d4-ef1521d09680",
   "metadata": {},
   "outputs": [
    {
     "data": {
      "text/html": [
       "<div>\n",
       "<style scoped>\n",
       "    .dataframe tbody tr th:only-of-type {\n",
       "        vertical-align: middle;\n",
       "    }\n",
       "\n",
       "    .dataframe tbody tr th {\n",
       "        vertical-align: top;\n",
       "    }\n",
       "\n",
       "    .dataframe thead th {\n",
       "        text-align: right;\n",
       "    }\n",
       "</style>\n",
       "<table border=\"1\" class=\"dataframe\">\n",
       "  <thead>\n",
       "    <tr style=\"text-align: right;\">\n",
       "      <th></th>\n",
       "      <th>Student</th>\n",
       "    </tr>\n",
       "  </thead>\n",
       "  <tbody>\n",
       "    <tr>\n",
       "      <th>0</th>\n",
       "      <td>Mary</td>\n",
       "    </tr>\n",
       "    <tr>\n",
       "      <th>1</th>\n",
       "      <td>Peter</td>\n",
       "    </tr>\n",
       "    <tr>\n",
       "      <th>2</th>\n",
       "      <td>Susan</td>\n",
       "    </tr>\n",
       "    <tr>\n",
       "      <th>3</th>\n",
       "      <td>Toby</td>\n",
       "    </tr>\n",
       "    <tr>\n",
       "      <th>4</th>\n",
       "      <td>John</td>\n",
       "    </tr>\n",
       "  </tbody>\n",
       "</table>\n",
       "</div>"
      ],
      "text/plain": [
       "  Student\n",
       "0    Mary\n",
       "1   Peter\n",
       "2   Susan\n",
       "3    Toby\n",
       "4    John"
      ]
     },
     "execution_count": 54,
     "metadata": {},
     "output_type": "execute_result"
    }
   ],
   "source": [
    "students = [\"Mary\", \"Peter\", \"Susan\", \"Toby\", \"John\"]\n",
    "df1 = pd.DataFrame(students, columns = [\"Student\"])\n",
    "df1 "
   ]
  },
  {
   "cell_type": "code",
   "execution_count": 55,
   "id": "87139722-d0d6-4652-9632-73e41173a43d",
   "metadata": {},
   "outputs": [
    {
     "data": {
      "text/html": [
       "<div>\n",
       "<style scoped>\n",
       "    .dataframe tbody tr th:only-of-type {\n",
       "        vertical-align: middle;\n",
       "    }\n",
       "\n",
       "    .dataframe tbody tr th {\n",
       "        vertical-align: top;\n",
       "    }\n",
       "\n",
       "    .dataframe thead th {\n",
       "        text-align: right;\n",
       "    }\n",
       "</style>\n",
       "<table border=\"1\" class=\"dataframe\">\n",
       "  <thead>\n",
       "    <tr style=\"text-align: right;\">\n",
       "      <th></th>\n",
       "      <th>Student</th>\n",
       "      <th>Grade</th>\n",
       "    </tr>\n",
       "  </thead>\n",
       "  <tbody>\n",
       "    <tr>\n",
       "      <th>0</th>\n",
       "      <td>Mary</td>\n",
       "      <td>D-</td>\n",
       "    </tr>\n",
       "    <tr>\n",
       "      <th>1</th>\n",
       "      <td>Peter</td>\n",
       "      <td>A+</td>\n",
       "    </tr>\n",
       "    <tr>\n",
       "      <th>2</th>\n",
       "      <td>Susan</td>\n",
       "      <td>A-</td>\n",
       "    </tr>\n",
       "    <tr>\n",
       "      <th>3</th>\n",
       "      <td>Toby</td>\n",
       "      <td>B+</td>\n",
       "    </tr>\n",
       "    <tr>\n",
       "      <th>4</th>\n",
       "      <td>John</td>\n",
       "      <td>C</td>\n",
       "    </tr>\n",
       "  </tbody>\n",
       "</table>\n",
       "</div>"
      ],
      "text/plain": [
       "  Student Grade\n",
       "0    Mary    D-\n",
       "1   Peter    A+\n",
       "2   Susan    A-\n",
       "3    Toby    B+\n",
       "4    John     C"
      ]
     },
     "execution_count": 55,
     "metadata": {},
     "output_type": "execute_result"
    }
   ],
   "source": [
    "grades = pd.Series([\"D-\", \"A+\", \"A-\", \"B+\", \"C\"])\n",
    "df2 = pd.DataFrame({\"Student\": students, \"Grade\": grades})\n",
    "df2"
   ]
  },
  {
   "cell_type": "code",
   "execution_count": 56,
   "id": "bf0ea582-1e67-4407-b5c4-70f665957223",
   "metadata": {},
   "outputs": [
    {
     "data": {
      "text/html": [
       "<div>\n",
       "<style scoped>\n",
       "    .dataframe tbody tr th:only-of-type {\n",
       "        vertical-align: middle;\n",
       "    }\n",
       "\n",
       "    .dataframe tbody tr th {\n",
       "        vertical-align: top;\n",
       "    }\n",
       "\n",
       "    .dataframe thead th {\n",
       "        text-align: right;\n",
       "    }\n",
       "</style>\n",
       "<table border=\"1\" class=\"dataframe\">\n",
       "  <thead>\n",
       "    <tr style=\"text-align: right;\">\n",
       "      <th></th>\n",
       "      <th>Year</th>\n",
       "    </tr>\n",
       "  </thead>\n",
       "  <tbody>\n",
       "    <tr>\n",
       "      <th>0</th>\n",
       "      <td>2012</td>\n",
       "    </tr>\n",
       "    <tr>\n",
       "      <th>1</th>\n",
       "      <td>2013</td>\n",
       "    </tr>\n",
       "    <tr>\n",
       "      <th>2</th>\n",
       "      <td>2014</td>\n",
       "    </tr>\n",
       "    <tr>\n",
       "      <th>3</th>\n",
       "      <td>2015</td>\n",
       "    </tr>\n",
       "    <tr>\n",
       "      <th>4</th>\n",
       "      <td>2016</td>\n",
       "    </tr>\n",
       "    <tr>\n",
       "      <th>5</th>\n",
       "      <td>2017</td>\n",
       "    </tr>\n",
       "    <tr>\n",
       "      <th>6</th>\n",
       "      <td>2018</td>\n",
       "    </tr>\n",
       "  </tbody>\n",
       "</table>\n",
       "</div>"
      ],
      "text/plain": [
       "   Year\n",
       "0  2012\n",
       "1  2013\n",
       "2  2014\n",
       "3  2015\n",
       "4  2016\n",
       "5  2017\n",
       "6  2018"
      ]
     },
     "execution_count": 56,
     "metadata": {},
     "output_type": "execute_result"
    }
   ],
   "source": [
    "year = pd.Series([2012,2013,2014,2015,2016,2017,2018])\n",
    "pr1 = pd.DataFrame(year, columns=[\"Year\"])\n",
    "pr1"
   ]
  },
  {
   "cell_type": "code",
   "execution_count": 57,
   "id": "ffbd5596-31d3-4e8d-b41e-300c3acfbfe6",
   "metadata": {},
   "outputs": [],
   "source": [
    "Energy = pd.Series([2152,2196,2217,2194,2172,2180,2258])\n"
   ]
  },
  {
   "cell_type": "code",
   "execution_count": 58,
   "id": "ae1c169b-46a1-4d68-8d2b-83ddb414fe11",
   "metadata": {},
   "outputs": [
    {
     "data": {
      "text/html": [
       "<div>\n",
       "<style scoped>\n",
       "    .dataframe tbody tr th:only-of-type {\n",
       "        vertical-align: middle;\n",
       "    }\n",
       "\n",
       "    .dataframe tbody tr th {\n",
       "        vertical-align: top;\n",
       "    }\n",
       "\n",
       "    .dataframe thead th {\n",
       "        text-align: right;\n",
       "    }\n",
       "</style>\n",
       "<table border=\"1\" class=\"dataframe\">\n",
       "  <thead>\n",
       "    <tr style=\"text-align: right;\">\n",
       "      <th></th>\n",
       "      <th>Year</th>\n",
       "      <th>Energy Consumption</th>\n",
       "    </tr>\n",
       "  </thead>\n",
       "  <tbody>\n",
       "    <tr>\n",
       "      <th>0</th>\n",
       "      <td>2012</td>\n",
       "      <td>2152</td>\n",
       "    </tr>\n",
       "    <tr>\n",
       "      <th>1</th>\n",
       "      <td>2013</td>\n",
       "      <td>2196</td>\n",
       "    </tr>\n",
       "    <tr>\n",
       "      <th>2</th>\n",
       "      <td>2014</td>\n",
       "      <td>2217</td>\n",
       "    </tr>\n",
       "    <tr>\n",
       "      <th>3</th>\n",
       "      <td>2015</td>\n",
       "      <td>2194</td>\n",
       "    </tr>\n",
       "    <tr>\n",
       "      <th>4</th>\n",
       "      <td>2016</td>\n",
       "      <td>2172</td>\n",
       "    </tr>\n",
       "    <tr>\n",
       "      <th>5</th>\n",
       "      <td>2017</td>\n",
       "      <td>2180</td>\n",
       "    </tr>\n",
       "    <tr>\n",
       "      <th>6</th>\n",
       "      <td>2018</td>\n",
       "      <td>2258</td>\n",
       "    </tr>\n",
       "  </tbody>\n",
       "</table>\n",
       "</div>"
      ],
      "text/plain": [
       "   Year  Energy Consumption\n",
       "0  2012                2152\n",
       "1  2013                2196\n",
       "2  2014                2217\n",
       "3  2015                2194\n",
       "4  2016                2172\n",
       "5  2017                2180\n",
       "6  2018                2258"
      ]
     },
     "execution_count": 58,
     "metadata": {},
     "output_type": "execute_result"
    }
   ],
   "source": [
    "df2 = pd.DataFrame({\"Year\": year, \"Energy Consumption\": Energy})\n",
    "df2"
   ]
  },
  {
   "cell_type": "code",
   "execution_count": 59,
   "id": "c944b8b9-3705-43f2-a948-85d08d138f57",
   "metadata": {},
   "outputs": [
    {
     "data": {
      "text/html": [
       "<div>\n",
       "<style scoped>\n",
       "    .dataframe tbody tr th:only-of-type {\n",
       "        vertical-align: middle;\n",
       "    }\n",
       "\n",
       "    .dataframe tbody tr th {\n",
       "        vertical-align: top;\n",
       "    }\n",
       "\n",
       "    .dataframe thead th {\n",
       "        text-align: right;\n",
       "    }\n",
       "</style>\n",
       "<table border=\"1\" class=\"dataframe\">\n",
       "  <thead>\n",
       "    <tr style=\"text-align: right;\">\n",
       "      <th></th>\n",
       "      <th>Trail1</th>\n",
       "      <th>Trail2</th>\n",
       "    </tr>\n",
       "  </thead>\n",
       "  <tbody>\n",
       "    <tr>\n",
       "      <th>0</th>\n",
       "      <td>0.772618</td>\n",
       "      <td>-1.142608</td>\n",
       "    </tr>\n",
       "    <tr>\n",
       "      <th>1</th>\n",
       "      <td>0.377463</td>\n",
       "      <td>-0.666042</td>\n",
       "    </tr>\n",
       "    <tr>\n",
       "      <th>2</th>\n",
       "      <td>1.898050</td>\n",
       "      <td>0.295884</td>\n",
       "    </tr>\n",
       "    <tr>\n",
       "      <th>3</th>\n",
       "      <td>0.302928</td>\n",
       "      <td>-0.541517</td>\n",
       "    </tr>\n",
       "    <tr>\n",
       "      <th>4</th>\n",
       "      <td>-0.016462</td>\n",
       "      <td>1.086746</td>\n",
       "    </tr>\n",
       "  </tbody>\n",
       "</table>\n",
       "</div>"
      ],
      "text/plain": [
       "     Trail1    Trail2\n",
       "0  0.772618 -1.142608\n",
       "1  0.377463 -0.666042\n",
       "2  1.898050  0.295884\n",
       "3  0.302928 -0.541517\n",
       "4 -0.016462  1.086746"
      ]
     },
     "execution_count": 59,
     "metadata": {},
     "output_type": "execute_result"
    }
   ],
   "source": [
    "np.random.randn(5,2)\n",
    "df5 = pd.DataFrame(np.random.randn(5,2),columns=[\"Trail1\",\"Trail2\"])\n",
    "df5"
   ]
  },
  {
   "cell_type": "code",
   "execution_count": 60,
   "id": "1594b362-286b-4509-a663-0ceb96c67749",
   "metadata": {},
   "outputs": [
    {
     "data": {
      "text/html": [
       "<div>\n",
       "<style scoped>\n",
       "    .dataframe tbody tr th:only-of-type {\n",
       "        vertical-align: middle;\n",
       "    }\n",
       "\n",
       "    .dataframe tbody tr th {\n",
       "        vertical-align: top;\n",
       "    }\n",
       "\n",
       "    .dataframe thead th {\n",
       "        text-align: right;\n",
       "    }\n",
       "</style>\n",
       "<table border=\"1\" class=\"dataframe\">\n",
       "  <thead>\n",
       "    <tr style=\"text-align: right;\">\n",
       "      <th></th>\n",
       "      <th>CustomerID</th>\n",
       "      <th>location</th>\n",
       "      <th>gender</th>\n",
       "      <th>type</th>\n",
       "      <th>quantity</th>\n",
       "      <th>total_bill</th>\n",
       "    </tr>\n",
       "  </thead>\n",
       "  <tbody>\n",
       "    <tr>\n",
       "      <th>0</th>\n",
       "      <td>CustID00</td>\n",
       "      <td>Chicago</td>\n",
       "      <td>M</td>\n",
       "      <td>Electronics</td>\n",
       "      <td>1</td>\n",
       "      <td>100</td>\n",
       "    </tr>\n",
       "    <tr>\n",
       "      <th>1</th>\n",
       "      <td>CustID01</td>\n",
       "      <td>Boston</td>\n",
       "      <td>M</td>\n",
       "      <td>Food&amp;Beverages</td>\n",
       "      <td>3</td>\n",
       "      <td>75</td>\n",
       "    </tr>\n",
       "    <tr>\n",
       "      <th>2</th>\n",
       "      <td>CustID02</td>\n",
       "      <td>Seattle</td>\n",
       "      <td>F</td>\n",
       "      <td>Food&amp;Beverages</td>\n",
       "      <td>4</td>\n",
       "      <td>125</td>\n",
       "    </tr>\n",
       "    <tr>\n",
       "      <th>3</th>\n",
       "      <td>CustID03</td>\n",
       "      <td>San Francisco</td>\n",
       "      <td>M</td>\n",
       "      <td>Medicine</td>\n",
       "      <td>2</td>\n",
       "      <td>50</td>\n",
       "    </tr>\n",
       "    <tr>\n",
       "      <th>4</th>\n",
       "      <td>CustID04</td>\n",
       "      <td>Austin</td>\n",
       "      <td>F</td>\n",
       "      <td>Beauty</td>\n",
       "      <td>1</td>\n",
       "      <td>80</td>\n",
       "    </tr>\n",
       "  </tbody>\n",
       "</table>\n",
       "</div>"
      ],
      "text/plain": [
       "  CustomerID       location gender            type  quantity  total_bill\n",
       "0   CustID00        Chicago      M     Electronics         1         100\n",
       "1   CustID01         Boston      M  Food&Beverages         3          75\n",
       "2   CustID02        Seattle      F  Food&Beverages         4         125\n",
       "3   CustID03  San Francisco      M        Medicine         2          50\n",
       "4   CustID04         Austin      F          Beauty         1          80"
      ]
     },
     "execution_count": 60,
     "metadata": {},
     "output_type": "execute_result"
    }
   ],
   "source": [
    "# creating the dataframe using dictionary\n",
    "store_data = pd.DataFrame({'CustomerID': ['CustID00','CustID01','CustID02','CustID03','CustID04']\n",
    "                           ,'location': ['Chicago', 'Boston', 'Seattle', 'San Francisco', 'Austin']\n",
    "                           ,'gender': ['M','M','F','M','F']\n",
    "                           ,'type': ['Electronics','Food&Beverages','Food&Beverages','Medicine','Beauty']\n",
    "                           ,'quantity':[1,3,4,2,1],'total_bill':[100,75,125,50,80]})\n",
    "\n",
    "store_data\n",
    "\n"
   ]
  },
  {
   "cell_type": "code",
   "execution_count": 61,
   "id": "07849b53-929d-4ba5-8f9c-5c88996606dc",
   "metadata": {},
   "outputs": [
    {
     "data": {
      "text/html": [
       "<div>\n",
       "<style scoped>\n",
       "    .dataframe tbody tr th:only-of-type {\n",
       "        vertical-align: middle;\n",
       "    }\n",
       "\n",
       "    .dataframe tbody tr th {\n",
       "        vertical-align: top;\n",
       "    }\n",
       "\n",
       "    .dataframe thead th {\n",
       "        text-align: right;\n",
       "    }\n",
       "</style>\n",
       "<table border=\"1\" class=\"dataframe\">\n",
       "  <thead>\n",
       "    <tr style=\"text-align: right;\">\n",
       "      <th></th>\n",
       "      <th>CustomerID</th>\n",
       "      <th>location</th>\n",
       "      <th>gender</th>\n",
       "      <th>type</th>\n",
       "      <th>quantity</th>\n",
       "      <th>total_bill</th>\n",
       "    </tr>\n",
       "  </thead>\n",
       "  <tbody>\n",
       "    <tr>\n",
       "      <th>0</th>\n",
       "      <td>CustID00</td>\n",
       "      <td>Chicago</td>\n",
       "      <td>M</td>\n",
       "      <td>Electronics</td>\n",
       "      <td>1</td>\n",
       "      <td>100</td>\n",
       "    </tr>\n",
       "    <tr>\n",
       "      <th>1</th>\n",
       "      <td>CustID01</td>\n",
       "      <td>Boston</td>\n",
       "      <td>M</td>\n",
       "      <td>Food&amp;Beverages</td>\n",
       "      <td>3</td>\n",
       "      <td>75</td>\n",
       "    </tr>\n",
       "    <tr>\n",
       "      <th>2</th>\n",
       "      <td>CustID02</td>\n",
       "      <td>Seattle</td>\n",
       "      <td>F</td>\n",
       "      <td>Food&amp;Beverages</td>\n",
       "      <td>4</td>\n",
       "      <td>125</td>\n",
       "    </tr>\n",
       "    <tr>\n",
       "      <th>3</th>\n",
       "      <td>CustID03</td>\n",
       "      <td>San Francisco</td>\n",
       "      <td>M</td>\n",
       "      <td>Medicine</td>\n",
       "      <td>2</td>\n",
       "      <td>50</td>\n",
       "    </tr>\n",
       "  </tbody>\n",
       "</table>\n",
       "</div>"
      ],
      "text/plain": [
       "  CustomerID       location gender            type  quantity  total_bill\n",
       "0   CustID00        Chicago      M     Electronics         1         100\n",
       "1   CustID01         Boston      M  Food&Beverages         3          75\n",
       "2   CustID02        Seattle      F  Food&Beverages         4         125\n",
       "3   CustID03  San Francisco      M        Medicine         2          50"
      ]
     },
     "execution_count": 61,
     "metadata": {},
     "output_type": "execute_result"
    }
   ],
   "source": [
    "store_data[:-1]"
   ]
  },
  {
   "cell_type": "code",
   "execution_count": 62,
   "id": "773c4398-efe3-40ad-bc1d-ca8c7e5dca1d",
   "metadata": {},
   "outputs": [
    {
     "data": {
      "text/html": [
       "<div>\n",
       "<style scoped>\n",
       "    .dataframe tbody tr th:only-of-type {\n",
       "        vertical-align: middle;\n",
       "    }\n",
       "\n",
       "    .dataframe tbody tr th {\n",
       "        vertical-align: top;\n",
       "    }\n",
       "\n",
       "    .dataframe thead th {\n",
       "        text-align: right;\n",
       "    }\n",
       "</style>\n",
       "<table border=\"1\" class=\"dataframe\">\n",
       "  <thead>\n",
       "    <tr style=\"text-align: right;\">\n",
       "      <th></th>\n",
       "      <th>CustomerID</th>\n",
       "      <th>location</th>\n",
       "      <th>gender</th>\n",
       "      <th>type</th>\n",
       "      <th>quantity</th>\n",
       "      <th>total_bill</th>\n",
       "    </tr>\n",
       "  </thead>\n",
       "  <tbody>\n",
       "    <tr>\n",
       "      <th>0</th>\n",
       "      <td>CustID00</td>\n",
       "      <td>Chicago</td>\n",
       "      <td>M</td>\n",
       "      <td>Electronics</td>\n",
       "      <td>1</td>\n",
       "      <td>100</td>\n",
       "    </tr>\n",
       "  </tbody>\n",
       "</table>\n",
       "</div>"
      ],
      "text/plain": [
       "  CustomerID location gender         type  quantity  total_bill\n",
       "0   CustID00  Chicago      M  Electronics         1         100"
      ]
     },
     "execution_count": 62,
     "metadata": {},
     "output_type": "execute_result"
    }
   ],
   "source": [
    "store_data[:1]\n"
   ]
  },
  {
   "cell_type": "code",
   "execution_count": 63,
   "id": "49d6fc9b-f0cf-46a0-bff9-38511c3485db",
   "metadata": {},
   "outputs": [
    {
     "data": {
      "text/plain": [
       "0          Chicago\n",
       "1           Boston\n",
       "2          Seattle\n",
       "3    San Francisco\n",
       "4           Austin\n",
       "Name: location, dtype: object"
      ]
     },
     "execution_count": 63,
     "metadata": {},
     "output_type": "execute_result"
    }
   ],
   "source": [
    "store_data[\"location\"]"
   ]
  },
  {
   "cell_type": "code",
   "execution_count": 64,
   "id": "cf256f10-822a-4ea9-a8a9-c08429eb79ad",
   "metadata": {},
   "outputs": [
    {
     "data": {
      "text/html": [
       "<div>\n",
       "<style scoped>\n",
       "    .dataframe tbody tr th:only-of-type {\n",
       "        vertical-align: middle;\n",
       "    }\n",
       "\n",
       "    .dataframe tbody tr th {\n",
       "        vertical-align: top;\n",
       "    }\n",
       "\n",
       "    .dataframe thead th {\n",
       "        text-align: right;\n",
       "    }\n",
       "</style>\n",
       "<table border=\"1\" class=\"dataframe\">\n",
       "  <thead>\n",
       "    <tr style=\"text-align: right;\">\n",
       "      <th></th>\n",
       "      <th>CustomerID</th>\n",
       "      <th>location</th>\n",
       "      <th>gender</th>\n",
       "      <th>type</th>\n",
       "      <th>quantity</th>\n",
       "      <th>total_bill</th>\n",
       "    </tr>\n",
       "  </thead>\n",
       "  <tbody>\n",
       "    <tr>\n",
       "      <th>0</th>\n",
       "      <td>CustID00</td>\n",
       "      <td>Chicago</td>\n",
       "      <td>M</td>\n",
       "      <td>Electronics</td>\n",
       "      <td>1</td>\n",
       "      <td>100</td>\n",
       "    </tr>\n",
       "    <tr>\n",
       "      <th>2</th>\n",
       "      <td>CustID02</td>\n",
       "      <td>Seattle</td>\n",
       "      <td>F</td>\n",
       "      <td>Food&amp;Beverages</td>\n",
       "      <td>4</td>\n",
       "      <td>125</td>\n",
       "    </tr>\n",
       "    <tr>\n",
       "      <th>4</th>\n",
       "      <td>CustID04</td>\n",
       "      <td>Austin</td>\n",
       "      <td>F</td>\n",
       "      <td>Beauty</td>\n",
       "      <td>1</td>\n",
       "      <td>80</td>\n",
       "    </tr>\n",
       "  </tbody>\n",
       "</table>\n",
       "</div>"
      ],
      "text/plain": [
       "  CustomerID location gender            type  quantity  total_bill\n",
       "0   CustID00  Chicago      M     Electronics         1         100\n",
       "2   CustID02  Seattle      F  Food&Beverages         4         125\n",
       "4   CustID04   Austin      F          Beauty         1          80"
      ]
     },
     "execution_count": 64,
     "metadata": {},
     "output_type": "execute_result"
    }
   ],
   "source": [
    "store_data[::2]"
   ]
  },
  {
   "cell_type": "code",
   "execution_count": 65,
   "id": "63fb64e4-ebc4-401c-aca1-ded10b295ca8",
   "metadata": {},
   "outputs": [
    {
     "data": {
      "text/html": [
       "<div>\n",
       "<style scoped>\n",
       "    .dataframe tbody tr th:only-of-type {\n",
       "        vertical-align: middle;\n",
       "    }\n",
       "\n",
       "    .dataframe tbody tr th {\n",
       "        vertical-align: top;\n",
       "    }\n",
       "\n",
       "    .dataframe thead th {\n",
       "        text-align: right;\n",
       "    }\n",
       "</style>\n",
       "<table border=\"1\" class=\"dataframe\">\n",
       "  <thead>\n",
       "    <tr style=\"text-align: right;\">\n",
       "      <th></th>\n",
       "      <th>CustomerID</th>\n",
       "      <th>location</th>\n",
       "      <th>gender</th>\n",
       "      <th>type</th>\n",
       "      <th>quantity</th>\n",
       "      <th>total_bill</th>\n",
       "    </tr>\n",
       "  </thead>\n",
       "  <tbody>\n",
       "    <tr>\n",
       "      <th>4</th>\n",
       "      <td>CustID04</td>\n",
       "      <td>Austin</td>\n",
       "      <td>F</td>\n",
       "      <td>Beauty</td>\n",
       "      <td>1</td>\n",
       "      <td>80</td>\n",
       "    </tr>\n",
       "    <tr>\n",
       "      <th>2</th>\n",
       "      <td>CustID02</td>\n",
       "      <td>Seattle</td>\n",
       "      <td>F</td>\n",
       "      <td>Food&amp;Beverages</td>\n",
       "      <td>4</td>\n",
       "      <td>125</td>\n",
       "    </tr>\n",
       "    <tr>\n",
       "      <th>0</th>\n",
       "      <td>CustID00</td>\n",
       "      <td>Chicago</td>\n",
       "      <td>M</td>\n",
       "      <td>Electronics</td>\n",
       "      <td>1</td>\n",
       "      <td>100</td>\n",
       "    </tr>\n",
       "  </tbody>\n",
       "</table>\n",
       "</div>"
      ],
      "text/plain": [
       "  CustomerID location gender            type  quantity  total_bill\n",
       "4   CustID04   Austin      F          Beauty         1          80\n",
       "2   CustID02  Seattle      F  Food&Beverages         4         125\n",
       "0   CustID00  Chicago      M     Electronics         1         100"
      ]
     },
     "execution_count": 65,
     "metadata": {},
     "output_type": "execute_result"
    }
   ],
   "source": [
    "store_data[::-2]"
   ]
  },
  {
   "cell_type": "code",
   "execution_count": 66,
   "id": "7a22c2db-03f2-4bf6-981b-f21cadcc9ead",
   "metadata": {},
   "outputs": [],
   "source": [
    "#LOC and Iloc\n",
    "# Loc is a method to access rows and column on pandas objects. \n",
    "# Whne using loc method on dataframe, we specify which rows and which col we want by the following format :\n",
    "# dataframe.loc[row selection, col selection]\n",
    "# It is a method that takes index labels and return row or dataframe if the index label exists \n"
   ]
  },
  {
   "cell_type": "code",
   "execution_count": 67,
   "id": "acad03fd-8b63-46bb-b103-c5e9aa92d3a0",
   "metadata": {},
   "outputs": [
    {
     "data": {
      "text/plain": [
       "CustomerID          CustID01\n",
       "location              Boston\n",
       "gender                     M\n",
       "type          Food&Beverages\n",
       "quantity                   3\n",
       "total_bill                75\n",
       "Name: 1, dtype: object"
      ]
     },
     "execution_count": 67,
     "metadata": {},
     "output_type": "execute_result"
    }
   ],
   "source": [
    "store_data.loc[1]"
   ]
  },
  {
   "cell_type": "code",
   "execution_count": 71,
   "id": "f23dcf83-443f-4865-91aa-c8c8cc546787",
   "metadata": {},
   "outputs": [
    {
     "data": {
      "text/html": [
       "<table border=\"1\" class=\"dataframe\">\n",
       "    <thead>\n",
       "        <tr>\n",
       "            <th>CLASS</th> <th>ACTUAL AVERAGE</th> <th>RENT</th> <th>FOOD</th> <th>CLOTHES</th> <th>TAXES</th> <th>OTHER</th> <th>STATUS</th>\n",
       "        </tr>\n",
       "    </thead>\n",
       "    <tbody>\n",
       "        <tr>\n",
       "            <td>100-200      </td> <td>139.1         </td> <td>0.19</td> <td>0.43</td> <td>0.28   </td> <td>0.001</td> <td>0.099</td> <td>POOR       </td>\n",
       "        </tr>\n",
       "        <tr>\n",
       "            <td>200-300      </td> <td>249.45        </td> <td>0.22</td> <td>0.47</td> <td>0.23   </td> <td>0.04 </td> <td>0.04 </td> <td>POOR       </td>\n",
       "        </tr>\n",
       "        <tr>\n",
       "            <td>300-400      </td> <td>335.66        </td> <td>0.23</td> <td>0.43</td> <td>0.18   </td> <td>0.045</td> <td>0.115</td> <td>FAIR       </td>\n",
       "        </tr>\n",
       "        <tr>\n",
       "            <td>400-500      </td> <td>433.82        </td> <td>0.18</td> <td>0.37</td> <td>0.15   </td> <td>0.055</td> <td>0.245</td> <td>FAIR       </td>\n",
       "        </tr>\n",
       "        <tr>\n",
       "            <td>500-750      </td> <td>547           </td> <td>0.13</td> <td>0.31</td> <td>0.17   </td> <td>0.05 </td> <td>0.34 </td> <td>COMFORTABLE</td>\n",
       "        </tr>\n",
       "        <tr>\n",
       "            <td>750-1000     </td> <td>880           </td> <td>0   </td> <td>0.37</td> <td>0.19   </td> <td>0.08 </td> <td>0.36 </td> <td>COMFORTABLE</td>\n",
       "        </tr>\n",
       "        <tr>\n",
       "            <td>1000 and over</td> <td>1125          </td> <td>0   </td> <td>0.29</td> <td>0.16   </td> <td>0.045</td> <td>0.505</td> <td>WELL-TO-DO </td>\n",
       "        </tr>\n",
       "    </tbody>\n",
       "</table>"
      ],
      "text/plain": [
       "<IPython.core.display.HTML object>"
      ]
     },
     "metadata": {},
     "output_type": "display_data"
    }
   ],
   "source": [
    "r = Table().read_table(\".csv\\du_bois.csv\")\n",
    "r.show()"
   ]
  },
  {
   "cell_type": "code",
   "execution_count": null,
   "id": "18be745f-6889-47a9-bddf-647c833b3b42",
   "metadata": {},
   "outputs": [],
   "source": []
  },
  {
   "cell_type": "code",
   "execution_count": null,
   "id": "4b90fe31-0801-4be2-b7f2-97b590cb7fed",
   "metadata": {},
   "outputs": [],
   "source": []
  }
 ],
 "metadata": {
  "kernelspec": {
   "display_name": "Python 3 (ipykernel)",
   "language": "python",
   "name": "python3"
  },
  "language_info": {
   "codemirror_mode": {
    "name": "ipython",
    "version": 3
   },
   "file_extension": ".py",
   "mimetype": "text/x-python",
   "name": "python",
   "nbconvert_exporter": "python",
   "pygments_lexer": "ipython3",
   "version": "3.11.9"
  }
 },
 "nbformat": 4,
 "nbformat_minor": 5
}
