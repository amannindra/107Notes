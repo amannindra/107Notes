{
 "cells": [
  {
   "cell_type": "code",
   "execution_count": 1,
   "id": "3d717d8c-4157-4ec4-ad19-626368c83bba",
   "metadata": {},
   "outputs": [
    {
     "data": {
      "text/plain": [
       "'\\nManufacturers of Super Soda run a taste test. \\n91 out of 200 perfer Super Soda over its rival\\nQuestion Do fewer people prefer Super Soda than its rival, or is this just chance?\\n\\nNull hypothesis: The same proportion of people prefer super as rival\\nAlternative hypothsis: A smaller proportion of people perfer Super\\nTest Statisitc: Number of people( out of 200) who preer Super\\n\\n\\nStart the simulation under the idea that the null hypothesis is true\\n'"
      ]
     },
     "execution_count": 1,
     "metadata": {},
     "output_type": "execute_result"
    }
   ],
   "source": [
    "'''\n",
    "Manufacturers of Super Soda run a taste test. \n",
    "91 out of 200 perfer Super Soda over its rival\n",
    "Question Do fewer people prefer Super Soda than its rival, or is this just chance?\n",
    "\n",
    "Null hypothesis: The same proportion of people prefer super as rival\n",
    "Alternative hypothsis: A smaller proportion of people perfer Super\n",
    "Test Statisitc: Number of people( out of 200) who preer Super\n",
    "\n",
    "\n",
    "Start the simulation under the idea that the null hypothesis is true\n",
    "'''"
   ]
  },
  {
   "cell_type": "code",
   "execution_count": 13,
   "id": "ec0a2cc6-cff7-4a97-8f8c-8149a9838d34",
   "metadata": {},
   "outputs": [],
   "source": [
    "import numpy as np\n",
    "import warnings\n",
    "warnings.filterwarnings(\"ignore\")\n",
    "import matplotlib.pyplot as plots\n",
    "from datascience import *\n",
    "plots.style.use(\"fivethirtyeight\")\n",
    "plots.rcParams[\"patch.force_edgecolor\"]=True\n",
    "%matplotlib inline\n"
   ]
  },
  {
   "cell_type": "code",
   "execution_count": 14,
   "id": "721fbe6d-356d-402e-9de7-34a4d6079dc8",
   "metadata": {},
   "outputs": [
    {
     "data": {
      "text/plain": [
       "'T'"
      ]
     },
     "execution_count": 14,
     "metadata": {},
     "output_type": "execute_result"
    }
   ],
   "source": [
    "np.random.choice([\"H\",\"T\"])"
   ]
  },
  {
   "cell_type": "code",
   "execution_count": 15,
   "id": "baa4bcd2-14d5-4991-8aa9-6785985f3054",
   "metadata": {},
   "outputs": [
    {
     "data": {
      "text/html": [
       "<table border=\"1\" class=\"dataframe\">\n",
       "    <thead>\n",
       "        <tr>\n",
       "            <th>HT</th> <th>count</th>\n",
       "        </tr>\n",
       "    </thead>\n",
       "    <tbody>\n",
       "        <tr>\n",
       "            <td>H   </td> <td>4958 </td>\n",
       "        </tr>\n",
       "        <tr>\n",
       "            <td>T   </td> <td>5042 </td>\n",
       "        </tr>\n",
       "    </tbody>\n",
       "</table>"
      ],
      "text/plain": [
       "HT   | count\n",
       "H    | 4958\n",
       "T    | 5042"
      ]
     },
     "execution_count": 15,
     "metadata": {},
     "output_type": "execute_result"
    }
   ],
   "source": [
    "\n",
    "#Own Way\n",
    "arr = make_array()\n",
    "for i in np.arange(10000):\n",
    "    arr = np.append(arr, np.random.choice([\"H\",\"T\"]))\n",
    "arrTable = Table().with_column(\"HT\", arr)\n",
    "arrTable.group(\"HT\")"
   ]
  },
  {
   "cell_type": "code",
   "execution_count": 16,
   "id": "e6431423-76e9-4c30-a9d6-173cbb8eff03",
   "metadata": {},
   "outputs": [
    {
     "data": {
      "text/plain": [
       "94"
      ]
     },
     "execution_count": 16,
     "metadata": {},
     "output_type": "execute_result"
    }
   ],
   "source": [
    "def simulation_one_count(samle_size):\n",
    "    return np.count_nonzero(np.random.choice([\"H\",\"T\"], samle_size)==\"H\")\n",
    "simulation_one_count(200)"
   ]
  },
  {
   "cell_type": "code",
   "execution_count": 26,
   "id": "04ba6d55-901d-4dc1-adec-80ddb896d9dd",
   "metadata": {},
   "outputs": [
    {
     "name": "stdout",
     "output_type": "stream",
     "text": [
      "sklsfsd\n"
     ]
    }
   ],
   "source": [
    "num_simulation = 10000\n",
    "counts = make_array()\n",
    "for i in np.arange(num_simulation):\n",
    "    counts = np.append(counts, simulation_one_count(200))\n",
    "print(\"sklsfsd\")\n"
   ]
  },
  {
   "cell_type": "code",
   "execution_count": 30,
   "id": "50c989f3-f8d1-46e8-aff7-c6dfe855b11b",
   "metadata": {},
   "outputs": [
    {
     "data": {
      "text/plain": [
       "<matplotlib.collections.PathCollection at 0x278b80bd390>"
      ]
     },
     "execution_count": 30,
     "metadata": {},
     "output_type": "execute_result"
    },
    {
     "data": {
      "image/png": "[encoded data removed]",
      "text/plain": [
       "<Figure size 600x400 with 1 Axes>"
      ]
     },
     "metadata": {},
     "output_type": "display_data"
    }
   ],
   "source": [
    "trials = Table().with_column(\"Number of Sper Sode\", counts)\n",
    "trials.hist(right_end = 91)\n",
    "plots.scatter(91,0,color='red', s= 40, zorder=10)"
   ]
  },
  {
   "cell_type": "code",
   "execution_count": 33,
   "id": "a6aa23b3-10c5-45cc-a079-adbe9d9f5244",
   "metadata": {},
   "outputs": [
    {
     "data": {
      "text/plain": [
       "0.1206"
      ]
     },
     "execution_count": 33,
     "metadata": {},
     "output_type": "execute_result"
    }
   ],
   "source": [
    "np.count_nonzero(counts <= 91)/len(counts)"
   ]
  },
  {
   "cell_type": "code",
   "execution_count": 34,
   "id": "4b017c9c-06d5-4757-99cf-51f344274c7f",
   "metadata": {},
   "outputs": [],
   "source": [
    "#If the p value is greater than the significance level (0.05), we fail to reject null hypothesis\n",
    "#We don't reject null hypthosis i.e The same proportion of people prefer super as rival\n"
   ]
  },
  {
   "cell_type": "code",
   "execution_count": 56,
   "id": "5c548fdb-7ee7-4043-b166-3bd2d013fc86",
   "metadata": {},
   "outputs": [
    {
     "data": {
      "image/png": "[encoded data removed]",
      "text/plain": [
       "<Figure size 600x400 with 1 Axes>"
      ]
     },
     "metadata": {},
     "output_type": "display_data"
    }
   ],
   "source": [
    "# Change amount of simulations\n",
    "\n",
    "def changeSimulation(numberofsimulations, sample_size):\n",
    "    arr = make_array()\n",
    "    for i in np.arange(numberofsimulations):\n",
    "        arr = np.append(arr, simulation_one_count(sample_size))\n",
    "    return arr\n",
    "arrs = changeSimulation(10000, 200)\n",
    "arrTable = Table().with_column(\"HT\",arrs)\n",
    "arrTable.hist(right_end = 91)"
   ]
  },
  {
   "cell_type": "code",
   "execution_count": 58,
   "id": "28841088-ffbd-4da7-a5ff-9566caab72d7",
   "metadata": {},
   "outputs": [
    {
     "data": {
      "text/plain": [
       "0.1101"
      ]
     },
     "execution_count": 58,
     "metadata": {},
     "output_type": "execute_result"
    }
   ],
   "source": [
    "np.count_nonzero(arrs <= 91)/len(arrs)"
   ]
  },
  {
   "cell_type": "code",
   "execution_count": 62,
   "id": "fb4198cc-5c26-4e30-8be9-b516a5da1184",
   "metadata": {},
   "outputs": [
    {
     "name": "stdout",
     "output_type": "stream",
     "text": [
      "0.1\n",
      "0.1\n"
     ]
    }
   ],
   "source": [
    "new_simulation =10 \n",
    "c = make_array()\n",
    "for i in np.arange(new_simulation):\n",
    "    c = np.append(c, simulation_one_count(200))\n",
    "print(np.count_nonzero(c <= 91)/len(c))\n",
    "print(sum(c <= 91)/len(c))"
   ]
  },
  {
   "cell_type": "code",
   "execution_count": 100,
   "id": "275c1420-0257-41e4-8c7b-f83435a12fc3",
   "metadata": {},
   "outputs": [
    {
     "data": {
      "text/html": [
       "<table border=\"1\" class=\"dataframe\">\n",
       "    <thead>\n",
       "        <tr>\n",
       "            <th>Number of Simulation</th> <th>p_value</th>\n",
       "        </tr>\n",
       "    </thead>\n",
       "    <tbody>\n",
       "        <tr>\n",
       "            <td>100                 </td> <td>0.1    </td>\n",
       "        </tr>\n",
       "        <tr>\n",
       "            <td>1000                </td> <td>0.136  </td>\n",
       "        </tr>\n",
       "        <tr>\n",
       "            <td>10000               </td> <td>0.1127 </td>\n",
       "        </tr>\n",
       "    </tbody>\n",
       "</table>"
      ],
      "text/plain": [
       "Number of Simulation | p_value\n",
       "100                  | 0.1\n",
       "1000                 | 0.136\n",
       "10000                | 0.1127"
      ]
     },
     "execution_count": 100,
     "metadata": {},
     "output_type": "execute_result"
    }
   ],
   "source": [
    "#LAzy Way\n",
    "def triple_p():\n",
    "    returnTable = Table().with_column(\"Number of Simulation\", [100,1000, 10000])\n",
    "    hundred = changeSimulation(100, 200)\n",
    "    hundredP = np.count_nonzero(hundred <= 91)/len(hundred)\n",
    "    thousand = changeSimulation(1000, 200)\n",
    "    thousandP = np.count_nonzero(thousand <= 91)/len(thousand)\n",
    "    ten_thousand = changeSimulation(10000, 200)\n",
    "    ten_thousandP = np.count_nonzero(ten_thousand <= 91)/len(ten_thousand)\n",
    "    returnTable = returnTable.with_column(\"p_value\", [hundredP, thousandP, ten_thousandP])\n",
    "    return returnTable\n",
    "triple_p()"
   ]
  },
  {
   "cell_type": "code",
   "execution_count": 101,
   "id": "84b6cc18-cf1d-46c2-8204-8d1b8afed157",
   "metadata": {},
   "outputs": [
    {
     "data": {
      "text/html": [
       "<table border=\"1\" class=\"dataframe\">\n",
       "    <thead>\n",
       "        <tr>\n",
       "            <th>Simulation</th> <th>p-value</th>\n",
       "        </tr>\n",
       "    </thead>\n",
       "    <tbody>\n",
       "        <tr>\n",
       "            <td>100       </td> <td>0.1    </td>\n",
       "        </tr>\n",
       "        <tr>\n",
       "            <td>100       </td> <td>0.1    </td>\n",
       "        </tr>\n",
       "        <tr>\n",
       "            <td>100       </td> <td>0.16   </td>\n",
       "        </tr>\n",
       "        <tr>\n",
       "            <td>100       </td> <td>0.08   </td>\n",
       "        </tr>\n",
       "        <tr>\n",
       "            <td>100       </td> <td>0.12   </td>\n",
       "        </tr>\n",
       "    </tbody>\n",
       "</table>\n",
       "<p>... (145 rows omitted)</p>"
      ],
      "text/plain": [
       "<IPython.core.display.HTML object>"
      ]
     },
     "metadata": {},
     "output_type": "display_data"
    }
   ],
   "source": [
    "#changeSimulation(numberofsimulations, sample_size)\n",
    "test = Table([\"Simulation\", \"p-value\"])\n",
    "for num_size in [100,1000,10000]:\n",
    "    for k in np.arange(50):\n",
    "        counts = changeSimulation(num_size, 200)\n",
    "        test = test.with_row([num_size,  np.count_nonzero(counts <= 91)/len(counts)])\n",
    "test.show(5)"
   ]
  },
  {
   "cell_type": "code",
   "execution_count": 102,
   "id": "b9d1d643-c92a-4a7e-899e-f9718ad69878",
   "metadata": {},
   "outputs": [
    {
     "data": {
      "text/html": [
       "<table border=\"1\" class=\"dataframe\">\n",
       "    <thead>\n",
       "        <tr>\n",
       "            <th>Simulation</th> <th>p-value</th>\n",
       "        </tr>\n",
       "    </thead>\n",
       "    <tbody>\n",
       "        <tr>\n",
       "            <td>100       </td> <td>0.1    </td>\n",
       "        </tr>\n",
       "        <tr>\n",
       "            <td>100       </td> <td>0.1    </td>\n",
       "        </tr>\n",
       "        <tr>\n",
       "            <td>100       </td> <td>0.16   </td>\n",
       "        </tr>\n",
       "        <tr>\n",
       "            <td>100       </td> <td>0.08   </td>\n",
       "        </tr>\n",
       "        <tr>\n",
       "            <td>100       </td> <td>0.12   </td>\n",
       "        </tr>\n",
       "        <tr>\n",
       "            <td>100       </td> <td>0.09   </td>\n",
       "        </tr>\n",
       "        <tr>\n",
       "            <td>100       </td> <td>0.08   </td>\n",
       "        </tr>\n",
       "        <tr>\n",
       "            <td>100       </td> <td>0.08   </td>\n",
       "        </tr>\n",
       "        <tr>\n",
       "            <td>100       </td> <td>0.07   </td>\n",
       "        </tr>\n",
       "        <tr>\n",
       "            <td>100       </td> <td>0.14   </td>\n",
       "        </tr>\n",
       "        <tr>\n",
       "            <td>100       </td> <td>0.15   </td>\n",
       "        </tr>\n",
       "        <tr>\n",
       "            <td>100       </td> <td>0.1    </td>\n",
       "        </tr>\n",
       "        <tr>\n",
       "            <td>100       </td> <td>0.07   </td>\n",
       "        </tr>\n",
       "        <tr>\n",
       "            <td>100       </td> <td>0.12   </td>\n",
       "        </tr>\n",
       "        <tr>\n",
       "            <td>100       </td> <td>0.1    </td>\n",
       "        </tr>\n",
       "        <tr>\n",
       "            <td>100       </td> <td>0.09   </td>\n",
       "        </tr>\n",
       "        <tr>\n",
       "            <td>100       </td> <td>0.11   </td>\n",
       "        </tr>\n",
       "        <tr>\n",
       "            <td>100       </td> <td>0.09   </td>\n",
       "        </tr>\n",
       "        <tr>\n",
       "            <td>100       </td> <td>0.15   </td>\n",
       "        </tr>\n",
       "        <tr>\n",
       "            <td>100       </td> <td>0.13   </td>\n",
       "        </tr>\n",
       "    </tbody>\n",
       "</table>\n",
       "<p>... (130 rows omitted)</p>"
      ],
      "text/plain": [
       "<IPython.core.display.HTML object>"
      ]
     },
     "metadata": {},
     "output_type": "display_data"
    }
   ],
   "source": [
    "test.show(20)"
   ]
  },
  {
   "cell_type": "code",
   "execution_count": 103,
   "id": "71389ee0-eb73-4a73-bf17-45092855d3bc",
   "metadata": {},
   "outputs": [
    {
     "data": {
      "image/png": "[encoded data removed]",
      "text/plain": [
       "<Figure size 600x400 with 1 Axes>"
      ]
     },
     "metadata": {},
     "output_type": "display_data"
    }
   ],
   "source": [
    "test.hist(1,group = \"Simulation\" , bins = 20)"
   ]
  },
  {
   "cell_type": "code",
   "execution_count": 104,
   "id": "de600051-4444-4451-badf-7d1c0f510b6e",
   "metadata": {},
   "outputs": [
    {
     "data": {
      "text/plain": [
       "array([ 0.45,  0.55])"
      ]
     },
     "execution_count": 104,
     "metadata": {},
     "output_type": "execute_result"
    }
   ],
   "source": [
    "#Change the size of the test set \n",
    "#Suppose the ture proportation of people who perfer super soda is 40 %t\n",
    "true_proportion = 0.45\n",
    "true_distribution = make_array(true_proportion, 1 - true_proportion)\n",
    "true_distribution"
   ]
  },
  {
   "cell_type": "code",
   "execution_count": 105,
   "id": "b2eda934-bc56-4df5-a83f-e0c41771f821",
   "metadata": {},
   "outputs": [
    {
     "data": {
      "text/plain": [
       "array([  94.,  106.])"
      ]
     },
     "execution_count": 105,
     "metadata": {},
     "output_type": "execute_result"
    }
   ],
   "source": [
    "#taste tests with 200 people will give various numbers of people who prefer super soda\n",
    "sample_s = 200\n",
    "sample_proportions(sample_s, true_distribution)*sample_s"
   ]
  },
  {
   "cell_type": "code",
   "execution_count": 110,
   "id": "67ba794a-ea47-476b-b2eb-b2c7a25b7f6e",
   "metadata": {},
   "outputs": [
    {
     "name": "stdout",
     "output_type": "stream",
     "text": [
      "[  88.  112.]\n"
     ]
    }
   ],
   "source": [
    "def run_ex(num_simulation, sample_s, true_proportion):\n",
    "    true_distribution = make_array(true_proportion, 1 - true_proportion)\n",
    "    result = sample_proportions(sample_s, true_distribution)*sample_s\n",
    "\n",
    "    num_simulation = 10000\n",
    "counts = make_array()\n",
    "for i in np.arange(num_simulation):\n",
    "    counts = np.append(counts, simulation_one_count(200))\n",
    "print(\"sklsfsd\")\n",
    "\n",
    "    print(result)\n",
    " \n",
    "\n",
    "run_ex(1000, 200, 0.45)"
   ]
  },
  {
   "cell_type": "code",
   "execution_count": null,
   "id": "dc3a7abc-192c-4777-b34d-b7dc1de9cbc1",
   "metadata": {},
   "outputs": [],
   "source": []
  }
 ],
 "metadata": {
  "kernelspec": {
   "display_name": "Python 3 (ipykernel)",
   "language": "python",
   "name": "python3"
  },
  "language_info": {
   "codemirror_mode": {
    "name": "ipython",
    "version": 3
   },
   "file_extension": ".py",
   "mimetype": "text/x-python",
   "name": "python",
   "nbconvert_exporter": "python",
   "pygments_lexer": "ipython3",
   "version": "3.11.9"
  }
 },
 "nbformat": 4,
 "nbformat_minor": 5
}
