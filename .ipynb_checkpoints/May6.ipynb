{
 "cells": [
  {
   "cell_type": "code",
   "execution_count": 1,
   "id": "8a46a37b-71da-4a46-af4b-7b84d599d19b",
   "metadata": {},
   "outputs": [
    {
     "data": {
      "text/plain": [
       "'\\n1 Sample: One Category (e.g percent of flowers that are purple)\\nTest Statistic: observed_proportion, abs(observed_proportion - null_proportion)\\n\\n1 Sample: More Than 2 Categories (e.g ethnicity distribution of jury panel)\\nTest Statistic: TVD(observed\\n\\n\\nCausality in data science refers to the relationship between cause and effect, where changes in one variable directly result in changes \\nin another variable\\n\\nCausality experiment:\\n\\nExperimental setup: Random sleect a group of studetns and devide them into two troups. SImilar in academic background.\\nTreatemtn: Group A study 5 hours while Group B maintains thier regular study routine\\nMeasurment: administer the same exam in both groups\\nAnalysis: Compare the average exam scores\\nConclusionn: Group A performed signifcantly better\\n\\n\\n\\ncorrelation: when two variables change together\\n\\n\\n\\n'"
      ]
     },
     "execution_count": 1,
     "metadata": {},
     "output_type": "execute_result"
    }
   ],
   "source": [
    "\"\"\"\n",
    "1 Sample: One Category (e.g percent of flowers that are purple)\n",
    "Test Statistic: observed_proportion, abs(observed_proportion - null_proportion)\n",
    "\n",
    "1 Sample: More Than 2 Categories (e.g ethnicity distribution of jury panel)\n",
    "Test Statistic: TVD(observed\n",
    "\n",
    "\n",
    "Causality in data science refers to the relationship between cause and effect, where changes in one variable directly result in changes \n",
    "in another variable\n",
    "\n",
    "Causality experiment:\n",
    "\n",
    "Experimental setup: Random sleect a group of studetns and devide them into two troups. SImilar in academic background.\n",
    "Treatemtn: Group A study 5 hours while Group B maintains thier regular study routine\n",
    "Measurment: administer the same exam in both groups\n",
    "Analysis: Compare the average exam scores\n",
    "Conclusionn: Group A performed signifcantly better\n",
    "\n",
    "\n",
    "\n",
    "correlation: when two variables change together\n",
    "\n",
    "\n",
    "\n",
    "\"\"\""
   ]
  },
  {
   "cell_type": "code",
   "execution_count": 6,
   "id": "33a48d61-75e7-44d4-8ee2-12cf06f8c3f3",
   "metadata": {},
   "outputs": [],
   "source": [
    "import numpy as np\n",
    "import warnings\n",
    "warnings.filterwarnings(\"ignore\")\n",
    "%matplotlib inline\n",
    "import matplotlib.pyplot as plots\n",
    "from datascience import *\n",
    "plots.style.use(\"fivethirtyeight\")\n",
    "plots.rcParams[\"patch.force_edgecolor\"]=True\n"
   ]
  },
  {
   "cell_type": "code",
   "execution_count": 8,
   "id": "0d5857d9-9140-4a7e-aa67-d352a0081085",
   "metadata": {},
   "outputs": [
    {
     "data": {
      "text/html": [
       "<table border=\"1\" class=\"dataframe\">\n",
       "    <thead>\n",
       "        <tr>\n",
       "            <th>Group</th> <th>Result</th>\n",
       "        </tr>\n",
       "    </thead>\n",
       "    <tbody>\n",
       "        <tr>\n",
       "            <td>Control</td> <td>1     </td>\n",
       "        </tr>\n",
       "        <tr>\n",
       "            <td>Control</td> <td>1     </td>\n",
       "        </tr>\n",
       "        <tr>\n",
       "            <td>Control</td> <td>0     </td>\n",
       "        </tr>\n",
       "        <tr>\n",
       "            <td>Control</td> <td>0     </td>\n",
       "        </tr>\n",
       "        <tr>\n",
       "            <td>Control</td> <td>0     </td>\n",
       "        </tr>\n",
       "        <tr>\n",
       "            <td>Control</td> <td>0     </td>\n",
       "        </tr>\n",
       "        <tr>\n",
       "            <td>Control</td> <td>0     </td>\n",
       "        </tr>\n",
       "        <tr>\n",
       "            <td>Control</td> <td>0     </td>\n",
       "        </tr>\n",
       "        <tr>\n",
       "            <td>Control</td> <td>0     </td>\n",
       "        </tr>\n",
       "        <tr>\n",
       "            <td>Control</td> <td>0     </td>\n",
       "        </tr>\n",
       "    </tbody>\n",
       "</table>\n",
       "<p>... (21 rows omitted)</p>"
      ],
      "text/plain": [
       "<IPython.core.display.HTML object>"
      ]
     },
     "metadata": {},
     "output_type": "display_data"
    }
   ],
   "source": [
    "bta = Table().read_table(\".csv/bta.csv\")\n",
    "bta.show(10)"
   ]
  },
  {
   "cell_type": "code",
   "execution_count": 10,
   "id": "3dd45e64-28f4-4fb4-ba09-8e5aa6b34820",
   "metadata": {},
   "outputs": [
    {
     "data": {
      "text/html": [
       "<table border=\"1\" class=\"dataframe\">\n",
       "    <thead>\n",
       "        <tr>\n",
       "            <th>Birth Weight</th> <th>Gestational Days</th> <th>Maternal Age</th> <th>Maternal Height</th> <th>Maternal Pregnancy Weight</th> <th>Maternal Smoker</th>\n",
       "        </tr>\n",
       "    </thead>\n",
       "    <tbody>\n",
       "        <tr>\n",
       "            <td>120         </td> <td>284             </td> <td>27          </td> <td>62             </td> <td>100                      </td> <td>False          </td>\n",
       "        </tr>\n",
       "        <tr>\n",
       "            <td>113         </td> <td>282             </td> <td>33          </td> <td>64             </td> <td>135                      </td> <td>False          </td>\n",
       "        </tr>\n",
       "        <tr>\n",
       "            <td>128         </td> <td>279             </td> <td>28          </td> <td>64             </td> <td>115                      </td> <td>True           </td>\n",
       "        </tr>\n",
       "        <tr>\n",
       "            <td>108         </td> <td>282             </td> <td>23          </td> <td>67             </td> <td>125                      </td> <td>True           </td>\n",
       "        </tr>\n",
       "        <tr>\n",
       "            <td>136         </td> <td>286             </td> <td>25          </td> <td>62             </td> <td>93                       </td> <td>False          </td>\n",
       "        </tr>\n",
       "        <tr>\n",
       "            <td>138         </td> <td>244             </td> <td>33          </td> <td>62             </td> <td>178                      </td> <td>False          </td>\n",
       "        </tr>\n",
       "        <tr>\n",
       "            <td>132         </td> <td>245             </td> <td>23          </td> <td>65             </td> <td>140                      </td> <td>False          </td>\n",
       "        </tr>\n",
       "        <tr>\n",
       "            <td>120         </td> <td>289             </td> <td>25          </td> <td>62             </td> <td>125                      </td> <td>False          </td>\n",
       "        </tr>\n",
       "        <tr>\n",
       "            <td>143         </td> <td>299             </td> <td>30          </td> <td>66             </td> <td>136                      </td> <td>True           </td>\n",
       "        </tr>\n",
       "        <tr>\n",
       "            <td>140         </td> <td>351             </td> <td>27          </td> <td>68             </td> <td>120                      </td> <td>False          </td>\n",
       "        </tr>\n",
       "    </tbody>\n",
       "</table>\n",
       "<p>... (1164 rows omitted)</p>"
      ],
      "text/plain": [
       "<IPython.core.display.HTML object>"
      ]
     },
     "metadata": {},
     "output_type": "display_data"
    }
   ],
   "source": [
    "births = Table().read_table(\".csv/baby.csv\")\n",
    "births.show(10)"
   ]
  },
  {
   "cell_type": "code",
   "execution_count": 12,
   "id": "1b87da8e-7b56-4a22-a374-b0f2c93dfc2f",
   "metadata": {},
   "outputs": [
    {
     "data": {
      "text/html": [
       "<table border=\"1\" class=\"dataframe\">\n",
       "    <thead>\n",
       "        <tr>\n",
       "            <th>Maternal Smoker</th> <th>Birth Weight</th>\n",
       "        </tr>\n",
       "    </thead>\n",
       "    <tbody>\n",
       "        <tr>\n",
       "            <td>False          </td> <td>120         </td>\n",
       "        </tr>\n",
       "        <tr>\n",
       "            <td>False          </td> <td>113         </td>\n",
       "        </tr>\n",
       "        <tr>\n",
       "            <td>True           </td> <td>128         </td>\n",
       "        </tr>\n",
       "        <tr>\n",
       "            <td>True           </td> <td>108         </td>\n",
       "        </tr>\n",
       "        <tr>\n",
       "            <td>False          </td> <td>136         </td>\n",
       "        </tr>\n",
       "    </tbody>\n",
       "</table>\n",
       "<p>... (1169 rows omitted)</p>"
      ],
      "text/plain": [
       "<IPython.core.display.HTML object>"
      ]
     },
     "metadata": {},
     "output_type": "display_data"
    }
   ],
   "source": [
    "smoking_and_birthweight = births.select(\"Maternal Smoker\", \"Birth Weight\")\n",
    "smoking_and_birthweight.show(5)"
   ]
  },
  {
   "cell_type": "code",
   "execution_count": 14,
   "id": "e23654c0-28b0-40cc-baee-ce1263250315",
   "metadata": {},
   "outputs": [
    {
     "data": {
      "text/html": [
       "<table border=\"1\" class=\"dataframe\">\n",
       "    <thead>\n",
       "        <tr>\n",
       "            <th>Maternal Smoker</th> <th>Birth Weight mean</th>\n",
       "        </tr>\n",
       "    </thead>\n",
       "    <tbody>\n",
       "        <tr>\n",
       "            <td>False          </td> <td>123.085          </td>\n",
       "        </tr>\n",
       "        <tr>\n",
       "            <td>True           </td> <td>113.819          </td>\n",
       "        </tr>\n",
       "    </tbody>\n",
       "</table>"
      ],
      "text/plain": [
       "<IPython.core.display.HTML object>"
      ]
     },
     "metadata": {},
     "output_type": "display_data"
    }
   ],
   "source": [
    "means_table = smoking_and_birthweight.group(\"Maternal Smoker\", np.mean)\n",
    "means_table.show()"
   ]
  },
  {
   "cell_type": "code",
   "execution_count": 16,
   "id": "1e432189-10ab-4a94-b4cd-de88d01629cc",
   "metadata": {},
   "outputs": [
    {
     "data": {
      "text/plain": [
       "array([ 123.08531469,  113.81917211])"
      ]
     },
     "execution_count": 16,
     "metadata": {},
     "output_type": "execute_result"
    }
   ],
   "source": [
    "means = means_table.column(1)\n",
    "means"
   ]
  },
  {
   "cell_type": "code",
   "execution_count": 18,
   "id": "c3350f5e-9e3d-4c4a-8c49-4d2d3c98914e",
   "metadata": {},
   "outputs": [
    {
     "data": {
      "text/plain": [
       "-9.266142572024918"
      ]
     },
     "execution_count": 18,
     "metadata": {},
     "output_type": "execute_result"
    }
   ],
   "source": [
    "observed_difference = means.item(1) - means.item(0)\n",
    "observed_difference "
   ]
  },
  {
   "cell_type": "code",
   "execution_count": 64,
   "id": "c1ff72d8-a225-43a8-9781-44c6794b0344",
   "metadata": {},
   "outputs": [
    {
     "data": {
      "text/plain": [
       "array([ True,  True, False, ...,  True, False, False], dtype=bool)"
      ]
     },
     "execution_count": 64,
     "metadata": {},
     "output_type": "execute_result"
    }
   ],
   "source": [
    "def difference_of_means(table, label, group_label):\n",
    "    reduced = table.select(label, group_label)\n",
    "    reduceds = reduced.group(group_label, np.mean)\n",
    "    mean = reduceds.column(1)\n",
    "    return mean.item(1) - mean.item(0)\n",
    "shuffled_control = smoking_and_birthweight.sample(with_replacement = False).column(\"Maternal Smoker\")\n",
    "shuffled_control"
   ]
  },
  {
   "cell_type": "code",
   "execution_count": 65,
   "id": "a2b2daec-32c9-444b-a902-d1ed359399a5",
   "metadata": {},
   "outputs": [],
   "source": [
    "original_shuffled = smoking_and_birthweight.with_column(\"Shuffled\", shuffled_control).select(2,1)"
   ]
  },
  {
   "cell_type": "code",
   "execution_count": 66,
   "id": "937e0736-12a5-4208-95d5-776c0ad553ea",
   "metadata": {},
   "outputs": [
    {
     "data": {
      "text/html": [
       "<table border=\"1\" class=\"dataframe\">\n",
       "    <thead>\n",
       "        <tr>\n",
       "            <th>Shuffled</th> <th>Birth Weight</th>\n",
       "        </tr>\n",
       "    </thead>\n",
       "    <tbody>\n",
       "        <tr>\n",
       "            <td>True    </td> <td>120         </td>\n",
       "        </tr>\n",
       "        <tr>\n",
       "            <td>True    </td> <td>113         </td>\n",
       "        </tr>\n",
       "        <tr>\n",
       "            <td>False   </td> <td>128         </td>\n",
       "        </tr>\n",
       "        <tr>\n",
       "            <td>False   </td> <td>108         </td>\n",
       "        </tr>\n",
       "        <tr>\n",
       "            <td>False   </td> <td>136         </td>\n",
       "        </tr>\n",
       "        <tr>\n",
       "            <td>False   </td> <td>138         </td>\n",
       "        </tr>\n",
       "        <tr>\n",
       "            <td>False   </td> <td>132         </td>\n",
       "        </tr>\n",
       "        <tr>\n",
       "            <td>True    </td> <td>120         </td>\n",
       "        </tr>\n",
       "        <tr>\n",
       "            <td>False   </td> <td>143         </td>\n",
       "        </tr>\n",
       "        <tr>\n",
       "            <td>True    </td> <td>140         </td>\n",
       "        </tr>\n",
       "    </tbody>\n",
       "</table>\n",
       "<p>... (1164 rows omitted)</p>"
      ],
      "text/plain": [
       "Shuffled | Birth Weight\n",
       "True     | 120\n",
       "True     | 113\n",
       "False    | 128\n",
       "False    | 108\n",
       "False    | 136\n",
       "False    | 138\n",
       "False    | 132\n",
       "True     | 120\n",
       "False    | 143\n",
       "True     | 140\n",
       "... (1164 rows omitted)"
      ]
     },
     "execution_count": 66,
     "metadata": {},
     "output_type": "execute_result"
    }
   ],
   "source": [
    "original_shuffled"
   ]
  },
  {
   "cell_type": "code",
   "execution_count": 67,
   "id": "45122fcb-e97b-438b-864d-5279e9742d27",
   "metadata": {},
   "outputs": [
    {
     "data": {
      "text/plain": [
       "0.07048158812864358"
      ]
     },
     "execution_count": 67,
     "metadata": {},
     "output_type": "execute_result"
    }
   ],
   "source": [
    "difference_of_means(original_shuffled, \"Birth Weight\", \"Shuffled\")"
   ]
  },
  {
   "cell_type": "code",
   "execution_count": 121,
   "id": "8f12ecb7-5b8c-4992-afba-752f049aed22",
   "metadata": {},
   "outputs": [],
   "source": [
    "def one_simulated_difference(table, label, group_label):\n",
    "     shuffle = table.sample(with_replacement = False).column(group_label)\n",
    "     origin_and_shuffle = table.with_column(group_label, shuffle)\n",
    "     return difference_of_means(origin_and_shuffle, label,group_label)"
   ]
  },
  {
   "cell_type": "code",
   "execution_count": 122,
   "id": "6633c57c-dec8-40b7-aae5-c36764778fad",
   "metadata": {},
   "outputs": [
    {
     "data": {
      "text/html": [
       "<table border=\"1\" class=\"dataframe\">\n",
       "    <thead>\n",
       "        <tr>\n",
       "            <th>Maternal Smoker</th> <th>Birth Weight average</th> <th>Gestational Days average</th> <th>Maternal Age average</th> <th>Maternal Height average</th> <th>Maternal Pregnancy Weight average</th>\n",
       "        </tr>\n",
       "    </thead>\n",
       "    <tbody>\n",
       "        <tr>\n",
       "            <td>False          </td> <td>123.085             </td> <td>279.874                 </td> <td>27.5441             </td> <td>64.014                 </td> <td>129.48                           </td>\n",
       "        </tr>\n",
       "        <tr>\n",
       "            <td>True           </td> <td>113.819             </td> <td>277.898                 </td> <td>26.7364             </td> <td>64.1046                </td> <td>126.919                          </td>\n",
       "        </tr>\n",
       "    </tbody>\n",
       "</table>"
      ],
      "text/plain": [
       "Maternal Smoker | Birth Weight average | Gestational Days average | Maternal Age average | Maternal Height average | Maternal Pregnancy Weight average\n",
       "False           | 123.085              | 279.874                  | 27.5441              | 64.014                  | 129.48\n",
       "True            | 113.819              | 277.898                  | 26.7364              | 64.1046                 | 126.919"
      ]
     },
     "execution_count": 122,
     "metadata": {},
     "output_type": "execute_result"
    }
   ],
   "source": [
    "births.group(\"Maternal Smoker\", np.average)"
   ]
  },
  {
   "cell_type": "code",
   "execution_count": 123,
   "id": "d132e5a0-6aca-4e9a-aa96-0bcf0ffc50c3",
   "metadata": {},
   "outputs": [
    {
     "data": {
      "text/html": [
       "<table border=\"1\" class=\"dataframe\">\n",
       "    <thead>\n",
       "        <tr>\n",
       "            <th>Group</th> <th>Result</th>\n",
       "        </tr>\n",
       "    </thead>\n",
       "    <tbody>\n",
       "        <tr>\n",
       "            <td>Control</td> <td>1     </td>\n",
       "        </tr>\n",
       "        <tr>\n",
       "            <td>Control</td> <td>1     </td>\n",
       "        </tr>\n",
       "        <tr>\n",
       "            <td>Control</td> <td>0     </td>\n",
       "        </tr>\n",
       "        <tr>\n",
       "            <td>Control</td> <td>0     </td>\n",
       "        </tr>\n",
       "        <tr>\n",
       "            <td>Control</td> <td>0     </td>\n",
       "        </tr>\n",
       "        <tr>\n",
       "            <td>Control</td> <td>0     </td>\n",
       "        </tr>\n",
       "        <tr>\n",
       "            <td>Control</td> <td>0     </td>\n",
       "        </tr>\n",
       "        <tr>\n",
       "            <td>Control</td> <td>0     </td>\n",
       "        </tr>\n",
       "        <tr>\n",
       "            <td>Control</td> <td>0     </td>\n",
       "        </tr>\n",
       "        <tr>\n",
       "            <td>Control</td> <td>0     </td>\n",
       "        </tr>\n",
       "    </tbody>\n",
       "</table>\n",
       "<p>... (21 rows omitted)</p>"
      ],
      "text/plain": [
       "<IPython.core.display.HTML object>"
      ]
     },
     "metadata": {},
     "output_type": "display_data"
    }
   ],
   "source": [
    "bta.show(10)"
   ]
  },
  {
   "cell_type": "code",
   "execution_count": 124,
   "id": "f01c9741-b514-45da-8e98-30abfd0ce67a",
   "metadata": {},
   "outputs": [
    {
     "data": {
      "text/html": [
       "<table border=\"1\" class=\"dataframe\">\n",
       "    <thead>\n",
       "        <tr>\n",
       "            <th>Group</th> <th>0.0</th> <th>1.0</th>\n",
       "        </tr>\n",
       "    </thead>\n",
       "    <tbody>\n",
       "        <tr>\n",
       "            <td>Control  </td> <td>14  </td> <td>2   </td>\n",
       "        </tr>\n",
       "        <tr>\n",
       "            <td>Treatment</td> <td>6   </td> <td>9   </td>\n",
       "        </tr>\n",
       "    </tbody>\n",
       "</table>"
      ],
      "text/plain": [
       "Group     | 0.0  | 1.0\n",
       "Control   | 14   | 2\n",
       "Treatment | 6    | 9"
      ]
     },
     "execution_count": 124,
     "metadata": {},
     "output_type": "execute_result"
    }
   ],
   "source": [
    "piv = bta.pivot(\"Result\", \"Group\")\n",
    "piv"
   ]
  },
  {
   "cell_type": "code",
   "execution_count": null,
   "id": "2e728e61-df58-460a-a9c1-e602505ee3a3",
   "metadata": {},
   "outputs": [],
   "source": []
  },
  {
   "cell_type": "code",
   "execution_count": 125,
   "id": "d6339ac9-eeec-42ac-912a-c88f03e62a93",
   "metadata": {},
   "outputs": [
    {
     "data": {
      "text/html": [
       "<table border=\"1\" class=\"dataframe\">\n",
       "    <thead>\n",
       "        <tr>\n",
       "            <th>Group</th> <th>Result average</th>\n",
       "        </tr>\n",
       "    </thead>\n",
       "    <tbody>\n",
       "        <tr>\n",
       "            <td>Control  </td> <td>0.125         </td>\n",
       "        </tr>\n",
       "        <tr>\n",
       "            <td>Treatment</td> <td>0.6           </td>\n",
       "        </tr>\n",
       "    </tbody>\n",
       "</table>"
      ],
      "text/plain": [
       "Group     | Result average\n",
       "Control   | 0.125\n",
       "Treatment | 0.6"
      ]
     },
     "execution_count": 125,
     "metadata": {},
     "output_type": "execute_result"
    }
   ],
   "source": [
    "bta.group(\"Group\", np.average)"
   ]
  },
  {
   "cell_type": "code",
   "execution_count": 144,
   "id": "ff1a8d2e-7202-45b7-9317-b3cfb78ed051",
   "metadata": {},
   "outputs": [],
   "source": [
    "obs = difference_of_means(bta, \"Result\", \"Group\")"
   ]
  },
  {
   "cell_type": "code",
   "execution_count": 127,
   "id": "5e2a95e1-7817-4cd1-84c4-85aabd8e2a8e",
   "metadata": {},
   "outputs": [
    {
     "data": {
      "text/plain": [
       "array(['Control', 'Treatment', 'Treatment', 'Treatment', 'Control',\n",
       "       'Control', 'Control', 'Control', 'Treatment', 'Control', 'Control',\n",
       "       'Control', 'Treatment', 'Treatment', 'Control', 'Control',\n",
       "       'Treatment', 'Treatment', 'Treatment', 'Treatment', 'Control',\n",
       "       'Control', 'Treatment', 'Treatment', 'Control', 'Treatment',\n",
       "       'Control', 'Control', 'Control', 'Treatment', 'Treatment'],\n",
       "      dtype='<U9')"
      ]
     },
     "execution_count": 127,
     "metadata": {},
     "output_type": "execute_result"
    }
   ],
   "source": [
    "shuffled_bta = bta.sample(with_replacement = False).column(\"Group\")\n",
    "shuffled_bta"
   ]
  },
  {
   "cell_type": "code",
   "execution_count": 128,
   "id": "5f2d9ce3-2a3a-47ca-896d-f90579566f6f",
   "metadata": {},
   "outputs": [
    {
     "data": {
      "text/html": [
       "<table border=\"1\" class=\"dataframe\">\n",
       "    <thead>\n",
       "        <tr>\n",
       "            <th>Group</th> <th>Result</th> <th>Shuffled</th>\n",
       "        </tr>\n",
       "    </thead>\n",
       "    <tbody>\n",
       "        <tr>\n",
       "            <td>Control</td> <td>1     </td> <td>Control  </td>\n",
       "        </tr>\n",
       "        <tr>\n",
       "            <td>Control</td> <td>1     </td> <td>Treatment</td>\n",
       "        </tr>\n",
       "        <tr>\n",
       "            <td>Control</td> <td>0     </td> <td>Treatment</td>\n",
       "        </tr>\n",
       "        <tr>\n",
       "            <td>Control</td> <td>0     </td> <td>Treatment</td>\n",
       "        </tr>\n",
       "        <tr>\n",
       "            <td>Control</td> <td>0     </td> <td>Control  </td>\n",
       "        </tr>\n",
       "        <tr>\n",
       "            <td>Control</td> <td>0     </td> <td>Control  </td>\n",
       "        </tr>\n",
       "        <tr>\n",
       "            <td>Control</td> <td>0     </td> <td>Control  </td>\n",
       "        </tr>\n",
       "        <tr>\n",
       "            <td>Control</td> <td>0     </td> <td>Control  </td>\n",
       "        </tr>\n",
       "        <tr>\n",
       "            <td>Control</td> <td>0     </td> <td>Treatment</td>\n",
       "        </tr>\n",
       "        <tr>\n",
       "            <td>Control</td> <td>0     </td> <td>Control  </td>\n",
       "        </tr>\n",
       "    </tbody>\n",
       "</table>\n",
       "<p>... (21 rows omitted)</p>"
      ],
      "text/plain": [
       "Group   | Result | Shuffled\n",
       "Control | 1      | Control\n",
       "Control | 1      | Treatment\n",
       "Control | 0      | Treatment\n",
       "Control | 0      | Treatment\n",
       "Control | 0      | Control\n",
       "Control | 0      | Control\n",
       "Control | 0      | Control\n",
       "Control | 0      | Control\n",
       "Control | 0      | Treatment\n",
       "Control | 0      | Control\n",
       "... (21 rows omitted)"
      ]
     },
     "execution_count": 128,
     "metadata": {},
     "output_type": "execute_result"
    }
   ],
   "source": [
    "original_and_shuffle = bta.with_column(\"Shuffled\", shuffled_bta)\n",
    "original_and_shuffle"
   ]
  },
  {
   "cell_type": "code",
   "execution_count": 130,
   "id": "77a61b1c-b7b1-48f2-8b1f-874148b8e989",
   "metadata": {},
   "outputs": [
    {
     "data": {
      "text/plain": [
       "-0.17083333333333334"
      ]
     },
     "execution_count": 130,
     "metadata": {},
     "output_type": "execute_result"
    }
   ],
   "source": [
    "one_simulated_difference(bta, \"Result\", \"Group\")"
   ]
  },
  {
   "cell_type": "code",
   "execution_count": 134,
   "id": "4a33f24a-ec74-468d-b166-563a595c234d",
   "metadata": {},
   "outputs": [
    {
     "data": {
      "text/plain": [
       "array([ 0.21666667,  0.0875    ,  0.475     , ...,  0.34583333,\n",
       "       -0.04166667, -0.04166667])"
      ]
     },
     "execution_count": 134,
     "metadata": {},
     "output_type": "execute_result"
    }
   ],
   "source": [
    "simulated_diffs = make_array()\n",
    "for i in np.arange(10000):\n",
    "    sim_diff =one_simulated_difference(bta, \"Result\", \"Group\")\n",
    "    simulated_diffs = np.append(simulated_diffs, sim_diff)\n",
    "simulated_diffs"
   ]
  },
  {
   "cell_type": "code",
   "execution_count": 137,
   "id": "de863b50-ce4d-4a08-a98d-c8824db556ef",
   "metadata": {},
   "outputs": [],
   "source": [
    "col_name = \"Distance betwen Groups\"\n",
    "a = Table().with_column(col_name, simulated_diffs)"
   ]
  },
  {
   "cell_type": "code",
   "execution_count": 138,
   "id": "6e4ed101-1755-4dd6-b80c-2bf8c0fccbe5",
   "metadata": {},
   "outputs": [
    {
     "data": {
      "text/plain": [
       "-0.0018575000000000035"
      ]
     },
     "execution_count": 138,
     "metadata": {},
     "output_type": "execute_result"
    }
   ],
   "source": [
    "np.mean(a.column(0))"
   ]
  },
  {
   "cell_type": "code",
   "execution_count": 152,
   "id": "bc2f865c-2204-49e6-bbb1-c5e791fc1d3b",
   "metadata": {},
   "outputs": [
    {
     "data": {
      "text/plain": [
       "<matplotlib.collections.PathCollection at 0x240682e3c90>"
      ]
     },
     "execution_count": 152,
     "metadata": {},
     "output_type": "execute_result"
    },
    {
     "data": {
      "image/png": "[encoded data removed]",
      "text/plain": [
       "<Figure size 600x400 with 1 Axes>"
      ]
     },
     "metadata": {},
     "output_type": "display_data"
    }
   ],
   "source": [
    "a.hist(col_name, bins = 10)\n",
    "plots.scatter(obs, -0.01, color = \"red\", s = 120)\n"
   ]
  },
  {
   "cell_type": "code",
   "execution_count": 156,
   "id": "d1b3af93-2c2d-4e86-a162-b5b10a16f377",
   "metadata": {},
   "outputs": [
    {
     "data": {
      "text/plain": [
       "0.0061999999999999998"
      ]
     },
     "execution_count": 156,
     "metadata": {},
     "output_type": "execute_result"
    }
   ],
   "source": [
    "sum(simulated_diffs >= obs)/len(simulated_diffs)"
   ]
  },
  {
   "cell_type": "code",
   "execution_count": null,
   "id": "da7dd3b6-fa78-4034-93a6-df7544ad37fd",
   "metadata": {},
   "outputs": [],
   "source": [
    "#purpose: acceptance or reject the null hypothosis\n",
    "\n",
    "# accept it greater than 0.05 and reject the null hypothosis"
   ]
  }
 ],
 "metadata": {
  "kernelspec": {
   "display_name": "Python 3 (ipykernel)",
   "language": "python",
   "name": "python3"
  },
  "language_info": {
   "codemirror_mode": {
    "name": "ipython",
    "version": 3
   },
   "file_extension": ".py",
   "mimetype": "text/x-python",
   "name": "python",
   "nbconvert_exporter": "python",
   "pygments_lexer": "ipython3",
   "version": "3.11.9"
  }
 },
 "nbformat": 4,
 "nbformat_minor": 5
}
