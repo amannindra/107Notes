{
 "cells": [
  {
   "cell_type": "code",
   "execution_count": 2,
   "id": "d4361c8b-0fb6-4efe-b0f9-b8c154e1d68c",
   "metadata": {},
   "outputs": [],
   "source": [
    "from datascience import *\n"
   ]
  },
  {
   "cell_type": "code",
   "execution_count": 3,
   "id": "7d4d5fe8-359d-4b43-824b-c4b2f7033505",
   "metadata": {},
   "outputs": [],
   "source": [
    "table = Table()"
   ]
  },
  {
   "cell_type": "code",
   "execution_count": 4,
   "id": "5121aade-f5b8-441e-bdd3-0637f86aa35d",
   "metadata": {},
   "outputs": [],
   "source": [
    "table = Table().with_columns('Auction_ID',[1,2,3], 'item',['Jacket','Smartwatch','Tablet'],'Opening_bid',[50,150,350],'Closing_Price',[75,150,600])"
   ]
  },
  {
   "cell_type": "code",
   "execution_count": 7,
   "id": "a49bc4e9-9ce4-4b11-a155-7f1f0c5bcc75",
   "metadata": {},
   "outputs": [
    {
     "data": {
      "text/html": [
       "<table border=\"1\" class=\"dataframe\">\n",
       "    <thead>\n",
       "        <tr>\n",
       "            <th>Auction_ID</th> <th>item</th> <th>Opening_bid</th> <th>Closing_Price</th>\n",
       "        </tr>\n",
       "    </thead>\n",
       "    <tbody>\n",
       "        <tr>\n",
       "            <td>1         </td> <td>Jacket    </td> <td>50         </td> <td>75           </td>\n",
       "        </tr>\n",
       "        <tr>\n",
       "            <td>2         </td> <td>Smartwatch</td> <td>150        </td> <td>150          </td>\n",
       "        </tr>\n",
       "        <tr>\n",
       "            <td>3         </td> <td>Tablet    </td> <td>350        </td> <td>600          </td>\n",
       "        </tr>\n",
       "    </tbody>\n",
       "</table>"
      ],
      "text/plain": [
       "<IPython.core.display.HTML object>"
      ]
     },
     "metadata": {},
     "output_type": "display_data"
    }
   ],
   "source": [
    "table.show(3)"
   ]
  },
  {
   "cell_type": "code",
   "execution_count": 8,
   "id": "42775877-0190-4d64-9877-1093d6a88a5d",
   "metadata": {},
   "outputs": [
    {
     "data": {
      "text/plain": [
       "array([ 50, 150, 350])"
      ]
     },
     "execution_count": 8,
     "metadata": {},
     "output_type": "execute_result"
    }
   ],
   "source": [
    "table.column('Opening_bid')"
   ]
  },
  {
   "cell_type": "code",
   "execution_count": 9,
   "id": "d6b0ce3b-21e7-4c7f-b774-68409c0176d8",
   "metadata": {},
   "outputs": [
    {
     "data": {
      "text/html": [
       "<table border=\"1\" class=\"dataframe\">\n",
       "    <thead>\n",
       "        <tr>\n",
       "            <th>Opening_bid</th>\n",
       "        </tr>\n",
       "    </thead>\n",
       "    <tbody>\n",
       "        <tr>\n",
       "            <td>50         </td>\n",
       "        </tr>\n",
       "        <tr>\n",
       "            <td>150        </td>\n",
       "        </tr>\n",
       "        <tr>\n",
       "            <td>350        </td>\n",
       "        </tr>\n",
       "    </tbody>\n",
       "</table>"
      ],
      "text/plain": [
       "Opening_bid\n",
       "50\n",
       "150\n",
       "350"
      ]
     },
     "execution_count": 9,
     "metadata": {},
     "output_type": "execute_result"
    }
   ],
   "source": [
    "table.select('Opening_bid')"
   ]
  },
  {
   "cell_type": "code",
   "execution_count": 10,
   "id": "012bd70a-aacf-46ae-b5a0-1435dbfd710b",
   "metadata": {},
   "outputs": [
    {
     "data": {
      "text/plain": [
       "array([ 25,   0, 250])"
      ]
     },
     "execution_count": 10,
     "metadata": {},
     "output_type": "execute_result"
    }
   ],
   "source": [
    "subtract = table.column('Closing_Price') - table.column('Opening_bid')\n",
    "\n",
    "\n",
    "subtract"
   ]
  },
  {
   "cell_type": "code",
   "execution_count": 11,
   "id": "ada7bf05-38bd-4360-9c69-0fc96603c182",
   "metadata": {},
   "outputs": [],
   "source": [
    "table = table.with_column(\"Profit\", subtract)"
   ]
  },
  {
   "cell_type": "code",
   "execution_count": 12,
   "id": "34e41c9f-8515-4e80-a264-150e3779e931",
   "metadata": {},
   "outputs": [
    {
     "data": {
      "text/html": [
       "<table border=\"1\" class=\"dataframe\">\n",
       "    <thead>\n",
       "        <tr>\n",
       "            <th>Auction_ID</th> <th>item</th> <th>Opening_bid</th> <th>Closing_Price</th> <th>Profit</th>\n",
       "        </tr>\n",
       "    </thead>\n",
       "    <tbody>\n",
       "        <tr>\n",
       "            <td>1         </td> <td>Jacket    </td> <td>50         </td> <td>75           </td> <td>25    </td>\n",
       "        </tr>\n",
       "        <tr>\n",
       "            <td>2         </td> <td>Smartwatch</td> <td>150        </td> <td>150          </td> <td>0     </td>\n",
       "        </tr>\n",
       "        <tr>\n",
       "            <td>3         </td> <td>Tablet    </td> <td>350        </td> <td>600          </td> <td>250   </td>\n",
       "        </tr>\n",
       "    </tbody>\n",
       "</table>"
      ],
      "text/plain": [
       "<IPython.core.display.HTML object>"
      ]
     },
     "metadata": {},
     "output_type": "display_data"
    }
   ],
   "source": [
    "table.show()"
   ]
  },
  {
   "cell_type": "code",
   "execution_count": 13,
   "id": "a59f4fba-1871-43ee-95cf-c84044834684",
   "metadata": {},
   "outputs": [
    {
     "name": "stdout",
     "output_type": "stream",
     "text": [
      "hi\n"
     ]
    }
   ],
   "source": [
    "print(\"hi\")"
   ]
  },
  {
   "cell_type": "code",
   "execution_count": null,
   "id": "7cbd69a5",
   "metadata": {},
   "outputs": [],
   "source": []
  }
 ],
 "metadata": {
  "kernelspec": {
   "display_name": "Python 3 (ipykernel)",
   "language": "python",
   "name": "python3"
  },
  "language_info": {
   "codemirror_mode": {
    "name": "ipython",
    "version": 3
   },
   "file_extension": ".py",
   "mimetype": "text/x-python",
   "name": "python",
   "nbconvert_exporter": "python",
   "pygments_lexer": "ipython3",
   "version": "3.11.8"
  }
 },
 "nbformat": 4,
 "nbformat_minor": 5
}
