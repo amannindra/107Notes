{
 "cells": [
  {
   "cell_type": "code",
   "execution_count": 6,
   "id": "d4361c8b-0fb6-4efe-b0f9-b8c154e1d68c",
   "metadata": {},
   "outputs": [],
   "source": [
    "from datascience import *\n"
   ]
  },
  {
   "cell_type": "code",
   "execution_count": 7,
   "id": "7d4d5fe8-359d-4b43-824b-c4b2f7033505",
   "metadata": {},
   "outputs": [],
   "source": [
    "table = Table()"
   ]
  },
  {
   "cell_type": "code",
   "execution_count": 8,
   "id": "5121aade-f5b8-441e-bdd3-0637f86aa35d",
   "metadata": {},
   "outputs": [],
   "source": [
    "table = Table().with_columns('Auction_ID',[1,2,3], 'item',['Jacket','Smartwatch','Tablet'],'Opening_bid',[50,150,350],'Closing_Price',[75,150,600])"
   ]
  },
  {
   "cell_type": "code",
   "execution_count": 9,
   "id": "a49bc4e9-9ce4-4b11-a155-7f1f0c5bcc75",
   "metadata": {},
   "outputs": [
    {
     "data": {
      "text/html": [
       "<table border=\"1\" class=\"dataframe\">\n",
       "    <thead>\n",
       "        <tr>\n",
       "            <th>Auction_ID</th> <th>item</th> <th>Opening_bid</th> <th>Closing_Price</th>\n",
       "        </tr>\n",
       "    </thead>\n",
       "    <tbody>\n",
       "        <tr>\n",
       "            <td>1         </td> <td>Jacket    </td> <td>50         </td> <td>75           </td>\n",
       "        </tr>\n",
       "        <tr>\n",
       "            <td>2         </td> <td>Smartwatch</td> <td>150        </td> <td>150          </td>\n",
       "        </tr>\n",
       "        <tr>\n",
       "            <td>3         </td> <td>Tablet    </td> <td>350        </td> <td>600          </td>\n",
       "        </tr>\n",
       "    </tbody>\n",
       "</table>"
      ],
      "text/plain": [
       "<IPython.core.display.HTML object>"
      ]
     },
     "metadata": {},
     "output_type": "display_data"
    }
   ],
   "source": [
    "table.show(3)"
   ]
  },
  {
   "cell_type": "code",
   "execution_count": 10,
   "id": "42775877-0190-4d64-9877-1093d6a88a5d",
   "metadata": {},
   "outputs": [
    {
     "data": {
      "text/plain": [
       "array([ 50, 150, 350])"
      ]
     },
     "execution_count": 10,
     "metadata": {},
     "output_type": "execute_result"
    }
   ],
   "source": [
    "table.column('Opening_bid')"
   ]
  },
  {
   "cell_type": "code",
   "execution_count": 11,
   "id": "d6b0ce3b-21e7-4c7f-b774-68409c0176d8",
   "metadata": {},
   "outputs": [
    {
     "data": {
      "text/html": [
       "<table border=\"1\" class=\"dataframe\">\n",
       "    <thead>\n",
       "        <tr>\n",
       "            <th>Opening_bid</th>\n",
       "        </tr>\n",
       "    </thead>\n",
       "    <tbody>\n",
       "        <tr>\n",
       "            <td>50         </td>\n",
       "        </tr>\n",
       "        <tr>\n",
       "            <td>150        </td>\n",
       "        </tr>\n",
       "        <tr>\n",
       "            <td>350        </td>\n",
       "        </tr>\n",
       "    </tbody>\n",
       "</table>"
      ],
      "text/plain": [
       "Opening_bid\n",
       "50\n",
       "150\n",
       "350"
      ]
     },
     "execution_count": 11,
     "metadata": {},
     "output_type": "execute_result"
    }
   ],
   "source": [
    "table.select('Opening_bid')"
   ]
  },
  {
   "cell_type": "code",
   "execution_count": 12,
   "id": "012bd70a-aacf-46ae-b5a0-1435dbfd710b",
   "metadata": {},
   "outputs": [
    {
     "data": {
      "text/plain": [
       "array([ 25,   0, 250])"
      ]
     },
     "execution_count": 12,
     "metadata": {},
     "output_type": "execute_result"
    }
   ],
   "source": [
    "subtract = table.column('Closing_Price') - table.column('Opening_bid')\n",
    "\n",
    "\n",
    "subtract"
   ]
  },
  {
   "cell_type": "code",
   "execution_count": 13,
   "id": "ada7bf05-38bd-4360-9c69-0fc96603c182",
   "metadata": {},
   "outputs": [],
   "source": [
    "table = table.with_column(\"Profit\", subtract)"
   ]
  },
  {
   "cell_type": "code",
   "execution_count": 14,
   "id": "34e41c9f-8515-4e80-a264-150e3779e931",
   "metadata": {},
   "outputs": [
    {
     "data": {
      "text/html": [
       "<table border=\"1\" class=\"dataframe\">\n",
       "    <thead>\n",
       "        <tr>\n",
       "            <th>Auction_ID</th> <th>item</th> <th>Opening_bid</th> <th>Closing_Price</th> <th>Profit</th>\n",
       "        </tr>\n",
       "    </thead>\n",
       "    <tbody>\n",
       "        <tr>\n",
       "            <td>1         </td> <td>Jacket    </td> <td>50         </td> <td>75           </td> <td>25    </td>\n",
       "        </tr>\n",
       "        <tr>\n",
       "            <td>2         </td> <td>Smartwatch</td> <td>150        </td> <td>150          </td> <td>0     </td>\n",
       "        </tr>\n",
       "        <tr>\n",
       "            <td>3         </td> <td>Tablet    </td> <td>350        </td> <td>600          </td> <td>250   </td>\n",
       "        </tr>\n",
       "    </tbody>\n",
       "</table>"
      ],
      "text/plain": [
       "<IPython.core.display.HTML object>"
      ]
     },
     "metadata": {},
     "output_type": "display_data"
    }
   ],
   "source": [
    "table.show()"
   ]
  },
  {
   "cell_type": "code",
   "execution_count": 15,
   "id": "a59f4fba-1871-43ee-95cf-c84044834684",
   "metadata": {},
   "outputs": [
    {
     "name": "stdout",
     "output_type": "stream",
     "text": [
      "hi\n"
     ]
    }
   ],
   "source": [
    "print(\"hi\")"
   ]
  },
  {
   "cell_type": "code",
   "execution_count": 16,
   "id": "7cbd69a5",
   "metadata": {},
   "outputs": [
    {
     "ename": "ValueError",
     "evalue": "The column \"Jacket\" is not in the table. The table contains these columns: Auction_ID, item, Opening_bid, Closing_Price, Profit",
     "output_type": "error",
     "traceback": [
      "\u001b[1;31m---------------------------------------------------------------------------\u001b[0m",
      "\u001b[1;31mValueError\u001b[0m                                Traceback (most recent call last)",
      "Cell \u001b[1;32mIn[16], line 1\u001b[0m\n\u001b[1;32m----> 1\u001b[0m only_jacket \u001b[38;5;241m=\u001b[39m \u001b[43mtable\u001b[49m\u001b[38;5;241;43m.\u001b[39;49m\u001b[43mselect\u001b[49m\u001b[43m(\u001b[49m\u001b[38;5;124;43m'\u001b[39;49m\u001b[38;5;124;43mJacket\u001b[39;49m\u001b[38;5;124;43m'\u001b[39;49m\u001b[43m)\u001b[49m\n\u001b[0;32m      2\u001b[0m only_jacket_under \u001b[38;5;241m=\u001b[39m only_jacket\u001b[38;5;241m.\u001b[39mwhere()\n\u001b[0;32m      4\u001b[0m \u001b[38;5;66;03m# Create the table with specified columns and data\u001b[39;00m\n",
      "File \u001b[1;32m~\\AppData\\Local\\Packages\\PythonSoftwareFoundation.Python.3.11_qbz5n2kfra8p0\\LocalCache\\local-packages\\Python311\\site-packages\\datascience\\tables.py:1252\u001b[0m, in \u001b[0;36mTable.select\u001b[1;34m(self, *column_or_columns)\u001b[0m\n\u001b[0;32m   1250\u001b[0m table \u001b[38;5;241m=\u001b[39m \u001b[38;5;28mtype\u001b[39m(\u001b[38;5;28mself\u001b[39m)()\n\u001b[0;32m   1251\u001b[0m \u001b[38;5;28;01mfor\u001b[39;00m label \u001b[38;5;129;01min\u001b[39;00m labels:\n\u001b[1;32m-> 1252\u001b[0m     \u001b[38;5;28mself\u001b[39m\u001b[38;5;241m.\u001b[39m_add_column_and_format(table, label, np\u001b[38;5;241m.\u001b[39mcopy(\u001b[38;5;28;43mself\u001b[39;49m\u001b[43m[\u001b[49m\u001b[43mlabel\u001b[49m\u001b[43m]\u001b[49m))\n\u001b[0;32m   1253\u001b[0m \u001b[38;5;28;01mreturn\u001b[39;00m table\n",
      "File \u001b[1;32m~\\AppData\\Local\\Packages\\PythonSoftwareFoundation.Python.3.11_qbz5n2kfra8p0\\LocalCache\\local-packages\\Python311\\site-packages\\datascience\\tables.py:261\u001b[0m, in \u001b[0;36mTable.__getitem__\u001b[1;34m(self, index_or_label)\u001b[0m\n\u001b[0;32m    260\u001b[0m \u001b[38;5;28;01mdef\u001b[39;00m \u001b[38;5;21m__getitem__\u001b[39m(\u001b[38;5;28mself\u001b[39m, index_or_label):\n\u001b[1;32m--> 261\u001b[0m     \u001b[38;5;28;01mreturn\u001b[39;00m \u001b[38;5;28;43mself\u001b[39;49m\u001b[38;5;241;43m.\u001b[39;49m\u001b[43mcolumn\u001b[49m\u001b[43m(\u001b[49m\u001b[43mindex_or_label\u001b[49m\u001b[43m)\u001b[49m\n",
      "File \u001b[1;32m~\\AppData\\Local\\Packages\\PythonSoftwareFoundation.Python.3.11_qbz5n2kfra8p0\\LocalCache\\local-packages\\Python311\\site-packages\\datascience\\tables.py:408\u001b[0m, in \u001b[0;36mTable.column\u001b[1;34m(self, index_or_label)\u001b[0m\n\u001b[0;32m    383\u001b[0m \u001b[38;5;250m\u001b[39m\u001b[38;5;124;03m\"\"\"Return the values of a column as an array.\u001b[39;00m\n\u001b[0;32m    384\u001b[0m \n\u001b[0;32m    385\u001b[0m \u001b[38;5;124;03mtable.column(label) is equivalent to table[label].\u001b[39;00m\n\u001b[1;32m   (...)\u001b[0m\n\u001b[0;32m    404\u001b[0m \u001b[38;5;124;03m    ``ValueError``: When the ``index_or_label`` is not in the table.\u001b[39;00m\n\u001b[0;32m    405\u001b[0m \u001b[38;5;124;03m\"\"\"\u001b[39;00m\n\u001b[0;32m    406\u001b[0m \u001b[38;5;28;01mif\u001b[39;00m (\u001b[38;5;28misinstance\u001b[39m(index_or_label, \u001b[38;5;28mstr\u001b[39m)\n\u001b[0;32m    407\u001b[0m         \u001b[38;5;129;01mand\u001b[39;00m index_or_label \u001b[38;5;129;01mnot\u001b[39;00m \u001b[38;5;129;01min\u001b[39;00m \u001b[38;5;28mself\u001b[39m\u001b[38;5;241m.\u001b[39mlabels):\n\u001b[1;32m--> 408\u001b[0m     \u001b[38;5;28;01mraise\u001b[39;00m \u001b[38;5;167;01mValueError\u001b[39;00m(\n\u001b[0;32m    409\u001b[0m         \u001b[38;5;124m'\u001b[39m\u001b[38;5;124mThe column \u001b[39m\u001b[38;5;124m\"\u001b[39m\u001b[38;5;132;01m{}\u001b[39;00m\u001b[38;5;124m\"\u001b[39m\u001b[38;5;124m is not in the table. The table contains \u001b[39m\u001b[38;5;124m'\u001b[39m\n\u001b[0;32m    410\u001b[0m         \u001b[38;5;124m'\u001b[39m\u001b[38;5;124mthese columns: \u001b[39m\u001b[38;5;132;01m{}\u001b[39;00m\u001b[38;5;124m'\u001b[39m\n\u001b[0;32m    411\u001b[0m         \u001b[38;5;241m.\u001b[39mformat(index_or_label, \u001b[38;5;124m'\u001b[39m\u001b[38;5;124m, \u001b[39m\u001b[38;5;124m'\u001b[39m\u001b[38;5;241m.\u001b[39mjoin(\u001b[38;5;28mself\u001b[39m\u001b[38;5;241m.\u001b[39mlabels))\n\u001b[0;32m    412\u001b[0m     )\n\u001b[0;32m    413\u001b[0m \u001b[38;5;28;01mif\u001b[39;00m (\u001b[38;5;28misinstance\u001b[39m(index_or_label, \u001b[38;5;28mint\u001b[39m)\n\u001b[0;32m    414\u001b[0m         \u001b[38;5;129;01mand\u001b[39;00m \u001b[38;5;129;01mnot\u001b[39;00m \u001b[38;5;241m0\u001b[39m \u001b[38;5;241m<\u001b[39m\u001b[38;5;241m=\u001b[39m index_or_label \u001b[38;5;241m<\u001b[39m \u001b[38;5;28mlen\u001b[39m(\u001b[38;5;28mself\u001b[39m\u001b[38;5;241m.\u001b[39mlabels)):\n\u001b[0;32m    415\u001b[0m     \u001b[38;5;28;01mraise\u001b[39;00m \u001b[38;5;167;01mValueError\u001b[39;00m(\n\u001b[0;32m    416\u001b[0m         \u001b[38;5;124m'\u001b[39m\u001b[38;5;124mThe index \u001b[39m\u001b[38;5;132;01m{}\u001b[39;00m\u001b[38;5;124m is not in the table. Only indices between \u001b[39m\u001b[38;5;124m'\u001b[39m\n\u001b[0;32m    417\u001b[0m         \u001b[38;5;124m'\u001b[39m\u001b[38;5;124m0 and \u001b[39m\u001b[38;5;132;01m{}\u001b[39;00m\u001b[38;5;124m are valid\u001b[39m\u001b[38;5;124m'\u001b[39m\n\u001b[0;32m    418\u001b[0m         \u001b[38;5;241m.\u001b[39mformat(index_or_label, \u001b[38;5;28mlen\u001b[39m(\u001b[38;5;28mself\u001b[39m\u001b[38;5;241m.\u001b[39mlabels) \u001b[38;5;241m-\u001b[39m \u001b[38;5;241m1\u001b[39m)\n\u001b[0;32m    419\u001b[0m     )\n",
      "\u001b[1;31mValueError\u001b[0m: The column \"Jacket\" is not in the table. The table contains these columns: Auction_ID, item, Opening_bid, Closing_Price, Profit"
     ]
    }
   ],
   "source": [
    "only_jacket = table.select('Jacket')\n",
    "only_jacket_under = only_jacket.where()\n",
    "\n",
    "# Create the table with specified columns and data\n",
    "nova = Table().with_columns(\n",
    "    'Release Date', ['3/7/2016', '22/3/2013', '14/2/2007', '1/1/2011'],\n",
    "    'Title', ['Supernova in the East IV', 'King of Kings III', 'Prophets of Doom', 'Death Throes of the Republic V'],\n",
    "    'Description', [\n",
    "        'Coral Sea, Midway and Guadalcanal are three of the most...',\n",
    "        'Xerxes, Spartans, Immortals, Alexander the Great…',\n",
    "        'Millennial preachers take over the German city of Munster...',\n",
    "        'The last great generation of the Roman…'\n",
    "    ],\n",
    "    'Era', ['Modern', 'Ancient', 'Early Modern', 'Ancient'],\n",
    "    'Series', ['Yes', 'Yes', 'No', 'Yes'],\n",
    "    'Downloads', [1000, 2000, 1500, 1200]  # Placeholder values for downloads\n",
    ")\n",
    "\n",
    "# Display the table\n",
    "nova.show()"
   ]
  },
  {
   "cell_type": "code",
   "execution_count": null,
   "id": "40710650",
   "metadata": {},
   "outputs": [],
   "source": []
  }
 ],
 "metadata": {
  "kernelspec": {
   "display_name": "Python 3 (ipykernel)",
   "language": "python",
   "name": "python3"
  },
  "language_info": {
   "codemirror_mode": {
    "name": "ipython",
    "version": 3
   },
   "file_extension": ".py",
   "mimetype": "text/x-python",
   "name": "python",
   "nbconvert_exporter": "python",
   "pygments_lexer": "ipython3",
   "version": "3.11.8"
  }
 },
 "nbformat": 4,
 "nbformat_minor": 5
}
