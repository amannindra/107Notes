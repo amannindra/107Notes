{
 "cells": [
  {
   "cell_type": "code",
   "execution_count": 1,
   "id": "a5d23ccd-49ab-476a-9e93-71cb2333b161",
   "metadata": {},
   "outputs": [],
   "source": [
    "from datascience import *\n",
    "import numpy as np\n",
    "%matplotlib inline\n",
    "import matplotlib.pyplot as plt\n",
    "plt.style.use(\"fivethirtyeight\")\n",
    "import warnings\n",
    "warnings.simplefilter(action = \"ignore\", category = np.VisibleDeprecationWarning)"
   ]
  },
  {
   "cell_type": "code",
   "execution_count": 7,
   "id": "a1ae5fb8-9e8f-4eed-a824-ac7095d12e34",
   "metadata": {},
   "outputs": [],
   "source": [
    "full = Table().read_table(\"nc-est2019-agesex-res.csv\")"
   ]
  },
  {
   "cell_type": "code",
   "execution_count": 8,
   "id": "1301bab2-045d-4a77-929f-0a7a38a4dda4",
   "metadata": {},
   "outputs": [
    {
     "data": {
      "text/html": [
       "<table border=\"1\" class=\"dataframe\">\n",
       "    <thead>\n",
       "        <tr>\n",
       "            <th>SEX</th> <th>AGE</th> <th>CENSUS2010POP</th> <th>ESTIMATESBASE2010</th> <th>POPESTIMATE2010</th> <th>POPESTIMATE2011</th> <th>POPESTIMATE2012</th> <th>POPESTIMATE2013</th> <th>POPESTIMATE2014</th> <th>POPESTIMATE2015</th> <th>POPESTIMATE2016</th> <th>POPESTIMATE2017</th> <th>POPESTIMATE2018</th> <th>POPESTIMATE2019</th>\n",
       "        </tr>\n",
       "    </thead>\n",
       "    <tbody>\n",
       "        <tr>\n",
       "            <td>0   </td> <td>0   </td> <td>3944153      </td> <td>3944160          </td> <td>3951430        </td> <td>3963092        </td> <td>3926570        </td> <td>3931258        </td> <td>3954787        </td> <td>3983981        </td> <td>3954773        </td> <td>3893990        </td> <td>3815343        </td> <td>3783052        </td>\n",
       "        </tr>\n",
       "        <tr>\n",
       "            <td>0   </td> <td>1   </td> <td>3978070      </td> <td>3978090          </td> <td>3957730        </td> <td>3966225        </td> <td>3977549        </td> <td>3942698        </td> <td>3948891        </td> <td>3973133        </td> <td>4002903        </td> <td>3972711        </td> <td>3908830        </td> <td>3829599        </td>\n",
       "        </tr>\n",
       "        <tr>\n",
       "            <td>0   </td> <td>2   </td> <td>4096929      </td> <td>4096939          </td> <td>4090621        </td> <td>3970654        </td> <td>3978925        </td> <td>3991740        </td> <td>3958711        </td> <td>3966321        </td> <td>3991349        </td> <td>4020045        </td> <td>3987032        </td> <td>3922044        </td>\n",
       "        </tr>\n",
       "        <tr>\n",
       "            <td>0   </td> <td>3   </td> <td>4119040      </td> <td>4119051          </td> <td>4111688        </td> <td>4101644        </td> <td>3981531        </td> <td>3991017        </td> <td>4005928        </td> <td>3974351        </td> <td>3982984        </td> <td>4006946        </td> <td>4033038        </td> <td>3998665        </td>\n",
       "        </tr>\n",
       "        <tr>\n",
       "            <td>0   </td> <td>4   </td> <td>4063170      </td> <td>4063186          </td> <td>4077346        </td> <td>4121488        </td> <td>4111490        </td> <td>3992502        </td> <td>4004032        </td> <td>4020292        </td> <td>3989750        </td> <td>3997280        </td> <td>4018719        </td> <td>4043323        </td>\n",
       "        </tr>\n",
       "    </tbody>\n",
       "</table>\n",
       "<p>... (301 rows omitted)</p>"
      ],
      "text/plain": [
       "<IPython.core.display.HTML object>"
      ]
     },
     "metadata": {},
     "output_type": "display_data"
    }
   ],
   "source": [
    "full.show(5)"
   ]
  },
  {
   "cell_type": "code",
   "execution_count": 9,
   "id": "41ebb5de-064f-467c-ad30-e758e1224305",
   "metadata": {},
   "outputs": [
    {
     "data": {
      "text/plain": [
       "array([0, 1, 2])"
      ]
     },
     "execution_count": 9,
     "metadata": {},
     "output_type": "execute_result"
    }
   ],
   "source": [
    "np.unique(full[\"SEX\"])"
   ]
  },
  {
   "cell_type": "code",
   "execution_count": 13,
   "id": "71bb40af-847c-459a-83e5-cde0fbc4236b",
   "metadata": {},
   "outputs": [
    {
     "data": {
      "text/html": [
       "<table border=\"1\" class=\"dataframe\">\n",
       "    <thead>\n",
       "        <tr>\n",
       "            <th>SEX</th> <th>AGE</th> <th>POPESTIMATE2019</th>\n",
       "        </tr>\n",
       "    </thead>\n",
       "    <tbody>\n",
       "        <tr>\n",
       "            <td>0   </td> <td>0   </td> <td>3783052        </td>\n",
       "        </tr>\n",
       "        <tr>\n",
       "            <td>0   </td> <td>1   </td> <td>3829599        </td>\n",
       "        </tr>\n",
       "        <tr>\n",
       "            <td>0   </td> <td>2   </td> <td>3922044        </td>\n",
       "        </tr>\n",
       "        <tr>\n",
       "            <td>0   </td> <td>3   </td> <td>3998665        </td>\n",
       "        </tr>\n",
       "        <tr>\n",
       "            <td>0   </td> <td>4   </td> <td>4043323        </td>\n",
       "        </tr>\n",
       "        <tr>\n",
       "            <td>0   </td> <td>5   </td> <td>4028281        </td>\n",
       "        </tr>\n",
       "        <tr>\n",
       "            <td>0   </td> <td>6   </td> <td>4017227        </td>\n",
       "        </tr>\n",
       "        <tr>\n",
       "            <td>0   </td> <td>7   </td> <td>4022319        </td>\n",
       "        </tr>\n",
       "        <tr>\n",
       "            <td>0   </td> <td>8   </td> <td>4066194        </td>\n",
       "        </tr>\n",
       "        <tr>\n",
       "            <td>0   </td> <td>9   </td> <td>4061874        </td>\n",
       "        </tr>\n",
       "    </tbody>\n",
       "</table>\n",
       "<p>... (296 rows omitted)</p>"
      ],
      "text/plain": [
       "SEX  | AGE  | POPESTIMATE2019\n",
       "0    | 0    | 3783052\n",
       "0    | 1    | 3829599\n",
       "0    | 2    | 3922044\n",
       "0    | 3    | 3998665\n",
       "0    | 4    | 4043323\n",
       "0    | 5    | 4028281\n",
       "0    | 6    | 4017227\n",
       "0    | 7    | 4022319\n",
       "0    | 8    | 4066194\n",
       "0    | 9    | 4061874\n",
       "... (296 rows omitted)"
      ]
     },
     "execution_count": 13,
     "metadata": {},
     "output_type": "execute_result"
    }
   ],
   "source": [
    "census = full.select(\"SEX\",\"AGE\",\"POPESTIMATE2019\")\n",
    "census"
   ]
  },
  {
   "cell_type": "code",
   "execution_count": 16,
   "id": "a79fba5a-398d-4993-b8a4-9b40661e5ee2",
   "metadata": {},
   "outputs": [
    {
     "data": {
      "text/html": [
       "<table border=\"1\" class=\"dataframe\">\n",
       "    <thead>\n",
       "        <tr>\n",
       "            <th>SEX_CODES</th> <th>CODE DEFINITION</th>\n",
       "        </tr>\n",
       "    </thead>\n",
       "    <tbody>\n",
       "        <tr>\n",
       "            <td>0        </td> <td>ALL            </td>\n",
       "        </tr>\n",
       "        <tr>\n",
       "            <td>1        </td> <td>MALE           </td>\n",
       "        </tr>\n",
       "        <tr>\n",
       "            <td>2        </td> <td>FEMALE         </td>\n",
       "        </tr>\n",
       "    </tbody>\n",
       "</table>"
      ],
      "text/plain": [
       "SEX_CODES | CODE DEFINITION\n",
       "0         | ALL\n",
       "1         | MALE\n",
       "2         | FEMALE"
      ]
     },
     "execution_count": 16,
     "metadata": {},
     "output_type": "execute_result"
    }
   ],
   "source": [
    "sex_codes = Table().with_columns(\"SEX_CODES\", make_array(0,1,2), \"CODE DEFINITION\", make_array(\"ALL\", \"MALE\", \"FEMALE\"))\n",
    "sex_codes"
   ]
  },
  {
   "cell_type": "code",
   "execution_count": 19,
   "id": "16fb6272-15d4-4cdd-8b21-7e232c0d4bf0",
   "metadata": {},
   "outputs": [
    {
     "data": {
      "text/html": [
       "<table border=\"1\" class=\"dataframe\">\n",
       "    <thead>\n",
       "        <tr>\n",
       "            <th>SEX</th> <th>AGE</th> <th>POPESTIMATE2019</th> <th>CODE DEFINITION</th>\n",
       "        </tr>\n",
       "    </thead>\n",
       "    <tbody>\n",
       "        <tr>\n",
       "            <td>0   </td> <td>0   </td> <td>3783052        </td> <td>ALL            </td>\n",
       "        </tr>\n",
       "        <tr>\n",
       "            <td>0   </td> <td>1   </td> <td>3829599        </td> <td>ALL            </td>\n",
       "        </tr>\n",
       "        <tr>\n",
       "            <td>0   </td> <td>2   </td> <td>3922044        </td> <td>ALL            </td>\n",
       "        </tr>\n",
       "        <tr>\n",
       "            <td>0   </td> <td>3   </td> <td>3998665        </td> <td>ALL            </td>\n",
       "        </tr>\n",
       "        <tr>\n",
       "            <td>0   </td> <td>4   </td> <td>4043323        </td> <td>ALL            </td>\n",
       "        </tr>\n",
       "        <tr>\n",
       "            <td>0   </td> <td>5   </td> <td>4028281        </td> <td>ALL            </td>\n",
       "        </tr>\n",
       "        <tr>\n",
       "            <td>0   </td> <td>6   </td> <td>4017227        </td> <td>ALL            </td>\n",
       "        </tr>\n",
       "        <tr>\n",
       "            <td>0   </td> <td>7   </td> <td>4022319        </td> <td>ALL            </td>\n",
       "        </tr>\n",
       "        <tr>\n",
       "            <td>0   </td> <td>8   </td> <td>4066194        </td> <td>ALL            </td>\n",
       "        </tr>\n",
       "        <tr>\n",
       "            <td>0   </td> <td>9   </td> <td>4061874        </td> <td>ALL            </td>\n",
       "        </tr>\n",
       "    </tbody>\n",
       "</table>\n",
       "<p>... (296 rows omitted)</p>"
      ],
      "text/plain": [
       "SEX  | AGE  | POPESTIMATE2019 | CODE DEFINITION\n",
       "0    | 0    | 3783052         | ALL\n",
       "0    | 1    | 3829599         | ALL\n",
       "0    | 2    | 3922044         | ALL\n",
       "0    | 3    | 3998665         | ALL\n",
       "0    | 4    | 4043323         | ALL\n",
       "0    | 5    | 4028281         | ALL\n",
       "0    | 6    | 4017227         | ALL\n",
       "0    | 7    | 4022319         | ALL\n",
       "0    | 8    | 4066194         | ALL\n",
       "0    | 9    | 4061874         | ALL\n",
       "... (296 rows omitted)"
      ]
     },
     "execution_count": 19,
     "metadata": {},
     "output_type": "execute_result"
    }
   ],
   "source": [
    "Gender = census.join(\"SEX\", sex_codes, \"SEX_CODES\")\n",
    "Gender"
   ]
  },
  {
   "cell_type": "code",
   "execution_count": 22,
   "id": "1039759a-7182-424e-9bd8-0d6d855474a2",
   "metadata": {},
   "outputs": [
    {
     "data": {
      "text/html": [
       "<table border=\"1\" class=\"dataframe\">\n",
       "    <thead>\n",
       "        <tr>\n",
       "            <th>SEX</th> <th>AGE</th> <th>POPESTIMATE2019</th> <th>CODE DEFINITION</th>\n",
       "        </tr>\n",
       "    </thead>\n",
       "    <tbody>\n",
       "        <tr>\n",
       "            <td>1   </td> <td>0   </td> <td>1935117        </td> <td>MALE           </td>\n",
       "        </tr>\n",
       "        <tr>\n",
       "            <td>1   </td> <td>1   </td> <td>1958585        </td> <td>MALE           </td>\n",
       "        </tr>\n",
       "        <tr>\n",
       "            <td>1   </td> <td>2   </td> <td>2005544        </td> <td>MALE           </td>\n",
       "        </tr>\n",
       "        <tr>\n",
       "            <td>1   </td> <td>3   </td> <td>2043010        </td> <td>MALE           </td>\n",
       "        </tr>\n",
       "        <tr>\n",
       "            <td>1   </td> <td>4   </td> <td>2066951        </td> <td>MALE           </td>\n",
       "        </tr>\n",
       "        <tr>\n",
       "            <td>1   </td> <td>5   </td> <td>2061200        </td> <td>MALE           </td>\n",
       "        </tr>\n",
       "        <tr>\n",
       "            <td>1   </td> <td>6   </td> <td>2052956        </td> <td>MALE           </td>\n",
       "        </tr>\n",
       "        <tr>\n",
       "            <td>1   </td> <td>7   </td> <td>2055735        </td> <td>MALE           </td>\n",
       "        </tr>\n",
       "        <tr>\n",
       "            <td>1   </td> <td>8   </td> <td>2079723        </td> <td>MALE           </td>\n",
       "        </tr>\n",
       "        <tr>\n",
       "            <td>1   </td> <td>9   </td> <td>2073148        </td> <td>MALE           </td>\n",
       "        </tr>\n",
       "    </tbody>\n",
       "</table>\n",
       "<p>... (92 rows omitted)</p>"
      ],
      "text/plain": [
       "<IPython.core.display.HTML object>"
      ]
     },
     "metadata": {},
     "output_type": "display_data"
    },
    {
     "data": {
      "text/html": [
       "<table border=\"1\" class=\"dataframe\">\n",
       "    <thead>\n",
       "        <tr>\n",
       "            <th>SEX</th> <th>AGE</th> <th>POPESTIMATE2019</th> <th>CODE DEFINITION</th>\n",
       "        </tr>\n",
       "    </thead>\n",
       "    <tbody>\n",
       "        <tr>\n",
       "            <td>2   </td> <td>0   </td> <td>1847935        </td> <td>FEMALE         </td>\n",
       "        </tr>\n",
       "        <tr>\n",
       "            <td>2   </td> <td>1   </td> <td>1871014        </td> <td>FEMALE         </td>\n",
       "        </tr>\n",
       "        <tr>\n",
       "            <td>2   </td> <td>2   </td> <td>1916500        </td> <td>FEMALE         </td>\n",
       "        </tr>\n",
       "        <tr>\n",
       "            <td>2   </td> <td>3   </td> <td>1955655        </td> <td>FEMALE         </td>\n",
       "        </tr>\n",
       "        <tr>\n",
       "            <td>2   </td> <td>4   </td> <td>1976372        </td> <td>FEMALE         </td>\n",
       "        </tr>\n",
       "        <tr>\n",
       "            <td>2   </td> <td>5   </td> <td>1967081        </td> <td>FEMALE         </td>\n",
       "        </tr>\n",
       "        <tr>\n",
       "            <td>2   </td> <td>6   </td> <td>1964271        </td> <td>FEMALE         </td>\n",
       "        </tr>\n",
       "        <tr>\n",
       "            <td>2   </td> <td>7   </td> <td>1966584        </td> <td>FEMALE         </td>\n",
       "        </tr>\n",
       "        <tr>\n",
       "            <td>2   </td> <td>8   </td> <td>1986471        </td> <td>FEMALE         </td>\n",
       "        </tr>\n",
       "        <tr>\n",
       "            <td>2   </td> <td>9   </td> <td>1988726        </td> <td>FEMALE         </td>\n",
       "        </tr>\n",
       "    </tbody>\n",
       "</table>\n",
       "<p>... (92 rows omitted)</p>"
      ],
      "text/plain": [
       "<IPython.core.display.HTML object>"
      ]
     },
     "metadata": {},
     "output_type": "display_data"
    }
   ],
   "source": [
    "Gender.where(\"CODE DEFINITION\", \"MALE\").show(10)\n",
    "Gender.where(\"CODE DEFINITION\", \"FEMALE\").show(10)\n"
   ]
  },
  {
   "cell_type": "code",
   "execution_count": null,
   "id": "61891679-6792-43c5-9e0d-ed3ca86e70af",
   "metadata": {},
   "outputs": [],
   "source": []
  }
 ],
 "metadata": {
  "kernelspec": {
   "display_name": "Python 3 (ipykernel)",
   "language": "python",
   "name": "python3"
  },
  "language_info": {
   "codemirror_mode": {
    "name": "ipython",
    "version": 3
   },
   "file_extension": ".py",
   "mimetype": "text/x-python",
   "name": "python",
   "nbconvert_exporter": "python",
   "pygments_lexer": "ipython3",
   "version": "3.11.8"
  }
 },
 "nbformat": 4,
 "nbformat_minor": 5
}
