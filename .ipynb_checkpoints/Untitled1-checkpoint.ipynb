{
 "cells": [
  {
   "cell_type": "code",
   "execution_count": 1,
   "id": "7d999288-e1c2-4ec5-9493-1eaaa838cae5",
   "metadata": {},
   "outputs": [],
   "source": [
    "from datascience import *\n",
    "import numpy as np\n",
    "%matplotlib inline\n",
    "import matplotlib.pyplot as plt\n",
    "plt.style.use(\"fivethirtyeight\")\n",
    "import warnings\n",
    "warnings.simplefilter(action = \"ignore\", category = np.VisibleDeprecationWarning)"
   ]
  },
  {
   "cell_type": "code",
   "execution_count": 3,
   "id": "44a22234-63bf-4749-9625-412f10587b2f",
   "metadata": {},
   "outputs": [
    {
     "data": {
      "text/html": [
       "<table border=\"1\" class=\"dataframe\">\n",
       "    <thead>\n",
       "        <tr>\n",
       "            <th>Date</th> <th>Flight Number</th> <th>Destination</th> <th>Delay</th>\n",
       "        </tr>\n",
       "    </thead>\n",
       "    <tbody>\n",
       "        <tr>\n",
       "            <td>6/1/15</td> <td>73           </td> <td>HNL        </td> <td>257  </td>\n",
       "        </tr>\n",
       "        <tr>\n",
       "            <td>6/1/15</td> <td>217          </td> <td>EWR        </td> <td>28   </td>\n",
       "        </tr>\n",
       "        <tr>\n",
       "            <td>6/1/15</td> <td>237          </td> <td>STL        </td> <td>-3   </td>\n",
       "        </tr>\n",
       "        <tr>\n",
       "            <td>6/1/15</td> <td>250          </td> <td>SAN        </td> <td>0    </td>\n",
       "        </tr>\n",
       "        <tr>\n",
       "            <td>6/1/15</td> <td>267          </td> <td>PHL        </td> <td>64   </td>\n",
       "        </tr>\n",
       "        <tr>\n",
       "            <td>6/1/15</td> <td>273          </td> <td>SEA        </td> <td>-6   </td>\n",
       "        </tr>\n",
       "        <tr>\n",
       "            <td>6/1/15</td> <td>278          </td> <td>SEA        </td> <td>-8   </td>\n",
       "        </tr>\n",
       "        <tr>\n",
       "            <td>6/1/15</td> <td>292          </td> <td>EWR        </td> <td>12   </td>\n",
       "        </tr>\n",
       "        <tr>\n",
       "            <td>6/1/15</td> <td>300          </td> <td>HNL        </td> <td>20   </td>\n",
       "        </tr>\n",
       "        <tr>\n",
       "            <td>6/1/15</td> <td>317          </td> <td>IND        </td> <td>-10  </td>\n",
       "        </tr>\n",
       "    </tbody>\n",
       "</table>\n",
       "<p>... (13815 rows omitted)</p>"
      ],
      "text/plain": [
       "Date   | Flight Number | Destination | Delay\n",
       "6/1/15 | 73            | HNL         | 257\n",
       "6/1/15 | 217           | EWR         | 28\n",
       "6/1/15 | 237           | STL         | -3\n",
       "6/1/15 | 250           | SAN         | 0\n",
       "6/1/15 | 267           | PHL         | 64\n",
       "6/1/15 | 273           | SEA         | -6\n",
       "6/1/15 | 278           | SEA         | -8\n",
       "6/1/15 | 292           | EWR         | 12\n",
       "6/1/15 | 300           | HNL         | 20\n",
       "6/1/15 | 317           | IND         | -10\n",
       "... (13815 rows omitted)"
      ]
     },
     "execution_count": 3,
     "metadata": {},
     "output_type": "execute_result"
    }
   ],
   "source": [
    "united = Table().read_table(\".csv/united.csv\")\n",
    "united"
   ]
  },
  {
   "cell_type": "code",
   "execution_count": 8,
   "id": "45c6bc13-b54b-4e51-90c0-44df17d2899f",
   "metadata": {},
   "outputs": [
    {
     "data": {
      "text/plain": [
       "2.0"
      ]
     },
     "execution_count": 8,
     "metadata": {},
     "output_type": "execute_result"
    }
   ],
   "source": [
    "np.median(united.column(\"Delay\"))"
   ]
  },
  {
   "cell_type": "code",
   "execution_count": 11,
   "id": "0aec17c7-507d-4705-8b14-baad7a035e03",
   "metadata": {},
   "outputs": [
    {
     "data": {
      "text/plain": [
       "18.0"
      ]
     },
     "execution_count": 11,
     "metadata": {},
     "output_type": "execute_result"
    }
   ],
   "source": [
    "#.sample gives random numbers from table\n",
    "np.median(united.sample(10).column(\"Delay\"))"
   ]
  },
  {
   "cell_type": "code",
   "execution_count": 10,
   "id": "6adc528f-b1bd-40d4-b4cc-9ce26a9a17b7",
   "metadata": {},
   "outputs": [
    {
     "data": {
      "text/plain": [
       "1.5"
      ]
     },
     "execution_count": 10,
     "metadata": {},
     "output_type": "execute_result"
    }
   ],
   "source": [
    "np.median(united.sample(100).column(\"Delay\"))"
   ]
  },
  {
   "cell_type": "code",
   "execution_count": 12,
   "id": "c4a63f2c-8122-4904-89d9-eed452358ad5",
   "metadata": {},
   "outputs": [
    {
     "data": {
      "text/plain": [
       "3.0"
      ]
     },
     "execution_count": 12,
     "metadata": {},
     "output_type": "execute_result"
    }
   ],
   "source": [
    "np.median(united.sample(100).column(\"Delay\"))"
   ]
  },
  {
   "cell_type": "code",
   "execution_count": 13,
   "id": "688577bd-8203-4c04-9103-7971355b6d7c",
   "metadata": {},
   "outputs": [],
   "source": [
    "def sample_median(a):\n",
    "    return np.median(united.sample(a).column(\"Delay\"))"
   ]
  },
  {
   "cell_type": "code",
   "execution_count": 14,
   "id": "e0a3c7cb-e428-4f66-bd75-ceb979847891",
   "metadata": {},
   "outputs": [
    {
     "data": {
      "text/plain": [
       "5.0"
      ]
     },
     "execution_count": 14,
     "metadata": {},
     "output_type": "execute_result"
    }
   ],
   "source": [
    "sample_median(50)"
   ]
  },
  {
   "cell_type": "code",
   "execution_count": 32,
   "id": "dc707cba-5319-4d6d-81c0-6402ff9b676d",
   "metadata": {},
   "outputs": [],
   "source": [
    "num_simulation = 2000\n",
    "sample_medians = make_array()\n",
    "for i in np.arange(num_simulation):\n",
    "    new_median = sample_median(10)\n",
    "    sample_medians = np.append(sample_medians, new_median)\n",
    "sample_medians"
   ]
  },
  {
   "cell_type": "code",
   "execution_count": 24,
   "id": "d3be6b5a-1f3a-4ca8-b914-ba07ee520042",
   "metadata": {},
   "outputs": [
    {
     "data": {
      "text/html": [
       "<table border=\"1\" class=\"dataframe\">\n",
       "    <thead>\n",
       "        <tr>\n",
       "            <th>Sample Medians</th>\n",
       "        </tr>\n",
       "    </thead>\n",
       "    <tbody>\n",
       "        <tr>\n",
       "            <td>-1            </td>\n",
       "        </tr>\n",
       "        <tr>\n",
       "            <td>0.5           </td>\n",
       "        </tr>\n",
       "        <tr>\n",
       "            <td>6.5           </td>\n",
       "        </tr>\n",
       "        <tr>\n",
       "            <td>15.5          </td>\n",
       "        </tr>\n",
       "        <tr>\n",
       "            <td>-2.5          </td>\n",
       "        </tr>\n",
       "        <tr>\n",
       "            <td>-0.5          </td>\n",
       "        </tr>\n",
       "        <tr>\n",
       "            <td>6             </td>\n",
       "        </tr>\n",
       "        <tr>\n",
       "            <td>1.5           </td>\n",
       "        </tr>\n",
       "        <tr>\n",
       "            <td>12.5          </td>\n",
       "        </tr>\n",
       "        <tr>\n",
       "            <td>3             </td>\n",
       "        </tr>\n",
       "    </tbody>\n",
       "</table>\n",
       "<p>... (1990 rows omitted)</p>"
      ],
      "text/plain": [
       "Sample Medians\n",
       "-1\n",
       "0.5\n",
       "6.5\n",
       "15.5\n",
       "-2.5\n",
       "-0.5\n",
       "6\n",
       "1.5\n",
       "12.5\n",
       "3\n",
       "... (1990 rows omitted)"
      ]
     },
     "execution_count": 24,
     "metadata": {},
     "output_type": "execute_result"
    }
   ],
   "source": [
    "Table().with_column(\"Sample Medians\", sample_medians)"
   ]
  },
  {
   "cell_type": "code",
   "execution_count": 25,
   "id": "8149d63f-8404-420e-a5f3-0745f5596d34",
   "metadata": {},
   "outputs": [
    {
     "data": {
      "image/png": "[encoded data removed]",
      "text/plain": [
       "<Figure size 600x400 with 1 Axes>"
      ]
     },
     "metadata": {},
     "output_type": "display_data"
    }
   ],
   "source": [
    "Table().with_column(\"Sample Medians\", sample_medians).hist(bins=np.arange(-10,31))"
   ]
  },
  {
   "cell_type": "code",
   "execution_count": 39,
   "id": "ef606d4f-8de1-4a33-87b1-5a91d10b087b",
   "metadata": {},
   "outputs": [
    {
     "name": "stdout",
     "output_type": "stream",
     "text": [
      "[-3.  -1.   1.  ..., -1.5 -0.5  1.5]\n",
      "[-3.  -1.   1.  ..., -1.5 -0.5  2. ]\n",
      "[-3.  -1.   1.  ..., -1.5 -0.5  2. ]\n"
     ]
    }
   ],
   "source": [
    "sample_medians_10 =make_array()\n",
    "sample_medians_100 =make_array()\n",
    "sample_medians_1000 =make_array()\n",
    "for i in np.arange(num_simulation):\n",
    "    new_median = sample_median(10)\n",
    "    sample_medians_10 = np.append(sample_medians, new_median)\n",
    "for i in np.arange(num_simulation):\n",
    "    new_median = sample_median(100)\n",
    "    sample_medians_100 = np.append(sample_medians, new_median)\n",
    "for i in np.arange(num_simulation):\n",
    "    new_median = sample_median(1000)\n",
    "    sample_medians_1000 = np.append(sample_medians, new_median)\n",
    "print(sample_medians_10)\n",
    "print(sample_medians_100)\n",
    "print(sample_medians_1000)"
   ]
  },
  {
   "cell_type": "code",
   "execution_count": 40,
   "id": "0b502256-057b-4605-a1cc-179a109679fa",
   "metadata": {},
   "outputs": [],
   "source": [
    "s_m = Table().with_columns(\"Size_10\", sample_medians_10, \"Size_100\", sample_medians_100, \"Size_1000\", sample_medians_1000)"
   ]
  },
  {
   "cell_type": "code",
   "execution_count": 42,
   "id": "a8f3ef64-4879-4729-aa3f-1e4e99115cbe",
   "metadata": {},
   "outputs": [
    {
     "data": {
      "text/html": [
       "<table border=\"1\" class=\"dataframe\">\n",
       "    <thead>\n",
       "        <tr>\n",
       "            <th>Size_10</th> <th>Size_100</th> <th>Size_1000</th>\n",
       "        </tr>\n",
       "    </thead>\n",
       "    <tbody>\n",
       "        <tr>\n",
       "            <td>-3     </td> <td>-3      </td> <td>-3       </td>\n",
       "        </tr>\n",
       "        <tr>\n",
       "            <td>-1     </td> <td>-1      </td> <td>-1       </td>\n",
       "        </tr>\n",
       "        <tr>\n",
       "            <td>1      </td> <td>1       </td> <td>1        </td>\n",
       "        </tr>\n",
       "        <tr>\n",
       "            <td>1.5    </td> <td>1.5     </td> <td>1.5      </td>\n",
       "        </tr>\n",
       "        <tr>\n",
       "            <td>-4.5   </td> <td>-4.5    </td> <td>-4.5     </td>\n",
       "        </tr>\n",
       "        <tr>\n",
       "            <td>28     </td> <td>28      </td> <td>28       </td>\n",
       "        </tr>\n",
       "        <tr>\n",
       "            <td>4      </td> <td>4       </td> <td>4        </td>\n",
       "        </tr>\n",
       "        <tr>\n",
       "            <td>7.5    </td> <td>7.5     </td> <td>7.5      </td>\n",
       "        </tr>\n",
       "        <tr>\n",
       "            <td>5      </td> <td>5       </td> <td>5        </td>\n",
       "        </tr>\n",
       "        <tr>\n",
       "            <td>3      </td> <td>3       </td> <td>3        </td>\n",
       "        </tr>\n",
       "    </tbody>\n",
       "</table>\n",
       "<p>... (1991 rows omitted)</p>"
      ],
      "text/plain": [
       "Size_10 | Size_100 | Size_1000\n",
       "-3      | -3       | -3\n",
       "-1      | -1       | -1\n",
       "1       | 1        | 1\n",
       "1.5     | 1.5      | 1.5\n",
       "-4.5    | -4.5     | -4.5\n",
       "28      | 28       | 28\n",
       "4       | 4        | 4\n",
       "7.5     | 7.5      | 7.5\n",
       "5       | 5        | 5\n",
       "3       | 3        | 3\n",
       "... (1991 rows omitted)"
      ]
     },
     "execution_count": 42,
     "metadata": {},
     "output_type": "execute_result"
    }
   ],
   "source": [
    "s_m"
   ]
  },
  {
   "cell_type": "code",
   "execution_count": 44,
   "id": "ab2686b6-0ced-4bb6-90f1-9d56349af7a8",
   "metadata": {},
   "outputs": [
    {
     "data": {
      "image/png": "[encoded data removed]",
      "text/plain": [
       "<Figure size 600x400 with 1 Axes>"
      ]
     },
     "metadata": {},
     "output_type": "display_data"
    }
   ],
   "source": [
    "s_m.hist(bins=np.arange(-5,30))"
   ]
  },
  {
   "cell_type": "code",
   "execution_count": null,
   "id": "e443e5db-a364-4237-ace5-c0e483744bd2",
   "metadata": {},
   "outputs": [],
   "source": []
  }
 ],
 "metadata": {
  "kernelspec": {
   "display_name": "Python 3 (ipykernel)",
   "language": "python",
   "name": "python3"
  },
  "language_info": {
   "codemirror_mode": {
    "name": "ipython",
    "version": 3
   },
   "file_extension": ".py",
   "mimetype": "text/x-python",
   "name": "python",
   "nbconvert_exporter": "python",
   "pygments_lexer": "ipython3",
   "version": "3.11.9"
  }
 },
 "nbformat": 4,
 "nbformat_minor": 5
}
