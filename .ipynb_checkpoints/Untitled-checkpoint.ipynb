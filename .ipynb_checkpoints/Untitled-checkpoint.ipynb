{
 "cells": [
  {
   "cell_type": "code",
   "execution_count": 1,
   "id": "37aa5377-ee4a-4625-911f-5a1cf05c0404",
   "metadata": {},
   "outputs": [],
   "source": [
    "%matplotlib inline\n",
    "import numpy as np\n",
    "from datascience import *\n",
    "import matplotlib.pyplot as plots"
   ]
  },
  {
   "cell_type": "code",
   "execution_count": 2,
   "id": "4a2dcd12-caff-47f0-9efc-2c4fd060d3f9",
   "metadata": {},
   "outputs": [],
   "source": [
    "incomes = Table.read_table(\".csv/2022_female_actors.csv\")"
   ]
  },
  {
   "cell_type": "code",
   "execution_count": 3,
   "id": "40c2e958-2c37-46e1-9b03-d73afd20725c",
   "metadata": {},
   "outputs": [
    {
     "data": {
      "text/html": [
       "<table border=\"1\" class=\"dataframe\">\n",
       "    <thead>\n",
       "        <tr>\n",
       "            <th>Name</th> <th>Income (millions)</th>\n",
       "        </tr>\n",
       "    </thead>\n",
       "    <tbody>\n",
       "        <tr>\n",
       "            <td>Scarlett Johansson</td> <td>56               </td>\n",
       "        </tr>\n",
       "        <tr>\n",
       "            <td>Sofia Vergara     </td> <td>43               </td>\n",
       "        </tr>\n",
       "        <tr>\n",
       "            <td>Angelina Jolie    </td> <td>35.5             </td>\n",
       "        </tr>\n",
       "        <tr>\n",
       "            <td>Reese Witherspoon </td> <td>35               </td>\n",
       "        </tr>\n",
       "        <tr>\n",
       "            <td>Gal Gadot         </td> <td>31.5             </td>\n",
       "        </tr>\n",
       "        <tr>\n",
       "            <td>Julia Roberts     </td> <td>30               </td>\n",
       "        </tr>\n",
       "        <tr>\n",
       "            <td>Jennifer Lawrence </td> <td>28               </td>\n",
       "        </tr>\n",
       "        <tr>\n",
       "            <td>Jennifer Aniston  </td> <td>28               </td>\n",
       "        </tr>\n",
       "        <tr>\n",
       "            <td>Melissa McCarthy  </td> <td>25               </td>\n",
       "        </tr>\n",
       "        <tr>\n",
       "            <td>Kaley Cuoco       </td> <td>25               </td>\n",
       "        </tr>\n",
       "        <tr>\n",
       "            <td>Meryl Streep      </td> <td>24               </td>\n",
       "        </tr>\n",
       "        <tr>\n",
       "            <td>Margot Robbie     </td> <td>23.5             </td>\n",
       "        </tr>\n",
       "        <tr>\n",
       "            <td>Charlize Theron   </td> <td>23               </td>\n",
       "        </tr>\n",
       "        <tr>\n",
       "            <td>Emily Blunt       </td> <td>22.5             </td>\n",
       "        </tr>\n",
       "        <tr>\n",
       "            <td>Nicole Kidman     </td> <td>22               </td>\n",
       "        </tr>\n",
       "        <tr>\n",
       "            <td>Ellen Pompeo      </td> <td>19               </td>\n",
       "        </tr>\n",
       "        <tr>\n",
       "            <td>Mila Kunis        </td> <td>16               </td>\n",
       "        </tr>\n",
       "        <tr>\n",
       "            <td>Elizabeth Moss    </td> <td>16               </td>\n",
       "        </tr>\n",
       "        <tr>\n",
       "            <td>Viola Davis       </td> <td>15.5             </td>\n",
       "        </tr>\n",
       "        <tr>\n",
       "            <td>Cate Blanchett    </td> <td>12.5             </td>\n",
       "        </tr>\n",
       "    </tbody>\n",
       "</table>"
      ],
      "text/plain": [
       "<IPython.core.display.HTML object>"
      ]
     },
     "metadata": {},
     "output_type": "display_data"
    }
   ],
   "source": [
    "incomes.show()"
   ]
  },
  {
   "cell_type": "code",
   "execution_count": 4,
   "id": "a856bbc9-5387-4e8a-bdec-cf8512a8fd1e",
   "metadata": {},
   "outputs": [
    {
     "data": {
      "text/plain": [
       "20"
      ]
     },
     "execution_count": 4,
     "metadata": {},
     "output_type": "execute_result"
    }
   ],
   "source": [
    "incomes.num_rows"
   ]
  },
  {
   "cell_type": "code",
   "execution_count": 5,
   "id": "97ad0b31-ddeb-45c4-ba2f-fc2d986a0ca4",
   "metadata": {},
   "outputs": [],
   "source": [
    "mybin = make_array(0,25,30,60)"
   ]
  },
  {
   "cell_type": "code",
   "execution_count": 6,
   "id": "1e4b9452-618f-4d8d-8ef6-038473764162",
   "metadata": {},
   "outputs": [],
   "source": [
    "incomes.hist(\"Income (millions)\",bins=mybin)"
   ]
  },
  {
   "cell_type": "code",
   "execution_count": 7,
   "id": "dbb48a77-b791-414f-b376-e8bbad71605d",
   "metadata": {},
   "outputs": [],
   "source": [
    "\n",
    "incomes.hist(\"Income (millions)\",bins = mybin)"
   ]
  },
  {
   "cell_type": "code",
   "execution_count": 8,
   "id": "a39ecb81-cbbe-4f59-9a63-b2cea35ef13d",
   "metadata": {},
   "outputs": [
    {
     "name": "stdout",
     "output_type": "stream",
     "text": [
      "Minimum income: 12.5\n"
     ]
    }
   ],
   "source": [
    "print(\"Minimum income: \" + str((min(incomes.column(1)))))"
   ]
  },
  {
   "cell_type": "code",
   "execution_count": 9,
   "id": "30bc48e7-63b9-4bb3-8c41-86b1d5a35440",
   "metadata": {},
   "outputs": [],
   "source": [
    "mybin = make_array(min(incomes.column(1)),25,30,60)"
   ]
  },
  {
   "cell_type": "code",
   "execution_count": 10,
   "id": "51465675-ee6c-49a4-a031-95da243caa6f",
   "metadata": {},
   "outputs": [],
   "source": [
    "incomes.hist(\"Income (millions)\",bins = mybin)"
   ]
  },
  {
   "cell_type": "code",
   "execution_count": 11,
   "id": "e008561f-3a2c-4465-a0d4-41fa207d9942",
   "metadata": {},
   "outputs": [],
   "source": [
    "incomes.hist(\"Income (millions)\",bins = 10)"
   ]
  },
  {
   "cell_type": "code",
   "execution_count": 12,
   "id": "e73296e7-0996-4513-b7a0-59285d82b6c8",
   "metadata": {},
   "outputs": [],
   "source": [
    "def add(x,y):\n",
    "    return x+y\n",
    "def sub(x,y):\n",
    "    return x-y\n",
    "def multiplication(x,y):\n",
    "    return x*y\n",
    "def division(x,y):\n",
    "    return x/y\n",
    "def modivison (x,y):\n",
    "    return x % y == 2\n",
    "def integerdivision(x,y):\n",
    "    return x//y"
   ]
  },
  {
   "cell_type": "code",
   "execution_count": 17,
   "id": "d86cc35c-af42-490f-81b8-e435c50a2736",
   "metadata": {},
   "outputs": [
    {
     "name": "stdin",
     "output_type": "stream",
     "text": [
      "Enter number1:  2\n",
      "Enter number2:  3\n",
      "Operation Type: Add(1), Subtract(2), multiplication(3), division(4), mod division(5), integer divsion(6) 2\n"
     ]
    },
    {
     "name": "stdout",
     "output_type": "stream",
     "text": [
      "Result: 2 - 3 = -1\n"
     ]
    },
    {
     "name": "stdin",
     "output_type": "stream",
     "text": [
      "Do you want to continue(Yes or No)? Yes\n",
      "Enter number1:  3\n",
      "Enter number2:  2\n",
      "Operation Type: Add(1), Subtract(2), multiplication(3), division(4), mod division(5), integer divsion(6) 3\n"
     ]
    },
    {
     "name": "stdout",
     "output_type": "stream",
     "text": [
      "Result: 3 * 2 = 6\n"
     ]
    },
    {
     "name": "stdin",
     "output_type": "stream",
     "text": [
      "Do you want to continue(Yes or No)? No\n"
     ]
    }
   ],
   "source": [
    "def math():\n",
    "    num1 = int(input(\"Enter number1: \"))\n",
    "    num2 = int(input(\"Enter number2: \"))\n",
    "    \n",
    "    choice = int(input(\"Operation Type: Add(1), Subtract(2), multiplication(3), division(4), mod division(5), integer divsion(6)\"))\n",
    "    if choice == 1:\n",
    "        print(f\"Result: {num1} + {num2} = \" + str(add(num1, num2)))\n",
    "    elif choice == 2:\n",
    "        print(f\"Result: {num1} - {num2} = \" + str(sub(num1, num2)))\n",
    "    elif choice == 3:\n",
    "        print(f\"Result: {num1} * {num2} = \" + str(multiplication(num1, num2)))\n",
    "    elif choice == 4:\n",
    "        print(f\"Result: {num1} / {num2} = \" + str(division(num1, num2)))\n",
    "    elif choice == 5:\n",
    "        print(f\"Result: {num1} % {num2} = \" + str(modivison(num1, num2)))\n",
    "    elif choice == 6:\n",
    "        print(f\"Result: {num1} // {num2} = \" + str(integerdivision(num1, num2)))\n",
    "    else:\n",
    "        print(\"Invalid choice\") \n",
    "        math()\n",
    "    cont = input(\"Do you want to continue(Yes or No)?\")\n",
    "    def contu(conts):\n",
    "        if (conts == \"Yes\"):\n",
    "            math()\n",
    "        elif (conts == \"No\"):\n",
    "            return\n",
    "        else:\n",
    "            cont = input(\"Do you want to continue(Yes or No)?\")\n",
    "            contu(cont)\n",
    "    contu(cont)\n",
    "    \n",
    "math()\n",
    "\n",
    "            \n",
    "    \n",
    "    \n",
    "\n",
    "\n"
   ]
  },
  {
   "cell_type": "code",
   "execution_count": 22,
   "id": "4e21d95f-e7f2-4d7a-b30e-6547db775082",
   "metadata": {},
   "outputs": [],
   "source": [
    "ages = Table().with_columns(\"Person\", make_array(\"Geo\", \"Pam\", \"Anthony\", \"Creed\"),\"Birth Year\",  make_array(1985, 1988, 1967, 1904))"
   ]
  },
  {
   "cell_type": "code",
   "execution_count": 23,
   "id": "e06f4f80-1ba9-49af-97ed-b60fe94c095b",
   "metadata": {},
   "outputs": [
    {
     "data": {
      "text/html": [
       "<table border=\"1\" class=\"dataframe\">\n",
       "    <thead>\n",
       "        <tr>\n",
       "            <th>Person</th> <th>Birth Year</th>\n",
       "        </tr>\n",
       "    </thead>\n",
       "    <tbody>\n",
       "        <tr>\n",
       "            <td>Geo    </td> <td>1985      </td>\n",
       "        </tr>\n",
       "        <tr>\n",
       "            <td>Pam    </td> <td>1988      </td>\n",
       "        </tr>\n",
       "        <tr>\n",
       "            <td>Anthony</td> <td>1967      </td>\n",
       "        </tr>\n",
       "        <tr>\n",
       "            <td>Creed  </td> <td>1904      </td>\n",
       "        </tr>\n",
       "    </tbody>\n",
       "</table>"
      ],
      "text/plain": [
       "Person  | Birth Year\n",
       "Geo     | 1985\n",
       "Pam     | 1988\n",
       "Anthony | 1967\n",
       "Creed   | 1904"
      ]
     },
     "execution_count": 23,
     "metadata": {},
     "output_type": "execute_result"
    }
   ],
   "source": [
    "ages \n"
   ]
  },
  {
   "cell_type": "code",
   "execution_count": 29,
   "id": "2a295b5f-4290-458e-adbf-8e59035e922c",
   "metadata": {},
   "outputs": [
    {
     "data": {
      "text/plain": [
       "'Bob is 112 years old'"
      ]
     },
     "execution_count": 29,
     "metadata": {},
     "output_type": "execute_result"
    }
   ],
   "source": [
    "def age(m):\n",
    "    return 2024 - m\n",
    "def name_age(name, year):\n",
    "    return name + \" is \" + str(age(year)) + \" years old\"\n",
    "name_age(\"Bob\", 1912)"
   ]
  },
  {
   "cell_type": "code",
   "execution_count": 25,
   "id": "6359a543-9205-4f9d-b4f4-1f369b606457",
   "metadata": {},
   "outputs": [
    {
     "data": {
      "text/plain": [
       "array([ 39,  36,  57, 120], dtype=int64)"
      ]
     },
     "execution_count": 25,
     "metadata": {},
     "output_type": "execute_result"
    }
   ],
   "source": [
    "ages.apply(name_age, \"Birth Year\")"
   ]
  },
  {
   "cell_type": "code",
   "execution_count": 31,
   "id": "a701579c-8c2e-46e0-b1a6-2d5d7f2da117",
   "metadata": {},
   "outputs": [],
   "source": [
    "new_table = ages.with_column(\"Age\", ages.apply(age, \"Birth Year\"))"
   ]
  },
  {
   "cell_type": "code",
   "execution_count": 32,
   "id": "c34c469d-67b5-4b87-b4b7-c9d99059f1b6",
   "metadata": {},
   "outputs": [
    {
     "data": {
      "text/html": [
       "<table border=\"1\" class=\"dataframe\">\n",
       "    <thead>\n",
       "        <tr>\n",
       "            <th>Person</th> <th>Birth Year</th> <th>Age</th>\n",
       "        </tr>\n",
       "    </thead>\n",
       "    <tbody>\n",
       "        <tr>\n",
       "            <td>Geo    </td> <td>1985      </td> <td>39  </td>\n",
       "        </tr>\n",
       "        <tr>\n",
       "            <td>Pam    </td> <td>1988      </td> <td>36  </td>\n",
       "        </tr>\n",
       "        <tr>\n",
       "            <td>Anthony</td> <td>1967      </td> <td>57  </td>\n",
       "        </tr>\n",
       "        <tr>\n",
       "            <td>Creed  </td> <td>1904      </td> <td>120 </td>\n",
       "        </tr>\n",
       "    </tbody>\n",
       "</table>"
      ],
      "text/plain": [
       "Person  | Birth Year | Age\n",
       "Geo     | 1985       | 39\n",
       "Pam     | 1988       | 36\n",
       "Anthony | 1967       | 57\n",
       "Creed   | 1904       | 120"
      ]
     },
     "execution_count": 32,
     "metadata": {},
     "output_type": "execute_result"
    }
   ],
   "source": [
    "new_table"
   ]
  },
  {
   "cell_type": "code",
   "execution_count": null,
   "id": "10399fa2-5551-4550-8bec-dc78e08130f9",
   "metadata": {},
   "outputs": [],
   "source": []
  }
 ],
 "metadata": {
  "kernelspec": {
   "display_name": "Python 3 (ipykernel)",
   "language": "python",
   "name": "python3"
  },
  "language_info": {
   "codemirror_mode": {
    "name": "ipython",
    "version": 3
   },
   "file_extension": ".py",
   "mimetype": "text/x-python",
   "name": "python",
   "nbconvert_exporter": "python",
   "pygments_lexer": "ipython3",
   "version": "3.11.8"
  }
 },
 "nbformat": 4,
 "nbformat_minor": 5
}
