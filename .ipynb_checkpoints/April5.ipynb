{
 "cells": [
  {
   "cell_type": "code",
   "execution_count": 50,
   "id": "7d999288-e1c2-4ec5-9493-1eaaa838cae5",
   "metadata": {},
   "outputs": [],
   "source": [
    "from datascience import *\n",
    "import numpy as np\n",
    "%matplotlib inline\n",
    "import matplotlib.pyplot as plots\n",
    "plt.style.use(\"fivethirtyeight\")\n",
    "import warnings\n",
    "warnings.simplefilter(action = \"ignore\", category = np.VisibleDeprecationWarning)"
   ]
  },
  {
   "cell_type": "code",
   "execution_count": 51,
   "id": "44a22234-63bf-4749-9625-412f10587b2f",
   "metadata": {},
   "outputs": [
    {
     "data": {
      "text/html": [
       "<table border=\"1\" class=\"dataframe\">\n",
       "    <thead>\n",
       "        <tr>\n",
       "            <th>Date</th> <th>Flight Number</th> <th>Destination</th> <th>Delay</th>\n",
       "        </tr>\n",
       "    </thead>\n",
       "    <tbody>\n",
       "        <tr>\n",
       "            <td>6/1/15</td> <td>73           </td> <td>HNL        </td> <td>257  </td>\n",
       "        </tr>\n",
       "        <tr>\n",
       "            <td>6/1/15</td> <td>217          </td> <td>EWR        </td> <td>28   </td>\n",
       "        </tr>\n",
       "        <tr>\n",
       "            <td>6/1/15</td> <td>237          </td> <td>STL        </td> <td>-3   </td>\n",
       "        </tr>\n",
       "        <tr>\n",
       "            <td>6/1/15</td> <td>250          </td> <td>SAN        </td> <td>0    </td>\n",
       "        </tr>\n",
       "        <tr>\n",
       "            <td>6/1/15</td> <td>267          </td> <td>PHL        </td> <td>64   </td>\n",
       "        </tr>\n",
       "        <tr>\n",
       "            <td>6/1/15</td> <td>273          </td> <td>SEA        </td> <td>-6   </td>\n",
       "        </tr>\n",
       "        <tr>\n",
       "            <td>6/1/15</td> <td>278          </td> <td>SEA        </td> <td>-8   </td>\n",
       "        </tr>\n",
       "        <tr>\n",
       "            <td>6/1/15</td> <td>292          </td> <td>EWR        </td> <td>12   </td>\n",
       "        </tr>\n",
       "        <tr>\n",
       "            <td>6/1/15</td> <td>300          </td> <td>HNL        </td> <td>20   </td>\n",
       "        </tr>\n",
       "        <tr>\n",
       "            <td>6/1/15</td> <td>317          </td> <td>IND        </td> <td>-10  </td>\n",
       "        </tr>\n",
       "    </tbody>\n",
       "</table>\n",
       "<p>... (13815 rows omitted)</p>"
      ],
      "text/plain": [
       "Date   | Flight Number | Destination | Delay\n",
       "6/1/15 | 73            | HNL         | 257\n",
       "6/1/15 | 217           | EWR         | 28\n",
       "6/1/15 | 237           | STL         | -3\n",
       "6/1/15 | 250           | SAN         | 0\n",
       "6/1/15 | 267           | PHL         | 64\n",
       "6/1/15 | 273           | SEA         | -6\n",
       "6/1/15 | 278           | SEA         | -8\n",
       "6/1/15 | 292           | EWR         | 12\n",
       "6/1/15 | 300           | HNL         | 20\n",
       "6/1/15 | 317           | IND         | -10\n",
       "... (13815 rows omitted)"
      ]
     },
     "execution_count": 51,
     "metadata": {},
     "output_type": "execute_result"
    }
   ],
   "source": [
    "united = Table().read_table(\".csv/united.csv\")\n",
    "united"
   ]
  },
  {
   "cell_type": "code",
   "execution_count": 52,
   "id": "45c6bc13-b54b-4e51-90c0-44df17d2899f",
   "metadata": {},
   "outputs": [
    {
     "data": {
      "text/plain": [
       "2.0"
      ]
     },
     "execution_count": 52,
     "metadata": {},
     "output_type": "execute_result"
    }
   ],
   "source": [
    "np.median(united.column(\"Delay\"))"
   ]
  },
  {
   "cell_type": "code",
   "execution_count": 53,
   "id": "0aec17c7-507d-4705-8b14-baad7a035e03",
   "metadata": {},
   "outputs": [
    {
     "data": {
      "text/plain": [
       "2.5"
      ]
     },
     "execution_count": 53,
     "metadata": {},
     "output_type": "execute_result"
    }
   ],
   "source": [
    "#.sample gives random numbers from table\n",
    "np.median(united.sample(10).column(\"Delay\"))"
   ]
  },
  {
   "cell_type": "code",
   "execution_count": 54,
   "id": "6adc528f-b1bd-40d4-b4cc-9ce26a9a17b7",
   "metadata": {},
   "outputs": [
    {
     "data": {
      "text/plain": [
       "0.0"
      ]
     },
     "execution_count": 54,
     "metadata": {},
     "output_type": "execute_result"
    }
   ],
   "source": [
    "np.median(united.sample(100).column(\"Delay\"))"
   ]
  },
  {
   "cell_type": "code",
   "execution_count": 55,
   "id": "c4a63f2c-8122-4904-89d9-eed452358ad5",
   "metadata": {},
   "outputs": [
    {
     "data": {
      "text/plain": [
       "3.0"
      ]
     },
     "execution_count": 55,
     "metadata": {},
     "output_type": "execute_result"
    }
   ],
   "source": [
    "np.median(united.sample(100).column(\"Delay\"))"
   ]
  },
  {
   "cell_type": "code",
   "execution_count": 56,
   "id": "688577bd-8203-4c04-9103-7971355b6d7c",
   "metadata": {},
   "outputs": [],
   "source": [
    "def sample_median(a):\n",
    "    return np.median(united.sample(a).column(\"Delay\"))"
   ]
  },
  {
   "cell_type": "code",
   "execution_count": 57,
   "id": "e0a3c7cb-e428-4f66-bd75-ceb979847891",
   "metadata": {},
   "outputs": [
    {
     "data": {
      "text/plain": [
       "3.5"
      ]
     },
     "execution_count": 57,
     "metadata": {},
     "output_type": "execute_result"
    }
   ],
   "source": [
    "sample_median(50)"
   ]
  },
  {
   "cell_type": "code",
   "execution_count": 58,
   "id": "dc707cba-5319-4d6d-81c0-6402ff9b676d",
   "metadata": {},
   "outputs": [
    {
     "data": {
      "text/plain": [
       "array([ 6.5, -3. ,  0.5, ...,  8.5, -1.5, -1. ])"
      ]
     },
     "execution_count": 58,
     "metadata": {},
     "output_type": "execute_result"
    }
   ],
   "source": [
    "num_simulation = 2000\n",
    "sample_medians = make_array()\n",
    "for i in np.arange(num_simulation):\n",
    "    new_median = sample_median(10)\n",
    "    sample_medians = np.append(sample_medians, new_median)\n",
    "sample_medians"
   ]
  },
  {
   "cell_type": "code",
   "execution_count": 59,
   "id": "d3be6b5a-1f3a-4ca8-b914-ba07ee520042",
   "metadata": {},
   "outputs": [
    {
     "data": {
      "text/html": [
       "<table border=\"1\" class=\"dataframe\">\n",
       "    <thead>\n",
       "        <tr>\n",
       "            <th>Sample Medians</th>\n",
       "        </tr>\n",
       "    </thead>\n",
       "    <tbody>\n",
       "        <tr>\n",
       "            <td>6.5           </td>\n",
       "        </tr>\n",
       "        <tr>\n",
       "            <td>-3            </td>\n",
       "        </tr>\n",
       "        <tr>\n",
       "            <td>0.5           </td>\n",
       "        </tr>\n",
       "        <tr>\n",
       "            <td>4.5           </td>\n",
       "        </tr>\n",
       "        <tr>\n",
       "            <td>-3.5          </td>\n",
       "        </tr>\n",
       "        <tr>\n",
       "            <td>-1            </td>\n",
       "        </tr>\n",
       "        <tr>\n",
       "            <td>-1.5          </td>\n",
       "        </tr>\n",
       "        <tr>\n",
       "            <td>-1.5          </td>\n",
       "        </tr>\n",
       "        <tr>\n",
       "            <td>0             </td>\n",
       "        </tr>\n",
       "        <tr>\n",
       "            <td>-0.5          </td>\n",
       "        </tr>\n",
       "    </tbody>\n",
       "</table>\n",
       "<p>... (1990 rows omitted)</p>"
      ],
      "text/plain": [
       "Sample Medians\n",
       "6.5\n",
       "-3\n",
       "0.5\n",
       "4.5\n",
       "-3.5\n",
       "-1\n",
       "-1.5\n",
       "-1.5\n",
       "0\n",
       "-0.5\n",
       "... (1990 rows omitted)"
      ]
     },
     "execution_count": 59,
     "metadata": {},
     "output_type": "execute_result"
    }
   ],
   "source": [
    "Table().with_column(\"Sample Medians\", sample_medians)"
   ]
  },
  {
   "cell_type": "code",
   "execution_count": 60,
   "id": "8149d63f-8404-420e-a5f3-0745f5596d34",
   "metadata": {},
   "outputs": [
    {
     "data": {
      "image/png": "[encoded data removed]",
      "text/plain": [
       "<Figure size 600x400 with 1 Axes>"
      ]
     },
     "metadata": {},
     "output_type": "display_data"
    }
   ],
   "source": [
    "Table().with_column(\"Sample Medians\", sample_medians).hist(bins=np.arange(-10,31))"
   ]
  },
  {
   "cell_type": "code",
   "execution_count": 61,
   "id": "ef606d4f-8de1-4a33-87b1-5a91d10b087b",
   "metadata": {},
   "outputs": [
    {
     "name": "stdout",
     "output_type": "stream",
     "text": [
      "[  5.   -0.5   5.5 ...,  -1.    2.5  13.5]\n",
      "[ 4.   0.5  4.  ...,  3.5  1.   2. ]\n",
      "[ 2.  3.  2. ...,  3.  3.  2.]\n"
     ]
    }
   ],
   "source": [
    "sample_medians_10 =make_array()\n",
    "sample_medians_100 =make_array()\n",
    "sample_medians_1000 =make_array()\n",
    "for i in np.arange(num_simulation):\n",
    "    new_median = sample_median(10)\n",
    "    sample_medians_10 = np.append(sample_medians_10, new_median)\n",
    "for i in np.arange(num_simulation):\n",
    "    new_median = sample_median(100)\n",
    "    sample_medians_100 = np.append(sample_medians_100, new_median)\n",
    "for i in np.arange(num_simulation):\n",
    "    new_median = sample_median(1000)\n",
    "    sample_medians_1000 = np.append(sample_medians_1000, new_median)\n",
    "    \n",
    "print(sample_medians_10)\n",
    "print(sample_medians_100)\n",
    "print(sample_medians_1000)"
   ]
  },
  {
   "cell_type": "code",
   "execution_count": 62,
   "id": "0b502256-057b-4605-a1cc-179a109679fa",
   "metadata": {},
   "outputs": [],
   "source": [
    "s_m = Table().with_columns(\"Size_10\", sample_medians_10, \"Size_100\", sample_medians_100, \"Size_1000\", sample_medians_1000)"
   ]
  },
  {
   "cell_type": "code",
   "execution_count": 63,
   "id": "a8f3ef64-4879-4729-aa3f-1e4e99115cbe",
   "metadata": {},
   "outputs": [
    {
     "data": {
      "text/html": [
       "<table border=\"1\" class=\"dataframe\">\n",
       "    <thead>\n",
       "        <tr>\n",
       "            <th>Size_10</th> <th>Size_100</th> <th>Size_1000</th>\n",
       "        </tr>\n",
       "    </thead>\n",
       "    <tbody>\n",
       "        <tr>\n",
       "            <td>5      </td> <td>4       </td> <td>2        </td>\n",
       "        </tr>\n",
       "        <tr>\n",
       "            <td>-0.5   </td> <td>0.5     </td> <td>3        </td>\n",
       "        </tr>\n",
       "        <tr>\n",
       "            <td>5.5    </td> <td>4       </td> <td>2        </td>\n",
       "        </tr>\n",
       "        <tr>\n",
       "            <td>15.5   </td> <td>4       </td> <td>3        </td>\n",
       "        </tr>\n",
       "        <tr>\n",
       "            <td>21     </td> <td>3.5     </td> <td>3        </td>\n",
       "        </tr>\n",
       "        <tr>\n",
       "            <td>2.5    </td> <td>0       </td> <td>2        </td>\n",
       "        </tr>\n",
       "        <tr>\n",
       "            <td>-1     </td> <td>1.5     </td> <td>1        </td>\n",
       "        </tr>\n",
       "        <tr>\n",
       "            <td>5      </td> <td>8       </td> <td>3        </td>\n",
       "        </tr>\n",
       "        <tr>\n",
       "            <td>2.5    </td> <td>0       </td> <td>3        </td>\n",
       "        </tr>\n",
       "        <tr>\n",
       "            <td>6.5    </td> <td>1.5     </td> <td>3        </td>\n",
       "        </tr>\n",
       "    </tbody>\n",
       "</table>\n",
       "<p>... (1990 rows omitted)</p>"
      ],
      "text/plain": [
       "Size_10 | Size_100 | Size_1000\n",
       "5       | 4        | 2\n",
       "-0.5    | 0.5      | 3\n",
       "5.5     | 4        | 2\n",
       "15.5    | 4        | 3\n",
       "21      | 3.5      | 3\n",
       "2.5     | 0        | 2\n",
       "-1      | 1.5      | 1\n",
       "5       | 8        | 3\n",
       "2.5     | 0        | 3\n",
       "6.5     | 1.5      | 3\n",
       "... (1990 rows omitted)"
      ]
     },
     "execution_count": 63,
     "metadata": {},
     "output_type": "execute_result"
    }
   ],
   "source": [
    "s_m"
   ]
  },
  {
   "cell_type": "code",
   "execution_count": 64,
   "id": "ab2686b6-0ced-4bb6-90f1-9d56349af7a8",
   "metadata": {},
   "outputs": [
    {
     "data": {
      "image/png": "[encoded data removed]",
      "text/plain": [
       "<Figure size 600x400 with 1 Axes>"
      ]
     },
     "metadata": {},
     "output_type": "display_data"
    }
   ],
   "source": [
    "s_m.hist(bins=np.arange(-5,30))"
   ]
  },
  {
   "cell_type": "code",
   "execution_count": 65,
   "id": "e443e5db-a364-4237-ace5-c0e483744bd2",
   "metadata": {},
   "outputs": [
    {
     "data": {
      "text/plain": [
       "array([ 0.31,  0.69])"
      ]
     },
     "execution_count": 65,
     "metadata": {},
     "output_type": "execute_result"
    }
   ],
   "source": [
    "'''def redo(number):\n",
    "    sample_medians = make_array()\n",
    "    for i in np.arange(2000):\n",
    "        new_median = sample_median(number)\n",
    "        sample_medians_10 = np.append(sample_medians, new_median)\n",
    "    return sample_medians\n",
    "new_sample_medians_10 = redo(10)\n",
    "new_sample_medians_100 = redo(100)\n",
    "new_sample_medians_1000 = redo(1000)'''\n",
    "population = make_array(0.26,0.74)\n",
    "#sample_proportions is inbuilt function\n",
    "sample_proportions(100, population_)"
   ]
  },
  {
   "cell_type": "code",
   "execution_count": 71,
   "id": "e0fefaa9-5a61-4233-a53f-0770c3a0c012",
   "metadata": {},
   "outputs": [],
   "source": [
    "def panel_porportions():\n",
    "    return sample_proportions(100, population).item(0)"
   ]
  },
  {
   "cell_type": "code",
   "execution_count": 72,
   "id": "d2679f34-965f-4ad6-b6f8-a08a3065259b",
   "metadata": {},
   "outputs": [
    {
     "data": {
      "text/plain": [
       "0.25"
      ]
     },
     "execution_count": 72,
     "metadata": {},
     "output_type": "execute_result"
    }
   ],
   "source": [
    "panel_porportions()"
   ]
  },
  {
   "cell_type": "code",
   "execution_count": 76,
   "id": "311d6fad-4465-4fa0-803b-551f853f28e8",
   "metadata": {},
   "outputs": [
    {
     "data": {
      "text/plain": [
       "array([ 28.,  19.,  25., ...,  27.,  34.,  26.])"
      ]
     },
     "execution_count": 76,
     "metadata": {},
     "output_type": "execute_result"
    }
   ],
   "source": [
    "panels = make_array()\n",
    "for i in np.arange(10000):\n",
    "    new_panels = panel_porportions()*100\n",
    "    panels = np.append(panels, new_panels)\n",
    "panels"
   ]
  },
  {
   "cell_type": "code",
   "execution_count": 77,
   "id": "1c755111-aeb3-4c69-8e0a-fac44a796b12",
   "metadata": {},
   "outputs": [
    {
     "data": {
      "text/html": [
       "<table border=\"1\" class=\"dataframe\">\n",
       "    <thead>\n",
       "        <tr>\n",
       "            <th>Number of Black Men</th>\n",
       "        </tr>\n",
       "    </thead>\n",
       "    <tbody>\n",
       "        <tr>\n",
       "            <td>28                 </td>\n",
       "        </tr>\n",
       "        <tr>\n",
       "            <td>19                 </td>\n",
       "        </tr>\n",
       "        <tr>\n",
       "            <td>25                 </td>\n",
       "        </tr>\n",
       "        <tr>\n",
       "            <td>24                 </td>\n",
       "        </tr>\n",
       "        <tr>\n",
       "            <td>34                 </td>\n",
       "        </tr>\n",
       "        <tr>\n",
       "            <td>25                 </td>\n",
       "        </tr>\n",
       "        <tr>\n",
       "            <td>24                 </td>\n",
       "        </tr>\n",
       "        <tr>\n",
       "            <td>20                 </td>\n",
       "        </tr>\n",
       "        <tr>\n",
       "            <td>26                 </td>\n",
       "        </tr>\n",
       "        <tr>\n",
       "            <td>19                 </td>\n",
       "        </tr>\n",
       "    </tbody>\n",
       "</table>\n",
       "<p>... (9990 rows omitted)</p>"
      ],
      "text/plain": [
       "Number of Black Men\n",
       "28\n",
       "19\n",
       "25\n",
       "24\n",
       "34\n",
       "25\n",
       "24\n",
       "20\n",
       "26\n",
       "19\n",
       "... (9990 rows omitted)"
      ]
     },
     "execution_count": 77,
     "metadata": {},
     "output_type": "execute_result"
    }
   ],
   "source": [
    "Table().with_column(\"Number of Black Men\",panels)"
   ]
  },
  {
   "cell_type": "code",
   "execution_count": 78,
   "id": "3c6c71db-4ad5-4a24-b707-65cb37846d16",
   "metadata": {},
   "outputs": [
    {
     "data": {
      "text/plain": [
       "<matplotlib.collections.PathCollection at 0x27d53856490>"
      ]
     },
     "execution_count": 78,
     "metadata": {},
     "output_type": "execute_result"
    },
    {
     "data": {
      "image/png": "[encoded data removed]",
      "text/plain": [
       "<Figure size 600x400 with 1 Axes>"
      ]
     },
     "metadata": {},
     "output_type": "display_data"
    }
   ],
   "source": [
    "Table().with_column(\"Number of Black Men\",panels).hist(bins=np.arange(5.5,40.2))\n",
    "plots.ylim(-0.002, 0.09)\n",
    "plots.scatter(8,0,color='red', s=30)"
   ]
  },
  {
   "cell_type": "code",
   "execution_count": null,
   "id": "41a110d1-642f-42af-95c7-c78cdceef85b",
   "metadata": {},
   "outputs": [],
   "source": []
  },
  {
   "cell_type": "code",
   "execution_count": null,
   "id": "b52b3365-07bb-4b98-bfe9-2e35505fad87",
   "metadata": {},
   "outputs": [],
   "source": []
  },
  {
   "cell_type": "code",
   "execution_count": null,
   "id": "f87acc8f-1cda-4543-9fed-1d0b0859ec32",
   "metadata": {},
   "outputs": [],
   "source": []
  },
  {
   "cell_type": "code",
   "execution_count": null,
   "id": "1983c99c-b5e2-4500-8730-7114d8655e96",
   "metadata": {},
   "outputs": [],
   "source": []
  },
  {
   "cell_type": "code",
   "execution_count": null,
   "id": "b8131874-aced-4b90-a9c8-dc77e88bf2e7",
   "metadata": {},
   "outputs": [],
   "source": []
  },
  {
   "cell_type": "code",
   "execution_count": null,
   "id": "875ca879-4b8f-475a-af1d-eb7c30bded42",
   "metadata": {},
   "outputs": [],
   "source": []
  },
  {
   "cell_type": "code",
   "execution_count": null,
   "id": "cec3e7dc-95eb-4e57-a249-928b181e26f7",
   "metadata": {},
   "outputs": [],
   "source": []
  },
  {
   "cell_type": "code",
   "execution_count": null,
   "id": "36986ccc-bcab-480c-a19a-d71ddb723900",
   "metadata": {},
   "outputs": [],
   "source": []
  },
  {
   "cell_type": "code",
   "execution_count": null,
   "id": "9c632505-7fc5-4b6a-a12f-94ad8686d0a0",
   "metadata": {},
   "outputs": [],
   "source": []
  },
  {
   "cell_type": "code",
   "execution_count": null,
   "id": "b0c77098-f056-4967-b42f-c1da4954b01a",
   "metadata": {},
   "outputs": [],
   "source": []
  },
  {
   "cell_type": "code",
   "execution_count": null,
   "id": "dfec830f-1213-41f0-8ecb-c5039a7e1f50",
   "metadata": {},
   "outputs": [],
   "source": []
  },
  {
   "cell_type": "code",
   "execution_count": null,
   "id": "59233bbf-1082-4127-99d7-618643cf67ca",
   "metadata": {},
   "outputs": [],
   "source": []
  },
  {
   "cell_type": "code",
   "execution_count": null,
   "id": "06582a7b-1155-44a3-b429-c693e36117e7",
   "metadata": {},
   "outputs": [],
   "source": []
  },
  {
   "cell_type": "code",
   "execution_count": null,
   "id": "5987cd9d-fc97-4a13-b617-b5d58cbf8299",
   "metadata": {},
   "outputs": [],
   "source": []
  },
  {
   "cell_type": "code",
   "execution_count": null,
   "id": "88f01503-21a8-433b-aab5-adaefd4df3d7",
   "metadata": {},
   "outputs": [],
   "source": []
  },
  {
   "cell_type": "code",
   "execution_count": null,
   "id": "85a0431a-b5c9-4ce8-b0d7-2045ddfad6aa",
   "metadata": {},
   "outputs": [],
   "source": []
  }
 ],
 "metadata": {
  "kernelspec": {
   "display_name": "Python 3 (ipykernel)",
   "language": "python",
   "name": "python3"
  },
  "language_info": {
   "codemirror_mode": {
    "name": "ipython",
    "version": 3
   },
   "file_extension": ".py",
   "mimetype": "text/x-python",
   "name": "python",
   "nbconvert_exporter": "python",
   "pygments_lexer": "ipython3",
   "version": "3.11.9"
  }
 },
 "nbformat": 4,
 "nbformat_minor": 5
}
