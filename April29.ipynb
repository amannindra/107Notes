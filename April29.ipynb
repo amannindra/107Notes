{
 "cells": [
  {
   "cell_type": "code",
   "execution_count": 1,
   "id": "2f322813-42c8-44da-b4ba-3c7b7e0ca4e3",
   "metadata": {},
   "outputs": [],
   "source": [
    "%matplotlib inline\n",
    "import numpy as np\n",
    "from datascience import *\n",
    "import matplotlib\n",
    "import matplotlib.pyplot as plt\n",
    "import pandas as pd\n",
    "plt.style.use('fivethirtyeight')"
   ]
  },
  {
   "cell_type": "code",
   "execution_count": 2,
   "id": "727c08c8-5c4f-411f-80c3-7139200b4184",
   "metadata": {},
   "outputs": [],
   "source": [
    "#def flip_coin_10_times():\n",
    " #   prop = make_array(0.5,0.5) \n",
    "  #  prop = np.append(prop, sample_proportations(0.5, 0.05"
   ]
  },
  {
   "cell_type": "code",
   "execution_count": 12,
   "id": "dc2735e4-168d-4df9-b1d7-440f1ea094c9",
   "metadata": {},
   "outputs": [
    {
     "data": {
      "text/plain": [
       "array([ 0.4,  0.6])"
      ]
     },
     "execution_count": 12,
     "metadata": {},
     "output_type": "execute_result"
    }
   ],
   "source": [
    "probabilities = make_array(0.5, 0.5)\n",
    "sample_proportions(10, probabilities)\n"
   ]
  },
  {
   "cell_type": "code",
   "execution_count": 25,
   "id": "83edd38c-efb1-4925-ae00-3bfc8f28cbd9",
   "metadata": {},
   "outputs": [
    {
     "name": "stdout",
     "output_type": "stream",
     "text": [
      "[ 0.4  0.6]\n",
      "40.0\n"
     ]
    }
   ],
   "source": [
    "def flip_coin_10_times():\n",
    "    probabilities = make_array(0.5, 0.5) \n",
    "    proportions = sample_proportions(10, probabilities)\n",
    "    print(proportions)\n",
    "    num_heads = proportions[0]*100\n",
    "    return num_heads\n",
    "print(flip_coin_10_times())"
   ]
  },
  {
   "cell_type": "code",
   "execution_count": 31,
   "id": "b39b805d-dec7-4faf-9f4f-3353ed0909c9",
   "metadata": {},
   "outputs": [
    {
     "data": {
      "text/plain": [
       "0.5"
      ]
     },
     "execution_count": 31,
     "metadata": {},
     "output_type": "execute_result"
    }
   ],
   "source": [
    "np.random.choice(make_array(0.5, 0.5))"
   ]
  },
  {
   "cell_type": "code",
   "execution_count": 33,
   "id": "ecf5e9fb-57f6-4aa2-b008-5fd881ecc818",
   "metadata": {},
   "outputs": [],
   "source": [
    "def flip_coin():\n",
    "    probabilities = make_array(1,0) \n",
    "    probabilities_10_arr = np.random.choice(probabilities, 10)\n",
    "    num_heads = np.sum(probabilities_10_arr)\n",
    "    return np.abs(num_heads - 5)"
   ]
  },
  {
   "cell_type": "code",
   "execution_count": null,
   "id": "20e3a37f-3656-4830-9748-6ea0e27916c7",
   "metadata": {},
   "outputs": [],
   "source": []
  }
 ],
 "metadata": {
  "kernelspec": {
   "display_name": "Python 3 (ipykernel)",
   "language": "python",
   "name": "python3"
  },
  "language_info": {
   "codemirror_mode": {
    "name": "ipython",
    "version": 3
   },
   "file_extension": ".py",
   "mimetype": "text/x-python",
   "name": "python",
   "nbconvert_exporter": "python",
   "pygments_lexer": "ipython3",
   "version": "3.11.9"
  }
 },
 "nbformat": 4,
 "nbformat_minor": 5
}
