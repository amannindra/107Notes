{
 "cells": [
  {
   "cell_type": "code",
   "execution_count": 2,
   "id": "3d717d8c-4157-4ec4-ad19-626368c83bba",
   "metadata": {},
   "outputs": [
    {
     "data": {
      "text/plain": [
       "'\\nManufacturers of Super Soda run a taste test. \\n91 out of 200 perfer Super Soda over its rival\\nQuestion Do fewer people prefer Super Soda than its rival, or is this just chance?\\n\\nNull hypothesis: The same proportion of people prefer super as rival\\nAlternative hypothsis: A smaller proportion of people perfer Super\\nTest Statisitc: Number of people( out of 200) who preer Super\\n\\n\\nStart the simulation under the idea that the null hypothesis is true\\n'"
      ]
     },
     "execution_count": 2,
     "metadata": {},
     "output_type": "execute_result"
    }
   ],
   "source": [
    "'''\n",
    "Manufacturers of Super Soda run a taste test. \n",
    "91 out of 200 perfer Super Soda over its rival\n",
    "Question Do fewer people prefer Super Soda than its rival, or is this just chance?\n",
    "\n",
    "Null hypothesis: The same proportion of people prefer super as rival\n",
    "Alternative hypothsis: A smaller proportion of people perfer Super\n",
    "Test Statisitc: Number of people( out of 200) who preer Super\n",
    "\n",
    "\n",
    "Start the simulation under the idea that the null hypothesis is true\n",
    "'''"
   ]
  },
  {
   "cell_type": "code",
   "execution_count": 3,
   "id": "ec0a2cc6-cff7-4a97-8f8c-8149a9838d34",
   "metadata": {},
   "outputs": [],
   "source": [
    "import numpy as np\n",
    "import warnings\n",
    "warnings.filterwarnings(\"ignore\")\n",
    "%matplotlib inline\n",
    "import matplotlib.pyplot as plots\n",
    "from datascience import *\n",
    "plots.style.use(\"fivethirtyeight\")\n",
    "plots.rcParams[\"patch.force_edgecolor\"]=True"
   ]
  },
  {
   "cell_type": "code",
   "execution_count": 6,
   "id": "721fbe6d-356d-402e-9de7-34a4d6079dc8",
   "metadata": {},
   "outputs": [
    {
     "data": {
      "text/plain": [
       "'T'"
      ]
     },
     "execution_count": 6,
     "metadata": {},
     "output_type": "execute_result"
    }
   ],
   "source": [
    "np.random.choice([\"H\",\"T\"])"
   ]
  },
  {
   "cell_type": "code",
   "execution_count": 20,
   "id": "baa4bcd2-14d5-4991-8aa9-6785985f3054",
   "metadata": {},
   "outputs": [
    {
     "data": {
      "text/html": [
       "<table border=\"1\" class=\"dataframe\">\n",
       "    <thead>\n",
       "        <tr>\n",
       "            <th>HT</th> <th>count</th>\n",
       "        </tr>\n",
       "    </thead>\n",
       "    <tbody>\n",
       "        <tr>\n",
       "            <td>H   </td> <td>5006 </td>\n",
       "        </tr>\n",
       "        <tr>\n",
       "            <td>T   </td> <td>4994 </td>\n",
       "        </tr>\n",
       "    </tbody>\n",
       "</table>"
      ],
      "text/plain": [
       "HT   | count\n",
       "H    | 5006\n",
       "T    | 4994"
      ]
     },
     "execution_count": 20,
     "metadata": {},
     "output_type": "execute_result"
    }
   ],
   "source": [
    "\n",
    "#Own Way\n",
    "arr = make_array()\n",
    "for i in np.arange(10000):\n",
    "    arr = np.append(arr, np.random.choice([\"H\",\"T\"]))\n",
    "arrTable = Table().with_column(\"HT\", arr)\n",
    "arrTable.group(\"HT\")"
   ]
  },
  {
   "cell_type": "code",
   "execution_count": 27,
   "id": "e6431423-76e9-4c30-a9d6-173cbb8eff03",
   "metadata": {},
   "outputs": [
    {
     "data": {
      "text/plain": [
       "105"
      ]
     },
     "execution_count": 27,
     "metadata": {},
     "output_type": "execute_result"
    }
   ],
   "source": [
    "def simulation_one_count(samle_size):\n",
    "    return np.count_nonzero(np.random.choice([\"H\",\"T\"], samle_size)==\"H\")\n",
    "simulation_one_count(200)"
   ]
  },
  {
   "cell_type": "code",
   "execution_count": 34,
   "id": "04ba6d55-901d-4dc1-adec-80ddb896d9dd",
   "metadata": {},
   "outputs": [],
   "source": [
    "num_simulation = 10000\n",
    "counts = make_array()\n",
    "for i in np.arange(num_simulation):\n",
    "    counts = np.append(counts, simulation_one_count(200))\n",
    "count = Table().with_column(\"countt\", counts)\n",
    "count.hist()"
   ]
  },
  {
   "cell_type": "code",
   "execution_count": null,
   "id": "50c989f3-f8d1-46e8-aff7-c6dfe855b11b",
   "metadata": {},
   "outputs": [],
   "source": []
  }
 ],
 "metadata": {
  "kernelspec": {
   "display_name": "Python 3 (ipykernel)",
   "language": "python",
   "name": "python3"
  },
  "language_info": {
   "codemirror_mode": {
    "name": "ipython",
    "version": 3
   },
   "file_extension": ".py",
   "mimetype": "text/x-python",
   "name": "python",
   "nbconvert_exporter": "python",
   "pygments_lexer": "ipython3",
   "version": "3.11.9"
  }
 },
 "nbformat": 4,
 "nbformat_minor": 5
}
